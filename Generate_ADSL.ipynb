{
  "cells": [
    {
      "cell_type": "markdown",
      "metadata": {
        "id": "view-in-github",
        "colab_type": "text"
      },
      "source": [
        "<a href=\"https://colab.research.google.com/github/Alphabf/CDISC-Implementation/blob/main/Generate_ADSL.ipynb\" target=\"_parent\"><img src=\"https://colab.research.google.com/assets/colab-badge.svg\" alt=\"Open In Colab\"/></a>"
      ]
    },
    {
      "cell_type": "code",
      "execution_count": null,
      "id": "42bec6b2-e96a-4412-8c6c-045478bc8e2f",
      "metadata": {
        "id": "42bec6b2-e96a-4412-8c6c-045478bc8e2f"
      },
      "outputs": [],
      "source": [
        "library(glue)\n",
        "library(tidyverse)\n",
        "library(haven)\n",
        "library(assertthat)\n",
        "library(huxtable)\n",
        "library(data.table)\n",
        "library(lubridate)\n",
        "library(pharmaRTF)"
      ]
    },
    {
      "cell_type": "code",
      "execution_count": null,
      "id": "e52840d8-7edf-4160-8e51-6ac128559425",
      "metadata": {
        "id": "e52840d8-7edf-4160-8e51-6ac128559425",
        "outputId": "cb8e95d3-32fb-47c4-cdb3-b79610fabebb"
      },
      "outputs": [
        {
          "data": {
            "text/html": [
              "<style>\n",
              ".list-inline {list-style: none; margin:0; padding: 0}\n",
              ".list-inline>li {display: inline-block}\n",
              ".list-inline>li:not(:last-child)::after {content: \"\\00b7\"; padding: 0 .5ex}\n",
              "</style>\n",
              "<ol class=list-inline><li>'dm'</li><li>'ds'</li><li>'suppdm'</li><li>'vs'</li></ol>\n"
            ],
            "text/latex": [
              "\\begin{enumerate*}\n",
              "\\item 'dm'\n",
              "\\item 'ds'\n",
              "\\item 'suppdm'\n",
              "\\item 'vs'\n",
              "\\end{enumerate*}\n"
            ],
            "text/markdown": [
              "1. 'dm'\n",
              "2. 'ds'\n",
              "3. 'suppdm'\n",
              "4. 'vs'\n",
              "\n",
              "\n"
            ],
            "text/plain": [
              "[1] \"dm\"     \"ds\"     \"suppdm\" \"vs\"    "
            ]
          },
          "metadata": {},
          "output_type": "display_data"
        }
      ],
      "source": [
        "load(\"Data_Need_forADSL.RData\")\n",
        "ls()"
      ]
    },
    {
      "cell_type": "markdown",
      "id": "20b970f1-2da2-4cfd-9ec8-d56e60e69800",
      "metadata": {
        "id": "20b970f1-2da2-4cfd-9ec8-d56e60e69800"
      },
      "source": [
        "**Merge DM and SUPPDM**"
      ]
    },
    {
      "cell_type": "markdown",
      "id": "179db65b-1676-4343-a56c-d1176e58b25b",
      "metadata": {
        "id": "179db65b-1676-4343-a56c-d1176e58b25b"
      },
      "source": [
        "Transponse SUPPDM data such that each QNAM becomes a variable"
      ]
    },
    {
      "cell_type": "code",
      "execution_count": null,
      "id": "ec81c37c-fb8c-487a-9bd8-ab893e046aaf",
      "metadata": {
        "id": "ec81c37c-fb8c-487a-9bd8-ab893e046aaf"
      },
      "outputs": [],
      "source": [
        "suppdm01 <- suppdm %>%\n",
        "    mutate(qnam=str_to_lower(qnam)) %>%\n",
        "    group_by(studyid, usubjid) %>%\n",
        "    pivot_wider(id_cols=c(studyid,usubjid),names_from = qnam, values_from = qval)\n",
        "\n",
        "dm01 <- left_join(dm, suppdm01, by = c(\"studyid\", \"usubjid\"))"
      ]
    },
    {
      "cell_type": "code",
      "execution_count": null,
      "id": "6a50d26f-5fae-41e2-9798-cc1564661e6f",
      "metadata": {
        "id": "6a50d26f-5fae-41e2-9798-cc1564661e6f"
      },
      "outputs": [],
      "source": [
        "dm01"
      ]
    },
    {
      "cell_type": "markdown",
      "id": "f27bd7fd-c448-4ad3-8353-fb5cf30471f7",
      "metadata": {
        "id": "f27bd7fd-c448-4ad3-8353-fb5cf30471f7"
      },
      "source": [
        "**Create variables that are directly based on input variables**"
      ]
    },
    {
      "cell_type": "code",
      "execution_count": null,
      "id": "96a0c3e9-9324-4200-9222-3ed032ebe04e",
      "metadata": {
        "id": "96a0c3e9-9324-4200-9222-3ed032ebe04e"
      },
      "outputs": [],
      "source": [
        "adsl01 <- dm01 %>%\n",
        "\n",
        "    # Planned and actual treatment values;\n",
        "\n",
        "mutate(trt01p = if_else(armcd == \"PBO\", \"Placebo\", if_else(armcd == \"ACTIVE\", \"Active\", \"\")),\n",
        "       trt01a = if_else(actarmcd == \"PBO\", \"Placebo\", if_else(actarmcd == \"ACTIVE\", \"Active\", \"\")),\n",
        "       trt01pn = if_else(armcd == \"PBO\", 1, if_else(armcd == \"ACTIVE\", 2, NA)),\n",
        "       trt01an = if_else(actarmcd == \"PBO\", 1, if_else(actarmcd == \"ACTIVE\", 2, NA))) %>%\n",
        "\n",
        "    # Date conversions\n",
        "\n",
        "mutate(tr01sdt = as.Date(rfxstdtc),\n",
        "tr01edt = as.Date(rfxendtc),\n",
        "rficdt = as.Date(rficdtc),\n",
        "lstalvdt = as.Date(rfpendtc),\n",
        "dthdt = as.Date(dthdtc),\n",
        "trtsdt = tr01sdt,\n",
        "trtedt = tr01edt) %>%\n",
        "\n",
        "    # Grouping variables\n",
        "mutate(agegr1 = if_else(!is.na(age) & age < 60, \"< 60 Years\",\n",
        "if_else(age >= 60, \">= 60 Years\", \"\")),\n",
        "agegr1n = if_else(!is.na(age) & age < 60, 1, if_else(age >= 60, 2,NA)))"
      ]
    },
    {
      "cell_type": "code",
      "execution_count": null,
      "id": "641f2387-dbbd-465c-ba7a-9aa7195f51e4",
      "metadata": {
        "id": "641f2387-dbbd-465c-ba7a-9aa7195f51e4",
        "outputId": "b0e860ec-915c-47e5-eb8e-6efde632e385"
      },
      "outputs": [
        {
          "data": {
            "text/html": [
              "<table class=\"dataframe\">\n",
              "<caption>A tibble: 8 × 8</caption>\n",
              "<thead>\n",
              "\t<tr><th scope=col>usubjid</th><th scope=col>trt01p</th><th scope=col>trt01a</th><th scope=col>trt01pn</th><th scope=col>trt01an</th><th scope=col>agegr1</th><th scope=col>agegr1n</th><th scope=col>ethnic</th></tr>\n",
              "\t<tr><th scope=col>&lt;chr&gt;</th><th scope=col>&lt;chr&gt;</th><th scope=col>&lt;chr&gt;</th><th scope=col>&lt;dbl&gt;</th><th scope=col>&lt;dbl&gt;</th><th scope=col>&lt;chr&gt;</th><th scope=col>&lt;dbl&gt;</th><th scope=col>&lt;chr&gt;</th></tr>\n",
              "</thead>\n",
              "<tbody>\n",
              "\t<tr><td>CSG001-1001</td><td><span style=white-space:pre-wrap>       </span></td><td><span style=white-space:pre-wrap>       </span></td><td>NA</td><td>NA</td><td>&lt; 60 Years </td><td>1</td><td><span style=white-space:pre-wrap>HISPANIC OR LATINO    </span></td></tr>\n",
              "\t<tr><td>CSG001-1002</td><td><span style=white-space:pre-wrap>       </span></td><td><span style=white-space:pre-wrap>       </span></td><td>NA</td><td>NA</td><td>&lt; 60 Years </td><td>1</td><td>NOT HISPANIC OR LATINO</td></tr>\n",
              "\t<tr><td>CSG001-1003</td><td>Placebo</td><td><span style=white-space:pre-wrap>       </span></td><td> 1</td><td>NA</td><td>&lt; 60 Years </td><td>1</td><td><span style=white-space:pre-wrap>HISPANIC OR LATINO    </span></td></tr>\n",
              "\t<tr><td>CSG001-1004</td><td>Active </td><td>Active </td><td> 2</td><td> 2</td><td>&lt; 60 Years </td><td>1</td><td><span style=white-space:pre-wrap>HISPANIC OR LATINO    </span></td></tr>\n",
              "\t<tr><td>CSG001-1005</td><td>Active </td><td>Placebo</td><td> 2</td><td> 1</td><td>&gt;= 60 Years</td><td>2</td><td>NOT HISPANIC OR LATINO</td></tr>\n",
              "\t<tr><td>CSG001-1006</td><td>Placebo</td><td>Placebo</td><td> 1</td><td> 1</td><td>&gt;= 60 Years</td><td>2</td><td>NOT HISPANIC OR LATINO</td></tr>\n",
              "\t<tr><td>CSG001-1007</td><td>Placebo</td><td>Placebo</td><td> 1</td><td> 1</td><td>&lt; 60 Years </td><td>1</td><td>NOT HISPANIC OR LATINO</td></tr>\n",
              "\t<tr><td>CSG001-1008</td><td>Active </td><td>Active </td><td> 2</td><td> 2</td><td>&gt;= 60 Years</td><td>2</td><td>NOT HISPANIC OR LATINO</td></tr>\n",
              "</tbody>\n",
              "</table>\n"
            ],
            "text/latex": [
              "A tibble: 8 × 8\n",
              "\\begin{tabular}{llllllll}\n",
              " usubjid & trt01p & trt01a & trt01pn & trt01an & agegr1 & agegr1n & ethnic\\\\\n",
              " <chr> & <chr> & <chr> & <dbl> & <dbl> & <chr> & <dbl> & <chr>\\\\\n",
              "\\hline\n",
              "\t CSG001-1001 &         &         & NA & NA & < 60 Years  & 1 & HISPANIC OR LATINO    \\\\\n",
              "\t CSG001-1002 &         &         & NA & NA & < 60 Years  & 1 & NOT HISPANIC OR LATINO\\\\\n",
              "\t CSG001-1003 & Placebo &         &  1 & NA & < 60 Years  & 1 & HISPANIC OR LATINO    \\\\\n",
              "\t CSG001-1004 & Active  & Active  &  2 &  2 & < 60 Years  & 1 & HISPANIC OR LATINO    \\\\\n",
              "\t CSG001-1005 & Active  & Placebo &  2 &  1 & >= 60 Years & 2 & NOT HISPANIC OR LATINO\\\\\n",
              "\t CSG001-1006 & Placebo & Placebo &  1 &  1 & >= 60 Years & 2 & NOT HISPANIC OR LATINO\\\\\n",
              "\t CSG001-1007 & Placebo & Placebo &  1 &  1 & < 60 Years  & 1 & NOT HISPANIC OR LATINO\\\\\n",
              "\t CSG001-1008 & Active  & Active  &  2 &  2 & >= 60 Years & 2 & NOT HISPANIC OR LATINO\\\\\n",
              "\\end{tabular}\n"
            ],
            "text/markdown": [
              "\n",
              "A tibble: 8 × 8\n",
              "\n",
              "| usubjid &lt;chr&gt; | trt01p &lt;chr&gt; | trt01a &lt;chr&gt; | trt01pn &lt;dbl&gt; | trt01an &lt;dbl&gt; | agegr1 &lt;chr&gt; | agegr1n &lt;dbl&gt; | ethnic &lt;chr&gt; |\n",
              "|---|---|---|---|---|---|---|---|\n",
              "| CSG001-1001 | <!----> | <!----> | NA | NA | &lt; 60 Years  | 1 | HISPANIC OR LATINO     |\n",
              "| CSG001-1002 | <!----> | <!----> | NA | NA | &lt; 60 Years  | 1 | NOT HISPANIC OR LATINO |\n",
              "| CSG001-1003 | Placebo | <!----> |  1 | NA | &lt; 60 Years  | 1 | HISPANIC OR LATINO     |\n",
              "| CSG001-1004 | Active  | Active  |  2 |  2 | &lt; 60 Years  | 1 | HISPANIC OR LATINO     |\n",
              "| CSG001-1005 | Active  | Placebo |  2 |  1 | &gt;= 60 Years | 2 | NOT HISPANIC OR LATINO |\n",
              "| CSG001-1006 | Placebo | Placebo |  1 |  1 | &gt;= 60 Years | 2 | NOT HISPANIC OR LATINO |\n",
              "| CSG001-1007 | Placebo | Placebo |  1 |  1 | &lt; 60 Years  | 1 | NOT HISPANIC OR LATINO |\n",
              "| CSG001-1008 | Active  | Active  |  2 |  2 | &gt;= 60 Years | 2 | NOT HISPANIC OR LATINO |\n",
              "\n"
            ],
            "text/plain": [
              "  usubjid     trt01p  trt01a  trt01pn trt01an agegr1      agegr1n\n",
              "1 CSG001-1001                 NA      NA      < 60 Years  1      \n",
              "2 CSG001-1002                 NA      NA      < 60 Years  1      \n",
              "3 CSG001-1003 Placebo          1      NA      < 60 Years  1      \n",
              "4 CSG001-1004 Active  Active   2       2      < 60 Years  1      \n",
              "5 CSG001-1005 Active  Placebo  2       1      >= 60 Years 2      \n",
              "6 CSG001-1006 Placebo Placebo  1       1      >= 60 Years 2      \n",
              "7 CSG001-1007 Placebo Placebo  1       1      < 60 Years  1      \n",
              "8 CSG001-1008 Active  Active   2       2      >= 60 Years 2      \n",
              "  ethnic                \n",
              "1 HISPANIC OR LATINO    \n",
              "2 NOT HISPANIC OR LATINO\n",
              "3 HISPANIC OR LATINO    \n",
              "4 HISPANIC OR LATINO    \n",
              "5 NOT HISPANIC OR LATINO\n",
              "6 NOT HISPANIC OR LATINO\n",
              "7 NOT HISPANIC OR LATINO\n",
              "8 NOT HISPANIC OR LATINO"
            ]
          },
          "metadata": {},
          "output_type": "display_data"
        }
      ],
      "source": [
        " select(adsl01, c('usubjid', 'trt01p','trt01a','trt01pn', 'trt01an','agegr1','agegr1n', 'ethnic'))"
      ]
    },
    {
      "cell_type": "markdown",
      "id": "2e96eea8-c316-4a60-8233-6e4da9e2c338",
      "metadata": {
        "id": "2e96eea8-c316-4a60-8233-6e4da9e2c338"
      },
      "source": [
        "**Process disposition data for treatment and study status**  \n",
        "      \n",
        "Enrollment"
      ]
    },
    {
      "cell_type": "code",
      "execution_count": null,
      "id": "77d1ed95-3bbc-40e3-8710-03f382ab8b88",
      "metadata": {
        "id": "77d1ed95-3bbc-40e3-8710-03f382ab8b88"
      },
      "outputs": [],
      "source": [
        "enrl01 <- ds %>%\n",
        "filter(dsterm == \"ENROLLED\") %>%\n",
        "mutate(enrldt = as.Date(dsstdtc)) %>%\n",
        "select(studyid, usubjid, enrldt)"
      ]
    },
    {
      "cell_type": "markdown",
      "id": "a71c2101-b71a-4a65-940b-5576b1df1016",
      "metadata": {
        "id": "a71c2101-b71a-4a65-940b-5576b1df1016"
      },
      "source": [
        "Randomization"
      ]
    },
    {
      "cell_type": "code",
      "execution_count": null,
      "id": "d48626ca-f774-4e23-bb48-2b733d3405b0",
      "metadata": {
        "id": "d48626ca-f774-4e23-bb48-2b733d3405b0"
      },
      "outputs": [],
      "source": [
        "rand01 <- ds %>%\n",
        "filter(dsterm == \"RANDOMIZED\") %>%\n",
        "mutate(randdt = as.Date(dsstdtc)) %>%\n",
        "select(studyid, usubjid, randdt)"
      ]
    },
    {
      "cell_type": "markdown",
      "id": "e2653a2f-1d0b-4013-b0fe-51e282d0a4f8",
      "metadata": {
        "id": "e2653a2f-1d0b-4013-b0fe-51e282d0a4f8"
      },
      "source": [
        "End of treatment"
      ]
    },
    {
      "cell_type": "code",
      "execution_count": null,
      "id": "807bec6a-c087-495c-ae4e-dcac7c3b2004",
      "metadata": {
        "id": "807bec6a-c087-495c-ae4e-dcac7c3b2004"
      },
      "outputs": [],
      "source": [
        "eot01 <- ds %>%\n",
        " filter(dsscat == \"END OF TREATMENT\") %>%\n",
        " mutate(\n",
        " eotstt = case_when(\n",
        " dsdecod == \"COMPLETED\" ~ \"COMPLETED\",\n",
        " dsdecod != \"\" ~ \"DISCONTINUED\",\n",
        " TRUE ~ NA\n",
        " ),\n",
        " dctreas = if_else(dsdecod != \"COMPLETED\", dsdecod, NA),\n",
        " ineot = 1\n",
        " ) %>%\n",
        " select(studyid, usubjid, eotstt, dctreas, ineot)"
      ]
    },
    {
      "cell_type": "markdown",
      "id": "5c1e78b2-3515-4ec2-8fa5-36bb86ad8c27",
      "metadata": {
        "id": "5c1e78b2-3515-4ec2-8fa5-36bb86ad8c27"
      },
      "source": [
        "\n",
        "                 \n",
        "End of study;"
      ]
    },
    {
      "cell_type": "code",
      "execution_count": null,
      "id": "6ba40640-e39d-46a8-944a-a3a6b0b183b9",
      "metadata": {
        "id": "6ba40640-e39d-46a8-944a-a3a6b0b183b9"
      },
      "outputs": [],
      "source": [
        "eos01 <- ds %>%\n",
        " filter(dsscat == \"END OF STUDY\") %>%\n",
        " mutate(\n",
        " eosstt = case_when(\n",
        " dsdecod == \"COMPLETED\" ~ \"COMPLETED\",\n",
        " dsdecod != \"\" ~ \"DISCONTINUED\",\n",
        " TRUE ~ NA\n",
        " ),\n",
        " dcsreas = if_else(dsdecod != \"COMPLETED\", dsdecod, NA),\n",
        " eosdt = as.Date(dsstdtc),\n",
        " ineos = 1\n",
        " ) %>%\n",
        " select(studyid, usubjid, eosstt, dcsreas, eosdt, ineos)"
      ]
    },
    {
      "cell_type": "markdown",
      "id": "0177671d-b0bc-4a47-b6d0-df116b70a45c",
      "metadata": {
        "id": "0177671d-b0bc-4a47-b6d0-df116b70a45c"
      },
      "source": [
        "Baseline variables from vital signs;"
      ]
    },
    {
      "cell_type": "code",
      "execution_count": null,
      "id": "255179c5-e721-488b-a524-7b699f6a2c4a",
      "metadata": {
        "id": "255179c5-e721-488b-a524-7b699f6a2c4a"
      },
      "outputs": [],
      "source": [
        "heightbl <- vs %>%\n",
        " filter(vsblfl == \"Y\" & vstestcd == \"HEIGHT\") %>%\n",
        " select(studyid, usubjid, vsstresn) %>%\n",
        " rename(heightbl = vsstresn)\n",
        "\n",
        "weightbl <- vs %>%\n",
        " filter(vsblfl == \"Y\" & vstestcd == \"WEIGHT\") %>%\n",
        " select(studyid, usubjid, vsstresn) %>%\n",
        " rename(weightbl = vsstresn)\n",
        "\n"
      ]
    },
    {
      "cell_type": "markdown",
      "id": "b7773791-11c1-432f-8739-c9ed8773230a",
      "metadata": {
        "id": "b7773791-11c1-432f-8739-c9ed8773230a"
      },
      "source": [
        "Bring disposition and vital signs related info into parent dataset;"
      ]
    },
    {
      "cell_type": "code",
      "execution_count": null,
      "id": "15e8560f-20fd-41b8-83d3-eddd944368f7",
      "metadata": {
        "id": "15e8560f-20fd-41b8-83d3-eddd944368f7"
      },
      "outputs": [],
      "source": [
        "library(purrr)\n",
        "\n",
        "data_frames <- list(adsl01, eot01, eos01, enrl01, rand01, heightbl, weightbl)\n",
        "\n",
        "adsl02 <- reduce(data_frames, left_join, by = c(\"studyid\", \"usubjid\"))"
      ]
    },
    {
      "cell_type": "markdown",
      "id": "5d1ce0f6-7ce7-4bf3-ad85-9b5d6104ae60",
      "metadata": {
        "id": "5d1ce0f6-7ce7-4bf3-ad85-9b5d6104ae60"
      },
      "source": [
        "    "
      ]
    },
    {
      "cell_type": "markdown",
      "id": "aad09e1a-495f-4b28-ba46-e071b6fd5b30",
      "metadata": {
        "id": "aad09e1a-495f-4b28-ba46-e071b6fd5b30"
      },
      "source": [
        "Create variables/assign values to existing variables which are dependent on their variables;"
      ]
    },
    {
      "cell_type": "code",
      "execution_count": null,
      "id": "cfacf1ab-890f-48d8-961a-cd54e6b8fdc7",
      "metadata": {
        "id": "cfacf1ab-890f-48d8-961a-cd54e6b8fdc7"
      },
      "outputs": [],
      "source": [
        "\n",
        "adsl03 <- adsl02 %>%\n",
        " mutate(\n",
        " saffl = if_else(!is.na(trtsdt), \"Y\", \"N\"),\n",
        " randfl = if_else(!is.na(randdt), \"Y\", \"N\"),\n",
        " enrlfl = if_else(!is.na(enrldt), \"Y\", \"N\"),\n",
        " complfl = if_else(eosstt == \"COMPLETED\", \"Y\", \"N\", \"N\"),\n",
        " eotstt = if_else((eotstt == \"\" | is.na(eotstt))  & is.na(ineot) & saffl == \"Y\", \"ONGOING\", eotstt),\n",
        " eosstt = if_else((eosstt == \"\" | is.na(eosstt)) & is.na(ineos) & saffl == \"Y\", \"ONGOING\", eosstt),\n",
        " trtdurd = if_else(!is.na(trtsdt) & !is.na(trtedt), trtedt - trtsdt + 1, NA),\n",
        " trtdurd = as.numeric(trtdurd)\n",
        " )"
      ]
    },
    {
      "cell_type": "code",
      "execution_count": null,
      "id": "b9ef2729-b997-4912-b362-9164f48ac4dd",
      "metadata": {
        "id": "b9ef2729-b997-4912-b362-9164f48ac4dd"
      },
      "outputs": [],
      "source": [
        "adsl03 <- adsl03 %>%\n",
        " mutate(across(where(is.character), ~if_else(is.na(.), \"\", .)))"
      ]
    },
    {
      "cell_type": "markdown",
      "id": "4c54de88-3361-40a7-8988-7c656507505a",
      "metadata": {
        "id": "4c54de88-3361-40a7-8988-7c656507505a"
      },
      "source": [
        "    "
      ]
    },
    {
      "cell_type": "markdown",
      "id": "0b37712e-834c-425b-b9d0-a05aaa2d8718",
      "metadata": {
        "id": "0b37712e-834c-425b-b9d0-a05aaa2d8718"
      },
      "source": [
        "Keep only required variables;"
      ]
    },
    {
      "cell_type": "code",
      "execution_count": null,
      "id": "e4c25775-82f5-4521-a9e7-72945ce6696f",
      "metadata": {
        "id": "e4c25775-82f5-4521-a9e7-72945ce6696f"
      },
      "outputs": [],
      "source": [
        "varlist <- c(\"STUDYID\", \"USUBJID\", \"SUBJID\", \"SITEID\", \"AGE\", \"AGEU\", \"AGEGR1\", \"AGEGR1N\", \"SEX\", \"RACE\", \"RACE1\", \"RACE2\", \"RACESP\", \"SAFFL\", \"COMPLFL\", \"RANDFL\", \"ENRLFL\", \"ARM\", \"ACTARM\", \"TRT01P\", \"TRT01PN\", \"TRT01A\", \"TRT01AN\", \"TRTSDT\", \"TRTEDT\", \"TR01SDT\", \"TR01EDT\", \"EOSSTT\", \"EOSDT\", \"DCSREAS\", \"EOTSTT\", \"DCTREAS\", \"RFICDT\", \"ENRLDT\", \"RANDDT\", \"LSTALVDT\", \"TRTDURD\", \"DTHDT\", \"HEIGHTBL\", \"WEIGHTBL\")\n",
        "\n",
        "adsl <- adsl03 %>%\n",
        " rename_all(toupper) %>%\n",
        " select(all_of(varlist))\n",
        "\n",
        "output<-adsl"
      ]
    },
    {
      "cell_type": "code",
      "execution_count": null,
      "id": "d7fd1069-600e-4c71-acc1-7c39e789b554",
      "metadata": {
        "id": "d7fd1069-600e-4c71-acc1-7c39e789b554",
        "outputId": "1553963a-5865-4389-93bd-679664eba367"
      },
      "outputs": [
        {
          "data": {
            "text/html": [
              "<table class=\"dataframe\">\n",
              "<caption>A tibble: 8 × 40</caption>\n",
              "<thead>\n",
              "\t<tr><th scope=col>STUDYID</th><th scope=col>USUBJID</th><th scope=col>SUBJID</th><th scope=col>SITEID</th><th scope=col>AGE</th><th scope=col>AGEU</th><th scope=col>AGEGR1</th><th scope=col>AGEGR1N</th><th scope=col>SEX</th><th scope=col>RACE</th><th scope=col>⋯</th><th scope=col>EOTSTT</th><th scope=col>DCTREAS</th><th scope=col>RFICDT</th><th scope=col>ENRLDT</th><th scope=col>RANDDT</th><th scope=col>LSTALVDT</th><th scope=col>TRTDURD</th><th scope=col>DTHDT</th><th scope=col>HEIGHTBL</th><th scope=col>WEIGHTBL</th></tr>\n",
              "\t<tr><th scope=col>&lt;chr&gt;</th><th scope=col>&lt;chr&gt;</th><th scope=col>&lt;chr&gt;</th><th scope=col>&lt;chr&gt;</th><th scope=col>&lt;dbl&gt;</th><th scope=col>&lt;chr&gt;</th><th scope=col>&lt;chr&gt;</th><th scope=col>&lt;dbl&gt;</th><th scope=col>&lt;chr&gt;</th><th scope=col>&lt;chr&gt;</th><th scope=col>⋯</th><th scope=col>&lt;chr&gt;</th><th scope=col>&lt;chr&gt;</th><th scope=col>&lt;date&gt;</th><th scope=col>&lt;date&gt;</th><th scope=col>&lt;date&gt;</th><th scope=col>&lt;date&gt;</th><th scope=col>&lt;dbl&gt;</th><th scope=col>&lt;date&gt;</th><th scope=col>&lt;dbl&gt;</th><th scope=col>&lt;dbl&gt;</th></tr>\n",
              "</thead>\n",
              "<tbody>\n",
              "\t<tr><td>CSG001</td><td>CSG001-1001</td><td>1001</td><td>10</td><td>35</td><td>YEARS</td><td>&lt; 60 Years </td><td>1</td><td>M</td><td><span style=white-space:pre-wrap>WHITE                                    </span></td><td>⋯</td><td><span style=white-space:pre-wrap>            </span></td><td><span style=white-space:pre-wrap>               </span></td><td>2010-01-01</td><td>NA</td><td>NA</td><td>2010-01-01</td><td>NA</td><td>NA</td><td><span style=white-space:pre-wrap>    NA</span></td><td><span style=white-space:pre-wrap>  NA</span></td></tr>\n",
              "\t<tr><td>CSG001</td><td>CSG001-1002</td><td>1002</td><td>10</td><td>40</td><td>YEARS</td><td>&lt; 60 Years </td><td>1</td><td>F</td><td><span style=white-space:pre-wrap>MULTIPLE                                 </span></td><td>⋯</td><td><span style=white-space:pre-wrap>            </span></td><td><span style=white-space:pre-wrap>               </span></td><td>2010-01-01</td><td>2010-01-04</td><td>NA</td><td>2010-01-05</td><td>NA</td><td>NA</td><td><span style=white-space:pre-wrap>    NA</span></td><td><span style=white-space:pre-wrap>  NA</span></td></tr>\n",
              "\t<tr><td>CSG001</td><td>CSG001-1003</td><td>1003</td><td>10</td><td>40</td><td>YEARS</td><td>&lt; 60 Years </td><td>1</td><td>M</td><td><span style=white-space:pre-wrap>OTHER                                    </span></td><td>⋯</td><td><span style=white-space:pre-wrap>            </span></td><td><span style=white-space:pre-wrap>               </span></td><td>2010-01-01</td><td>2010-01-03</td><td>2010-01-03</td><td>2010-01-05</td><td>NA</td><td>2010-01-05</td><td><span style=white-space:pre-wrap>    NA</span></td><td><span style=white-space:pre-wrap>  NA</span></td></tr>\n",
              "\t<tr><td>CSG001</td><td>CSG001-1004</td><td>1004</td><td>10</td><td>38</td><td>YEARS</td><td>&lt; 60 Years </td><td>1</td><td>M</td><td><span style=white-space:pre-wrap>WHITE                                    </span></td><td>⋯</td><td><span style=white-space:pre-wrap>COMPLETED   </span></td><td><span style=white-space:pre-wrap>               </span></td><td>2010-01-01</td><td>2010-01-04</td><td>2010-01-05</td><td>2010-02-28</td><td>21</td><td>NA</td><td>177.00</td><td>87.3</td></tr>\n",
              "\t<tr><td>CSG001</td><td>CSG001-1005</td><td>1005</td><td>10</td><td>64</td><td>YEARS</td><td>&gt;= 60 Years</td><td>2</td><td>M</td><td><span style=white-space:pre-wrap>AMERICAN INDIAN OR ALASKA NATIVE         </span></td><td>⋯</td><td><span style=white-space:pre-wrap>ONGOING     </span></td><td><span style=white-space:pre-wrap>               </span></td><td>2010-01-15</td><td>2010-02-01</td><td>2010-02-05</td><td>2020-02-20</td><td> 8</td><td>NA</td><td> 66.14</td><td>76.1</td></tr>\n",
              "\t<tr><td>CSG001</td><td>CSG001-1006</td><td>1006</td><td>10</td><td>75</td><td>YEARS</td><td>&gt;= 60 Years</td><td>2</td><td>F</td><td>NATIVE HAWAIIAN OR OTHER PACIFIC ISLANDER</td><td>⋯</td><td>DISCONTINUED</td><td><span style=white-space:pre-wrap>ADVERSE EVENT  </span></td><td>2010-02-18</td><td>2010-03-01</td><td>2010-03-01</td><td>2010-03-25</td><td> 9</td><td>NA</td><td>160.00</td><td>60.9</td></tr>\n",
              "\t<tr><td>CSG001</td><td>CSG001-1007</td><td>1007</td><td>10</td><td>32</td><td>YEARS</td><td>&lt; 60 Years </td><td>1</td><td>M</td><td><span style=white-space:pre-wrap>UNKNOWN                                  </span></td><td>⋯</td><td><span style=white-space:pre-wrap>COMPLETED   </span></td><td><span style=white-space:pre-wrap>               </span></td><td>2010-04-04</td><td>2010-04-14</td><td>2010-04-14</td><td>2010-06-12</td><td>22</td><td>NA</td><td>178.00</td><td>85.4</td></tr>\n",
              "\t<tr><td>CSG001</td><td>CSG001-1008</td><td>1008</td><td>10</td><td>83</td><td>YEARS</td><td>&gt;= 60 Years</td><td>2</td><td>F</td><td><span style=white-space:pre-wrap>NOT REPORTED                             </span></td><td>⋯</td><td>DISCONTINUED</td><td>SUBJECT REQUEST</td><td>2010-06-20</td><td>2010-06-26</td><td>2010-06-27</td><td>2010-08-18</td><td>15</td><td>NA</td><td><span style=white-space:pre-wrap>    NA</span></td><td><span style=white-space:pre-wrap>  NA</span></td></tr>\n",
              "</tbody>\n",
              "</table>\n"
            ],
            "text/latex": [
              "A tibble: 8 × 40\n",
              "\\begin{tabular}{lllllllllllllllllllll}\n",
              " STUDYID & USUBJID & SUBJID & SITEID & AGE & AGEU & AGEGR1 & AGEGR1N & SEX & RACE & ⋯ & EOTSTT & DCTREAS & RFICDT & ENRLDT & RANDDT & LSTALVDT & TRTDURD & DTHDT & HEIGHTBL & WEIGHTBL\\\\\n",
              " <chr> & <chr> & <chr> & <chr> & <dbl> & <chr> & <chr> & <dbl> & <chr> & <chr> & ⋯ & <chr> & <chr> & <date> & <date> & <date> & <date> & <dbl> & <date> & <dbl> & <dbl>\\\\\n",
              "\\hline\n",
              "\t CSG001 & CSG001-1001 & 1001 & 10 & 35 & YEARS & < 60 Years  & 1 & M & WHITE                                     & ⋯ &              &                 & 2010-01-01 & NA & NA & 2010-01-01 & NA & NA &     NA &   NA\\\\\n",
              "\t CSG001 & CSG001-1002 & 1002 & 10 & 40 & YEARS & < 60 Years  & 1 & F & MULTIPLE                                  & ⋯ &              &                 & 2010-01-01 & 2010-01-04 & NA & 2010-01-05 & NA & NA &     NA &   NA\\\\\n",
              "\t CSG001 & CSG001-1003 & 1003 & 10 & 40 & YEARS & < 60 Years  & 1 & M & OTHER                                     & ⋯ &              &                 & 2010-01-01 & 2010-01-03 & 2010-01-03 & 2010-01-05 & NA & 2010-01-05 &     NA &   NA\\\\\n",
              "\t CSG001 & CSG001-1004 & 1004 & 10 & 38 & YEARS & < 60 Years  & 1 & M & WHITE                                     & ⋯ & COMPLETED    &                 & 2010-01-01 & 2010-01-04 & 2010-01-05 & 2010-02-28 & 21 & NA & 177.00 & 87.3\\\\\n",
              "\t CSG001 & CSG001-1005 & 1005 & 10 & 64 & YEARS & >= 60 Years & 2 & M & AMERICAN INDIAN OR ALASKA NATIVE          & ⋯ & ONGOING      &                 & 2010-01-15 & 2010-02-01 & 2010-02-05 & 2020-02-20 &  8 & NA &  66.14 & 76.1\\\\\n",
              "\t CSG001 & CSG001-1006 & 1006 & 10 & 75 & YEARS & >= 60 Years & 2 & F & NATIVE HAWAIIAN OR OTHER PACIFIC ISLANDER & ⋯ & DISCONTINUED & ADVERSE EVENT   & 2010-02-18 & 2010-03-01 & 2010-03-01 & 2010-03-25 &  9 & NA & 160.00 & 60.9\\\\\n",
              "\t CSG001 & CSG001-1007 & 1007 & 10 & 32 & YEARS & < 60 Years  & 1 & M & UNKNOWN                                   & ⋯ & COMPLETED    &                 & 2010-04-04 & 2010-04-14 & 2010-04-14 & 2010-06-12 & 22 & NA & 178.00 & 85.4\\\\\n",
              "\t CSG001 & CSG001-1008 & 1008 & 10 & 83 & YEARS & >= 60 Years & 2 & F & NOT REPORTED                              & ⋯ & DISCONTINUED & SUBJECT REQUEST & 2010-06-20 & 2010-06-26 & 2010-06-27 & 2010-08-18 & 15 & NA &     NA &   NA\\\\\n",
              "\\end{tabular}\n"
            ],
            "text/markdown": [
              "\n",
              "A tibble: 8 × 40\n",
              "\n",
              "| STUDYID &lt;chr&gt; | USUBJID &lt;chr&gt; | SUBJID &lt;chr&gt; | SITEID &lt;chr&gt; | AGE &lt;dbl&gt; | AGEU &lt;chr&gt; | AGEGR1 &lt;chr&gt; | AGEGR1N &lt;dbl&gt; | SEX &lt;chr&gt; | RACE &lt;chr&gt; | ⋯ ⋯ | EOTSTT &lt;chr&gt; | DCTREAS &lt;chr&gt; | RFICDT &lt;date&gt; | ENRLDT &lt;date&gt; | RANDDT &lt;date&gt; | LSTALVDT &lt;date&gt; | TRTDURD &lt;dbl&gt; | DTHDT &lt;date&gt; | HEIGHTBL &lt;dbl&gt; | WEIGHTBL &lt;dbl&gt; |\n",
              "|---|---|---|---|---|---|---|---|---|---|---|---|---|---|---|---|---|---|---|---|---|\n",
              "| CSG001 | CSG001-1001 | 1001 | 10 | 35 | YEARS | &lt; 60 Years  | 1 | M | WHITE                                     | ⋯ | <!----> | <!----> | 2010-01-01 | NA | NA | 2010-01-01 | NA | NA |     NA |   NA |\n",
              "| CSG001 | CSG001-1002 | 1002 | 10 | 40 | YEARS | &lt; 60 Years  | 1 | F | MULTIPLE                                  | ⋯ | <!----> | <!----> | 2010-01-01 | 2010-01-04 | NA | 2010-01-05 | NA | NA |     NA |   NA |\n",
              "| CSG001 | CSG001-1003 | 1003 | 10 | 40 | YEARS | &lt; 60 Years  | 1 | M | OTHER                                     | ⋯ | <!----> | <!----> | 2010-01-01 | 2010-01-03 | 2010-01-03 | 2010-01-05 | NA | 2010-01-05 |     NA |   NA |\n",
              "| CSG001 | CSG001-1004 | 1004 | 10 | 38 | YEARS | &lt; 60 Years  | 1 | M | WHITE                                     | ⋯ | COMPLETED    | <!----> | 2010-01-01 | 2010-01-04 | 2010-01-05 | 2010-02-28 | 21 | NA | 177.00 | 87.3 |\n",
              "| CSG001 | CSG001-1005 | 1005 | 10 | 64 | YEARS | &gt;= 60 Years | 2 | M | AMERICAN INDIAN OR ALASKA NATIVE          | ⋯ | ONGOING      | <!----> | 2010-01-15 | 2010-02-01 | 2010-02-05 | 2020-02-20 |  8 | NA |  66.14 | 76.1 |\n",
              "| CSG001 | CSG001-1006 | 1006 | 10 | 75 | YEARS | &gt;= 60 Years | 2 | F | NATIVE HAWAIIAN OR OTHER PACIFIC ISLANDER | ⋯ | DISCONTINUED | ADVERSE EVENT   | 2010-02-18 | 2010-03-01 | 2010-03-01 | 2010-03-25 |  9 | NA | 160.00 | 60.9 |\n",
              "| CSG001 | CSG001-1007 | 1007 | 10 | 32 | YEARS | &lt; 60 Years  | 1 | M | UNKNOWN                                   | ⋯ | COMPLETED    | <!----> | 2010-04-04 | 2010-04-14 | 2010-04-14 | 2010-06-12 | 22 | NA | 178.00 | 85.4 |\n",
              "| CSG001 | CSG001-1008 | 1008 | 10 | 83 | YEARS | &gt;= 60 Years | 2 | F | NOT REPORTED                              | ⋯ | DISCONTINUED | SUBJECT REQUEST | 2010-06-20 | 2010-06-26 | 2010-06-27 | 2010-08-18 | 15 | NA |     NA |   NA |\n",
              "\n"
            ],
            "text/plain": [
              "  STUDYID USUBJID     SUBJID SITEID AGE AGEU  AGEGR1      AGEGR1N SEX\n",
              "1 CSG001  CSG001-1001 1001   10     35  YEARS < 60 Years  1       M  \n",
              "2 CSG001  CSG001-1002 1002   10     40  YEARS < 60 Years  1       F  \n",
              "3 CSG001  CSG001-1003 1003   10     40  YEARS < 60 Years  1       M  \n",
              "4 CSG001  CSG001-1004 1004   10     38  YEARS < 60 Years  1       M  \n",
              "5 CSG001  CSG001-1005 1005   10     64  YEARS >= 60 Years 2       M  \n",
              "6 CSG001  CSG001-1006 1006   10     75  YEARS >= 60 Years 2       F  \n",
              "7 CSG001  CSG001-1007 1007   10     32  YEARS < 60 Years  1       M  \n",
              "8 CSG001  CSG001-1008 1008   10     83  YEARS >= 60 Years 2       F  \n",
              "  RACE                                      ⋯ EOTSTT       DCTREAS        \n",
              "1 WHITE                                     ⋯                             \n",
              "2 MULTIPLE                                  ⋯                             \n",
              "3 OTHER                                     ⋯                             \n",
              "4 WHITE                                     ⋯ COMPLETED                   \n",
              "5 AMERICAN INDIAN OR ALASKA NATIVE          ⋯ ONGOING                     \n",
              "6 NATIVE HAWAIIAN OR OTHER PACIFIC ISLANDER ⋯ DISCONTINUED ADVERSE EVENT  \n",
              "7 UNKNOWN                                   ⋯ COMPLETED                   \n",
              "8 NOT REPORTED                              ⋯ DISCONTINUED SUBJECT REQUEST\n",
              "  RFICDT     ENRLDT     RANDDT     LSTALVDT   TRTDURD DTHDT      HEIGHTBL\n",
              "1 2010-01-01 <NA>       <NA>       2010-01-01 NA      <NA>           NA  \n",
              "2 2010-01-01 2010-01-04 <NA>       2010-01-05 NA      <NA>           NA  \n",
              "3 2010-01-01 2010-01-03 2010-01-03 2010-01-05 NA      2010-01-05     NA  \n",
              "4 2010-01-01 2010-01-04 2010-01-05 2010-02-28 21      <NA>       177.00  \n",
              "5 2010-01-15 2010-02-01 2010-02-05 2020-02-20  8      <NA>        66.14  \n",
              "6 2010-02-18 2010-03-01 2010-03-01 2010-03-25  9      <NA>       160.00  \n",
              "7 2010-04-04 2010-04-14 2010-04-14 2010-06-12 22      <NA>       178.00  \n",
              "8 2010-06-20 2010-06-26 2010-06-27 2010-08-18 15      <NA>           NA  \n",
              "  WEIGHTBL\n",
              "1   NA    \n",
              "2   NA    \n",
              "3   NA    \n",
              "4 87.3    \n",
              "5 76.1    \n",
              "6 60.9    \n",
              "7 85.4    \n",
              "8   NA    "
            ]
          },
          "metadata": {},
          "output_type": "display_data"
        }
      ],
      "source": [
        "output"
      ]
    },
    {
      "cell_type": "code",
      "execution_count": null,
      "id": "127882bf-4389-4352-a5d4-8a625982bfc4",
      "metadata": {
        "id": "127882bf-4389-4352-a5d4-8a625982bfc4"
      },
      "outputs": [],
      "source": [
        "save(adsl, file = \"C:/Users/Waraba/Desktop/Ckinical Trial Training Materiels/ADaM_withR/ADaM_ADSL_withR/ADaM_ADSL_L1101/adsl.RData\")"
      ]
    },
    {
      "cell_type": "code",
      "execution_count": null,
      "id": "c57905d9-0797-4002-86bf-307b9d13105e",
      "metadata": {
        "id": "c57905d9-0797-4002-86bf-307b9d13105e",
        "outputId": "acb230af-0575-443e-9d27-2f5af9967b82"
      },
      "outputs": [
        {
          "data": {
            "text/html": [
              "<table class=\"dataframe\">\n",
              "<caption>A tibble: 8 × 40</caption>\n",
              "<thead>\n",
              "\t<tr><th scope=col>STUDYID</th><th scope=col>USUBJID</th><th scope=col>SUBJID</th><th scope=col>SITEID</th><th scope=col>AGE</th><th scope=col>AGEU</th><th scope=col>AGEGR1</th><th scope=col>AGEGR1N</th><th scope=col>SEX</th><th scope=col>RACE</th><th scope=col>⋯</th><th scope=col>EOTSTT</th><th scope=col>DCTREAS</th><th scope=col>RFICDT</th><th scope=col>ENRLDT</th><th scope=col>RANDDT</th><th scope=col>LSTALVDT</th><th scope=col>TRTDURD</th><th scope=col>DTHDT</th><th scope=col>HEIGHTBL</th><th scope=col>WEIGHTBL</th></tr>\n",
              "\t<tr><th scope=col>&lt;chr&gt;</th><th scope=col>&lt;chr&gt;</th><th scope=col>&lt;chr&gt;</th><th scope=col>&lt;chr&gt;</th><th scope=col>&lt;dbl&gt;</th><th scope=col>&lt;chr&gt;</th><th scope=col>&lt;chr&gt;</th><th scope=col>&lt;dbl&gt;</th><th scope=col>&lt;chr&gt;</th><th scope=col>&lt;chr&gt;</th><th scope=col>⋯</th><th scope=col>&lt;chr&gt;</th><th scope=col>&lt;chr&gt;</th><th scope=col>&lt;date&gt;</th><th scope=col>&lt;date&gt;</th><th scope=col>&lt;date&gt;</th><th scope=col>&lt;date&gt;</th><th scope=col>&lt;dbl&gt;</th><th scope=col>&lt;date&gt;</th><th scope=col>&lt;dbl&gt;</th><th scope=col>&lt;dbl&gt;</th></tr>\n",
              "</thead>\n",
              "<tbody>\n",
              "\t<tr><td>CSG001</td><td>CSG001-1001</td><td>1001</td><td>10</td><td>35</td><td>YEARS</td><td>&lt; 60 Years </td><td>1</td><td>M</td><td><span style=white-space:pre-wrap>WHITE                                    </span></td><td>⋯</td><td><span style=white-space:pre-wrap>            </span></td><td><span style=white-space:pre-wrap>               </span></td><td>2010-01-01</td><td>NA</td><td>NA</td><td>2010-01-01</td><td>NA</td><td>NA</td><td><span style=white-space:pre-wrap>    NA</span></td><td><span style=white-space:pre-wrap>  NA</span></td></tr>\n",
              "\t<tr><td>CSG001</td><td>CSG001-1002</td><td>1002</td><td>10</td><td>40</td><td>YEARS</td><td>&lt; 60 Years </td><td>1</td><td>F</td><td><span style=white-space:pre-wrap>MULTIPLE                                 </span></td><td>⋯</td><td><span style=white-space:pre-wrap>            </span></td><td><span style=white-space:pre-wrap>               </span></td><td>2010-01-01</td><td>2010-01-04</td><td>NA</td><td>2010-01-05</td><td>NA</td><td>NA</td><td><span style=white-space:pre-wrap>    NA</span></td><td><span style=white-space:pre-wrap>  NA</span></td></tr>\n",
              "\t<tr><td>CSG001</td><td>CSG001-1003</td><td>1003</td><td>10</td><td>40</td><td>YEARS</td><td>&lt; 60 Years </td><td>1</td><td>M</td><td><span style=white-space:pre-wrap>OTHER                                    </span></td><td>⋯</td><td><span style=white-space:pre-wrap>            </span></td><td><span style=white-space:pre-wrap>               </span></td><td>2010-01-01</td><td>2010-01-03</td><td>2010-01-03</td><td>2010-01-05</td><td>NA</td><td>2010-01-05</td><td><span style=white-space:pre-wrap>    NA</span></td><td><span style=white-space:pre-wrap>  NA</span></td></tr>\n",
              "\t<tr><td>CSG001</td><td>CSG001-1004</td><td>1004</td><td>10</td><td>38</td><td>YEARS</td><td>&lt; 60 Years </td><td>1</td><td>M</td><td><span style=white-space:pre-wrap>WHITE                                    </span></td><td>⋯</td><td><span style=white-space:pre-wrap>COMPLETED   </span></td><td><span style=white-space:pre-wrap>               </span></td><td>2010-01-01</td><td>2010-01-04</td><td>2010-01-05</td><td>2010-02-28</td><td>21</td><td>NA</td><td>177.00</td><td>87.3</td></tr>\n",
              "\t<tr><td>CSG001</td><td>CSG001-1005</td><td>1005</td><td>10</td><td>64</td><td>YEARS</td><td>&gt;= 60 Years</td><td>2</td><td>M</td><td><span style=white-space:pre-wrap>AMERICAN INDIAN OR ALASKA NATIVE         </span></td><td>⋯</td><td><span style=white-space:pre-wrap>ONGOING     </span></td><td><span style=white-space:pre-wrap>               </span></td><td>2010-01-15</td><td>2010-02-01</td><td>2010-02-05</td><td>2020-02-20</td><td> 8</td><td>NA</td><td> 66.14</td><td>76.1</td></tr>\n",
              "\t<tr><td>CSG001</td><td>CSG001-1006</td><td>1006</td><td>10</td><td>75</td><td>YEARS</td><td>&gt;= 60 Years</td><td>2</td><td>F</td><td>NATIVE HAWAIIAN OR OTHER PACIFIC ISLANDER</td><td>⋯</td><td>DISCONTINUED</td><td><span style=white-space:pre-wrap>ADVERSE EVENT  </span></td><td>2010-02-18</td><td>2010-03-01</td><td>2010-03-01</td><td>2010-03-25</td><td> 9</td><td>NA</td><td>160.00</td><td>60.9</td></tr>\n",
              "\t<tr><td>CSG001</td><td>CSG001-1007</td><td>1007</td><td>10</td><td>32</td><td>YEARS</td><td>&lt; 60 Years </td><td>1</td><td>M</td><td><span style=white-space:pre-wrap>UNKNOWN                                  </span></td><td>⋯</td><td><span style=white-space:pre-wrap>COMPLETED   </span></td><td><span style=white-space:pre-wrap>               </span></td><td>2010-04-04</td><td>2010-04-14</td><td>2010-04-14</td><td>2010-06-12</td><td>22</td><td>NA</td><td>178.00</td><td>85.4</td></tr>\n",
              "\t<tr><td>CSG001</td><td>CSG001-1008</td><td>1008</td><td>10</td><td>83</td><td>YEARS</td><td>&gt;= 60 Years</td><td>2</td><td>F</td><td><span style=white-space:pre-wrap>NOT REPORTED                             </span></td><td>⋯</td><td>DISCONTINUED</td><td>SUBJECT REQUEST</td><td>2010-06-20</td><td>2010-06-26</td><td>2010-06-27</td><td>2010-08-18</td><td>15</td><td>NA</td><td><span style=white-space:pre-wrap>    NA</span></td><td><span style=white-space:pre-wrap>  NA</span></td></tr>\n",
              "</tbody>\n",
              "</table>\n"
            ],
            "text/latex": [
              "A tibble: 8 × 40\n",
              "\\begin{tabular}{lllllllllllllllllllll}\n",
              " STUDYID & USUBJID & SUBJID & SITEID & AGE & AGEU & AGEGR1 & AGEGR1N & SEX & RACE & ⋯ & EOTSTT & DCTREAS & RFICDT & ENRLDT & RANDDT & LSTALVDT & TRTDURD & DTHDT & HEIGHTBL & WEIGHTBL\\\\\n",
              " <chr> & <chr> & <chr> & <chr> & <dbl> & <chr> & <chr> & <dbl> & <chr> & <chr> & ⋯ & <chr> & <chr> & <date> & <date> & <date> & <date> & <dbl> & <date> & <dbl> & <dbl>\\\\\n",
              "\\hline\n",
              "\t CSG001 & CSG001-1001 & 1001 & 10 & 35 & YEARS & < 60 Years  & 1 & M & WHITE                                     & ⋯ &              &                 & 2010-01-01 & NA & NA & 2010-01-01 & NA & NA &     NA &   NA\\\\\n",
              "\t CSG001 & CSG001-1002 & 1002 & 10 & 40 & YEARS & < 60 Years  & 1 & F & MULTIPLE                                  & ⋯ &              &                 & 2010-01-01 & 2010-01-04 & NA & 2010-01-05 & NA & NA &     NA &   NA\\\\\n",
              "\t CSG001 & CSG001-1003 & 1003 & 10 & 40 & YEARS & < 60 Years  & 1 & M & OTHER                                     & ⋯ &              &                 & 2010-01-01 & 2010-01-03 & 2010-01-03 & 2010-01-05 & NA & 2010-01-05 &     NA &   NA\\\\\n",
              "\t CSG001 & CSG001-1004 & 1004 & 10 & 38 & YEARS & < 60 Years  & 1 & M & WHITE                                     & ⋯ & COMPLETED    &                 & 2010-01-01 & 2010-01-04 & 2010-01-05 & 2010-02-28 & 21 & NA & 177.00 & 87.3\\\\\n",
              "\t CSG001 & CSG001-1005 & 1005 & 10 & 64 & YEARS & >= 60 Years & 2 & M & AMERICAN INDIAN OR ALASKA NATIVE          & ⋯ & ONGOING      &                 & 2010-01-15 & 2010-02-01 & 2010-02-05 & 2020-02-20 &  8 & NA &  66.14 & 76.1\\\\\n",
              "\t CSG001 & CSG001-1006 & 1006 & 10 & 75 & YEARS & >= 60 Years & 2 & F & NATIVE HAWAIIAN OR OTHER PACIFIC ISLANDER & ⋯ & DISCONTINUED & ADVERSE EVENT   & 2010-02-18 & 2010-03-01 & 2010-03-01 & 2010-03-25 &  9 & NA & 160.00 & 60.9\\\\\n",
              "\t CSG001 & CSG001-1007 & 1007 & 10 & 32 & YEARS & < 60 Years  & 1 & M & UNKNOWN                                   & ⋯ & COMPLETED    &                 & 2010-04-04 & 2010-04-14 & 2010-04-14 & 2010-06-12 & 22 & NA & 178.00 & 85.4\\\\\n",
              "\t CSG001 & CSG001-1008 & 1008 & 10 & 83 & YEARS & >= 60 Years & 2 & F & NOT REPORTED                              & ⋯ & DISCONTINUED & SUBJECT REQUEST & 2010-06-20 & 2010-06-26 & 2010-06-27 & 2010-08-18 & 15 & NA &     NA &   NA\\\\\n",
              "\\end{tabular}\n"
            ],
            "text/markdown": [
              "\n",
              "A tibble: 8 × 40\n",
              "\n",
              "| STUDYID &lt;chr&gt; | USUBJID &lt;chr&gt; | SUBJID &lt;chr&gt; | SITEID &lt;chr&gt; | AGE &lt;dbl&gt; | AGEU &lt;chr&gt; | AGEGR1 &lt;chr&gt; | AGEGR1N &lt;dbl&gt; | SEX &lt;chr&gt; | RACE &lt;chr&gt; | ⋯ ⋯ | EOTSTT &lt;chr&gt; | DCTREAS &lt;chr&gt; | RFICDT &lt;date&gt; | ENRLDT &lt;date&gt; | RANDDT &lt;date&gt; | LSTALVDT &lt;date&gt; | TRTDURD &lt;dbl&gt; | DTHDT &lt;date&gt; | HEIGHTBL &lt;dbl&gt; | WEIGHTBL &lt;dbl&gt; |\n",
              "|---|---|---|---|---|---|---|---|---|---|---|---|---|---|---|---|---|---|---|---|---|\n",
              "| CSG001 | CSG001-1001 | 1001 | 10 | 35 | YEARS | &lt; 60 Years  | 1 | M | WHITE                                     | ⋯ | <!----> | <!----> | 2010-01-01 | NA | NA | 2010-01-01 | NA | NA |     NA |   NA |\n",
              "| CSG001 | CSG001-1002 | 1002 | 10 | 40 | YEARS | &lt; 60 Years  | 1 | F | MULTIPLE                                  | ⋯ | <!----> | <!----> | 2010-01-01 | 2010-01-04 | NA | 2010-01-05 | NA | NA |     NA |   NA |\n",
              "| CSG001 | CSG001-1003 | 1003 | 10 | 40 | YEARS | &lt; 60 Years  | 1 | M | OTHER                                     | ⋯ | <!----> | <!----> | 2010-01-01 | 2010-01-03 | 2010-01-03 | 2010-01-05 | NA | 2010-01-05 |     NA |   NA |\n",
              "| CSG001 | CSG001-1004 | 1004 | 10 | 38 | YEARS | &lt; 60 Years  | 1 | M | WHITE                                     | ⋯ | COMPLETED    | <!----> | 2010-01-01 | 2010-01-04 | 2010-01-05 | 2010-02-28 | 21 | NA | 177.00 | 87.3 |\n",
              "| CSG001 | CSG001-1005 | 1005 | 10 | 64 | YEARS | &gt;= 60 Years | 2 | M | AMERICAN INDIAN OR ALASKA NATIVE          | ⋯ | ONGOING      | <!----> | 2010-01-15 | 2010-02-01 | 2010-02-05 | 2020-02-20 |  8 | NA |  66.14 | 76.1 |\n",
              "| CSG001 | CSG001-1006 | 1006 | 10 | 75 | YEARS | &gt;= 60 Years | 2 | F | NATIVE HAWAIIAN OR OTHER PACIFIC ISLANDER | ⋯ | DISCONTINUED | ADVERSE EVENT   | 2010-02-18 | 2010-03-01 | 2010-03-01 | 2010-03-25 |  9 | NA | 160.00 | 60.9 |\n",
              "| CSG001 | CSG001-1007 | 1007 | 10 | 32 | YEARS | &lt; 60 Years  | 1 | M | UNKNOWN                                   | ⋯ | COMPLETED    | <!----> | 2010-04-04 | 2010-04-14 | 2010-04-14 | 2010-06-12 | 22 | NA | 178.00 | 85.4 |\n",
              "| CSG001 | CSG001-1008 | 1008 | 10 | 83 | YEARS | &gt;= 60 Years | 2 | F | NOT REPORTED                              | ⋯ | DISCONTINUED | SUBJECT REQUEST | 2010-06-20 | 2010-06-26 | 2010-06-27 | 2010-08-18 | 15 | NA |     NA |   NA |\n",
              "\n"
            ],
            "text/plain": [
              "  STUDYID USUBJID     SUBJID SITEID AGE AGEU  AGEGR1      AGEGR1N SEX\n",
              "1 CSG001  CSG001-1001 1001   10     35  YEARS < 60 Years  1       M  \n",
              "2 CSG001  CSG001-1002 1002   10     40  YEARS < 60 Years  1       F  \n",
              "3 CSG001  CSG001-1003 1003   10     40  YEARS < 60 Years  1       M  \n",
              "4 CSG001  CSG001-1004 1004   10     38  YEARS < 60 Years  1       M  \n",
              "5 CSG001  CSG001-1005 1005   10     64  YEARS >= 60 Years 2       M  \n",
              "6 CSG001  CSG001-1006 1006   10     75  YEARS >= 60 Years 2       F  \n",
              "7 CSG001  CSG001-1007 1007   10     32  YEARS < 60 Years  1       M  \n",
              "8 CSG001  CSG001-1008 1008   10     83  YEARS >= 60 Years 2       F  \n",
              "  RACE                                      ⋯ EOTSTT       DCTREAS        \n",
              "1 WHITE                                     ⋯                             \n",
              "2 MULTIPLE                                  ⋯                             \n",
              "3 OTHER                                     ⋯                             \n",
              "4 WHITE                                     ⋯ COMPLETED                   \n",
              "5 AMERICAN INDIAN OR ALASKA NATIVE          ⋯ ONGOING                     \n",
              "6 NATIVE HAWAIIAN OR OTHER PACIFIC ISLANDER ⋯ DISCONTINUED ADVERSE EVENT  \n",
              "7 UNKNOWN                                   ⋯ COMPLETED                   \n",
              "8 NOT REPORTED                              ⋯ DISCONTINUED SUBJECT REQUEST\n",
              "  RFICDT     ENRLDT     RANDDT     LSTALVDT   TRTDURD DTHDT      HEIGHTBL\n",
              "1 2010-01-01 <NA>       <NA>       2010-01-01 NA      <NA>           NA  \n",
              "2 2010-01-01 2010-01-04 <NA>       2010-01-05 NA      <NA>           NA  \n",
              "3 2010-01-01 2010-01-03 2010-01-03 2010-01-05 NA      2010-01-05     NA  \n",
              "4 2010-01-01 2010-01-04 2010-01-05 2010-02-28 21      <NA>       177.00  \n",
              "5 2010-01-15 2010-02-01 2010-02-05 2020-02-20  8      <NA>        66.14  \n",
              "6 2010-02-18 2010-03-01 2010-03-01 2010-03-25  9      <NA>       160.00  \n",
              "7 2010-04-04 2010-04-14 2010-04-14 2010-06-12 22      <NA>       178.00  \n",
              "8 2010-06-20 2010-06-26 2010-06-27 2010-08-18 15      <NA>           NA  \n",
              "  WEIGHTBL\n",
              "1   NA    \n",
              "2   NA    \n",
              "3   NA    \n",
              "4 87.3    \n",
              "5 76.1    \n",
              "6 60.9    \n",
              "7 85.4    \n",
              "8   NA    "
            ]
          },
          "metadata": {},
          "output_type": "display_data"
        }
      ],
      "source": [
        "adsl"
      ]
    },
    {
      "cell_type": "code",
      "execution_count": null,
      "id": "f04e12c1-4755-4349-83d9-9bac21083271",
      "metadata": {
        "id": "f04e12c1-4755-4349-83d9-9bac21083271",
        "outputId": "f920a2d1-fcd9-4be9-d8ec-1cc5df722530"
      },
      "outputs": [
        {
          "data": {
            "text/html": [
              "<style>\n",
              ".list-inline {list-style: none; margin:0; padding: 0}\n",
              ".list-inline>li {display: inline-block}\n",
              ".list-inline>li:not(:last-child)::after {content: \"\\00b7\"; padding: 0 .5ex}\n",
              "</style>\n",
              "<ol class=list-inline><li>'STUDYID'</li><li>'USUBJID'</li><li>'SUBJID'</li><li>'SITEID'</li><li>'AGE'</li><li>'AGEU'</li><li>'AGEGR1'</li><li>'AGEGR1N'</li><li>'SEX'</li><li>'RACE'</li><li>'RACE1'</li><li>'RACE2'</li><li>'RACESP'</li><li>'SAFFL'</li><li>'COMPLFL'</li><li>'RANDFL'</li><li>'ENRLFL'</li><li>'ARM'</li><li>'ACTARM'</li><li>'TRT01P'</li><li>'TRT01PN'</li><li>'TRT01A'</li><li>'TRT01AN'</li><li>'TRTSDT'</li><li>'TRTEDT'</li><li>'TR01SDT'</li><li>'TR01EDT'</li><li>'EOSSTT'</li><li>'EOSDT'</li><li>'DCSREAS'</li><li>'EOTSTT'</li><li>'DCTREAS'</li><li>'RFICDT'</li><li>'ENRLDT'</li><li>'RANDDT'</li><li>'LSTALVDT'</li><li>'TRTDURD'</li><li>'DTHDT'</li><li>'HEIGHTBL'</li><li>'WEIGHTBL'</li></ol>\n"
            ],
            "text/latex": [
              "\\begin{enumerate*}\n",
              "\\item 'STUDYID'\n",
              "\\item 'USUBJID'\n",
              "\\item 'SUBJID'\n",
              "\\item 'SITEID'\n",
              "\\item 'AGE'\n",
              "\\item 'AGEU'\n",
              "\\item 'AGEGR1'\n",
              "\\item 'AGEGR1N'\n",
              "\\item 'SEX'\n",
              "\\item 'RACE'\n",
              "\\item 'RACE1'\n",
              "\\item 'RACE2'\n",
              "\\item 'RACESP'\n",
              "\\item 'SAFFL'\n",
              "\\item 'COMPLFL'\n",
              "\\item 'RANDFL'\n",
              "\\item 'ENRLFL'\n",
              "\\item 'ARM'\n",
              "\\item 'ACTARM'\n",
              "\\item 'TRT01P'\n",
              "\\item 'TRT01PN'\n",
              "\\item 'TRT01A'\n",
              "\\item 'TRT01AN'\n",
              "\\item 'TRTSDT'\n",
              "\\item 'TRTEDT'\n",
              "\\item 'TR01SDT'\n",
              "\\item 'TR01EDT'\n",
              "\\item 'EOSSTT'\n",
              "\\item 'EOSDT'\n",
              "\\item 'DCSREAS'\n",
              "\\item 'EOTSTT'\n",
              "\\item 'DCTREAS'\n",
              "\\item 'RFICDT'\n",
              "\\item 'ENRLDT'\n",
              "\\item 'RANDDT'\n",
              "\\item 'LSTALVDT'\n",
              "\\item 'TRTDURD'\n",
              "\\item 'DTHDT'\n",
              "\\item 'HEIGHTBL'\n",
              "\\item 'WEIGHTBL'\n",
              "\\end{enumerate*}\n"
            ],
            "text/markdown": [
              "1. 'STUDYID'\n",
              "2. 'USUBJID'\n",
              "3. 'SUBJID'\n",
              "4. 'SITEID'\n",
              "5. 'AGE'\n",
              "6. 'AGEU'\n",
              "7. 'AGEGR1'\n",
              "8. 'AGEGR1N'\n",
              "9. 'SEX'\n",
              "10. 'RACE'\n",
              "11. 'RACE1'\n",
              "12. 'RACE2'\n",
              "13. 'RACESP'\n",
              "14. 'SAFFL'\n",
              "15. 'COMPLFL'\n",
              "16. 'RANDFL'\n",
              "17. 'ENRLFL'\n",
              "18. 'ARM'\n",
              "19. 'ACTARM'\n",
              "20. 'TRT01P'\n",
              "21. 'TRT01PN'\n",
              "22. 'TRT01A'\n",
              "23. 'TRT01AN'\n",
              "24. 'TRTSDT'\n",
              "25. 'TRTEDT'\n",
              "26. 'TR01SDT'\n",
              "27. 'TR01EDT'\n",
              "28. 'EOSSTT'\n",
              "29. 'EOSDT'\n",
              "30. 'DCSREAS'\n",
              "31. 'EOTSTT'\n",
              "32. 'DCTREAS'\n",
              "33. 'RFICDT'\n",
              "34. 'ENRLDT'\n",
              "35. 'RANDDT'\n",
              "36. 'LSTALVDT'\n",
              "37. 'TRTDURD'\n",
              "38. 'DTHDT'\n",
              "39. 'HEIGHTBL'\n",
              "40. 'WEIGHTBL'\n",
              "\n",
              "\n"
            ],
            "text/plain": [
              " [1] \"STUDYID\"  \"USUBJID\"  \"SUBJID\"   \"SITEID\"   \"AGE\"      \"AGEU\"    \n",
              " [7] \"AGEGR1\"   \"AGEGR1N\"  \"SEX\"      \"RACE\"     \"RACE1\"    \"RACE2\"   \n",
              "[13] \"RACESP\"   \"SAFFL\"    \"COMPLFL\"  \"RANDFL\"   \"ENRLFL\"   \"ARM\"     \n",
              "[19] \"ACTARM\"   \"TRT01P\"   \"TRT01PN\"  \"TRT01A\"   \"TRT01AN\"  \"TRTSDT\"  \n",
              "[25] \"TRTEDT\"   \"TR01SDT\"  \"TR01EDT\"  \"EOSSTT\"   \"EOSDT\"    \"DCSREAS\" \n",
              "[31] \"EOTSTT\"   \"DCTREAS\"  \"RFICDT\"   \"ENRLDT\"   \"RANDDT\"   \"LSTALVDT\"\n",
              "[37] \"TRTDURD\"  \"DTHDT\"    \"HEIGHTBL\" \"WEIGHTBL\""
            ]
          },
          "metadata": {},
          "output_type": "display_data"
        }
      ],
      "source": [
        "colnames(adsl)"
      ]
    },
    {
      "cell_type": "code",
      "execution_count": null,
      "id": "44c118b3-10f4-46df-aeae-2d37f4167684",
      "metadata": {
        "id": "44c118b3-10f4-46df-aeae-2d37f4167684"
      },
      "outputs": [],
      "source": []
    }
  ],
  "metadata": {
    "kernelspec": {
      "display_name": "R",
      "language": "R",
      "name": "ir"
    },
    "language_info": {
      "codemirror_mode": "r",
      "file_extension": ".r",
      "mimetype": "text/x-r-source",
      "name": "R",
      "pygments_lexer": "r",
      "version": "4.2.1"
    },
    "colab": {
      "provenance": [],
      "include_colab_link": true
    }
  },
  "nbformat": 4,
  "nbformat_minor": 5
}