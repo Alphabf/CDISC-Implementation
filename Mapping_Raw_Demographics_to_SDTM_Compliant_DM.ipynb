{
  "cells": [
    {
      "cell_type": "markdown",
      "metadata": {
        "id": "view-in-github",
        "colab_type": "text"
      },
      "source": [
        "<a href=\"https://colab.research.google.com/github/Alphabf/CDISC-Implementation/blob/main/Mapping_Raw_Demographics_to_SDTM_Compliant_DM.ipynb\" target=\"_parent\"><img src=\"https://colab.research.google.com/assets/colab-badge.svg\" alt=\"Open In Colab\"/></a>"
      ]
    },
    {
      "cell_type": "markdown",
      "id": "10e2debb-d55d-4d95-8b74-de5681b4b93f",
      "metadata": {
        "id": "10e2debb-d55d-4d95-8b74-de5681b4b93f"
      },
      "source": [
        "**Author:** Alpha Traore, Sr Data Scientist, Biostat Consultants Inc.       \n",
        "**📁 Project:** CDISC Dataset Preparation     \n",
        "**📁 Domain:** DM (Demographics)    \n",
        "**🎯 Purpose:** Mapping Raw Clinical Data to SDTM DM Domain Using R   \n",
        "  \n",
        "---\n",
        "\n",
        "**📌Overview**\n",
        "\n",
        "This notebook demonstrates the process of creating the **Demographics (DM) domain** as defined by the CDISC SDTM model. The objective is to use R to program a compliant DM dataset, suitable for clinical trial data submissions and regulatory review."
      ]
    },
    {
      "cell_type": "markdown",
      "id": "669e08f5-fd49-40e1-98a8-862b56df3ff0",
      "metadata": {
        "id": "669e08f5-fd49-40e1-98a8-862b56df3ff0"
      },
      "source": [
        "**Step 1: Load Raw Data Inputs**"
      ]
    },
    {
      "cell_type": "code",
      "execution_count": null,
      "id": "09f8c88b-bdea-46e8-a5ba-6b332cf71179",
      "metadata": {
        "id": "09f8c88b-bdea-46e8-a5ba-6b332cf71179",
        "outputId": "98fcd663-cf2d-4557-dca7-cf61bf1c60ec"
      },
      "outputs": [
        {
          "data": {
            "text/html": [
              "<style>\n",
              ".list-inline {list-style: none; margin:0; padding: 0}\n",
              ".list-inline>li {display: inline-block}\n",
              ".list-inline>li:not(:last-child)::after {content: \"\\00b7\"; padding: 0 .5ex}\n",
              "</style>\n",
              "<ol class=list-inline><li>'adverse'</li><li>'box'</li><li>'conmeds'</li><li>'demog'</li><li>'ecg'</li><li>'eligcrit'</li><li>'enrlment'</li><li>'eoip'</li><li>'eos'</li><li>'eq5d3l'</li><li>'hosp'</li><li>'ipadmin'</li><li>'lab_chem'</li><li>'lab_hema'</li><li>'My_packages'</li><li>'physmeas'</li><li>'rand'</li><li>'surg'</li><li>'vitals'</li></ol>\n"
            ],
            "text/latex": [
              "\\begin{enumerate*}\n",
              "\\item 'adverse'\n",
              "\\item 'box'\n",
              "\\item 'conmeds'\n",
              "\\item 'demog'\n",
              "\\item 'ecg'\n",
              "\\item 'eligcrit'\n",
              "\\item 'enrlment'\n",
              "\\item 'eoip'\n",
              "\\item 'eos'\n",
              "\\item 'eq5d3l'\n",
              "\\item 'hosp'\n",
              "\\item 'ipadmin'\n",
              "\\item 'lab\\_chem'\n",
              "\\item 'lab\\_hema'\n",
              "\\item 'My\\_packages'\n",
              "\\item 'physmeas'\n",
              "\\item 'rand'\n",
              "\\item 'surg'\n",
              "\\item 'vitals'\n",
              "\\end{enumerate*}\n"
            ],
            "text/markdown": [
              "1. 'adverse'\n",
              "2. 'box'\n",
              "3. 'conmeds'\n",
              "4. 'demog'\n",
              "5. 'ecg'\n",
              "6. 'eligcrit'\n",
              "7. 'enrlment'\n",
              "8. 'eoip'\n",
              "9. 'eos'\n",
              "10. 'eq5d3l'\n",
              "11. 'hosp'\n",
              "12. 'ipadmin'\n",
              "13. 'lab_chem'\n",
              "14. 'lab_hema'\n",
              "15. 'My_packages'\n",
              "16. 'physmeas'\n",
              "17. 'rand'\n",
              "18. 'surg'\n",
              "19. 'vitals'\n",
              "\n",
              "\n"
            ],
            "text/plain": [
              " [1] \"adverse\"     \"box\"         \"conmeds\"     \"demog\"       \"ecg\"        \n",
              " [6] \"eligcrit\"    \"enrlment\"    \"eoip\"        \"eos\"         \"eq5d3l\"     \n",
              "[11] \"hosp\"        \"ipadmin\"     \"lab_chem\"    \"lab_hema\"    \"My_packages\"\n",
              "[16] \"physmeas\"    \"rand\"        \"surg\"        \"vitals\"     "
            ]
          },
          "metadata": {},
          "output_type": "display_data"
        }
      ],
      "source": [
        "load(\"dm_rawdata.RData\")\n",
        "ls()"
      ]
    },
    {
      "cell_type": "markdown",
      "id": "54e24480-a5eb-4bed-80fa-05702876567b",
      "metadata": {
        "id": "54e24480-a5eb-4bed-80fa-05702876567b"
      },
      "source": [
        "**Step 2: Check Demog Raw data**"
      ]
    },
    {
      "cell_type": "code",
      "execution_count": null,
      "id": "b89cff33-31bb-425e-ac68-b0ae07b5b2d6",
      "metadata": {
        "id": "b89cff33-31bb-425e-ac68-b0ae07b5b2d6"
      },
      "outputs": [],
      "source": [
        "# load(\"dm_rawdata.RData\", nv <- new.env())\n",
        "# ls(nv)"
      ]
    },
    {
      "cell_type": "code",
      "execution_count": null,
      "id": "e7e057fe-8b26-4242-ad32-6abd4e26ecbd",
      "metadata": {
        "id": "e7e057fe-8b26-4242-ad32-6abd4e26ecbd",
        "outputId": "8530b6bb-6c95-4b47-e8cd-c73b90b7b061"
      },
      "outputs": [
        {
          "data": {
            "text/html": [
              "<table class=\"dataframe\">\n",
              "<caption>A tibble: 8 × 13</caption>\n",
              "<thead>\n",
              "\t<tr><th scope=col>study</th><th scope=col>pt</th><th scope=col>sex</th><th scope=col>ethnic</th><th scope=col>race</th><th scope=col>race2</th><th scope=col>race3</th><th scope=col>race4</th><th scope=col>racesp</th><th scope=col>age_raw</th><th scope=col>age_rawu</th><th scope=col>brthdt_raw</th><th scope=col>country</th></tr>\n",
              "\t<tr><th scope=col>&lt;chr&gt;</th><th scope=col>&lt;chr&gt;</th><th scope=col>&lt;chr&gt;</th><th scope=col>&lt;chr&gt;</th><th scope=col>&lt;chr&gt;</th><th scope=col>&lt;chr&gt;</th><th scope=col>&lt;chr&gt;</th><th scope=col>&lt;chr&gt;</th><th scope=col>&lt;chr&gt;</th><th scope=col>&lt;chr&gt;</th><th scope=col>&lt;chr&gt;</th><th scope=col>&lt;chr&gt;</th><th scope=col>&lt;chr&gt;</th></tr>\n",
              "</thead>\n",
              "<tbody>\n",
              "\t<tr><td>CSG001</td><td>1001</td><td>Male  </td><td>Hispanic or Latino    </td><td>White                                    </td><td>                                </td><td></td><td></td><td>         </td><td>35</td><td>Years</td><td></td><td>USA</td></tr>\n",
              "\t<tr><td>CSG001</td><td>1002</td><td>Female</td><td>Not Hispanic or Latino</td><td>Asian                                    </td><td>American Indian or Alaska Native</td><td></td><td></td><td>         </td><td>40</td><td>Years</td><td></td><td>USA</td></tr>\n",
              "\t<tr><td>CSG001</td><td>1003</td><td>Male  </td><td>Hispanic or Latino    </td><td>Other                                    </td><td>                                </td><td></td><td></td><td>BRAZILIAN</td><td>40</td><td>Years</td><td></td><td>USA</td></tr>\n",
              "\t<tr><td>CSG001</td><td>1004</td><td>Male  </td><td>Hispanic or Latino    </td><td>White                                    </td><td>                                </td><td></td><td></td><td>         </td><td>38</td><td>Years</td><td></td><td>USA</td></tr>\n",
              "\t<tr><td>CSG001</td><td>1005</td><td>Male  </td><td>Not Hispanic or Latino</td><td>American Indian or Alaska Native         </td><td>                                </td><td></td><td></td><td>         </td><td>64</td><td>Years</td><td></td><td>USA</td></tr>\n",
              "\t<tr><td>CSG001</td><td>1006</td><td>Female</td><td>Not Hispanic or Latino</td><td>Native Hawaiian or Other Pacific Islander</td><td>                                </td><td></td><td></td><td>         </td><td>75</td><td>Years</td><td></td><td>USA</td></tr>\n",
              "\t<tr><td>CSG001</td><td>1007</td><td>Male  </td><td>Not Hispanic or Latino</td><td>Unknown                                  </td><td>                                </td><td></td><td></td><td>         </td><td>32</td><td>Years</td><td></td><td>USA</td></tr>\n",
              "\t<tr><td>CSG001</td><td>1008</td><td>Female</td><td>Not Hispanic or Latino</td><td>Not Reported                             </td><td>                                </td><td></td><td></td><td>         </td><td>83</td><td>Years</td><td></td><td>USA</td></tr>\n",
              "</tbody>\n",
              "</table>\n"
            ],
            "text/latex": [
              "A tibble: 8 × 13\n",
              "\\begin{tabular}{lllllllllllll}\n",
              " study & pt & sex & ethnic & race & race2 & race3 & race4 & racesp & age\\_raw & age\\_rawu & brthdt\\_raw & country\\\\\n",
              " <chr> & <chr> & <chr> & <chr> & <chr> & <chr> & <chr> & <chr> & <chr> & <chr> & <chr> & <chr> & <chr>\\\\\n",
              "\\hline\n",
              "\t CSG001 & 1001 & Male   & Hispanic or Latino     & White                                     &                                  &  &  &           & 35 & Years &  & USA\\\\\n",
              "\t CSG001 & 1002 & Female & Not Hispanic or Latino & Asian                                     & American Indian or Alaska Native &  &  &           & 40 & Years &  & USA\\\\\n",
              "\t CSG001 & 1003 & Male   & Hispanic or Latino     & Other                                     &                                  &  &  & BRAZILIAN & 40 & Years &  & USA\\\\\n",
              "\t CSG001 & 1004 & Male   & Hispanic or Latino     & White                                     &                                  &  &  &           & 38 & Years &  & USA\\\\\n",
              "\t CSG001 & 1005 & Male   & Not Hispanic or Latino & American Indian or Alaska Native          &                                  &  &  &           & 64 & Years &  & USA\\\\\n",
              "\t CSG001 & 1006 & Female & Not Hispanic or Latino & Native Hawaiian or Other Pacific Islander &                                  &  &  &           & 75 & Years &  & USA\\\\\n",
              "\t CSG001 & 1007 & Male   & Not Hispanic or Latino & Unknown                                   &                                  &  &  &           & 32 & Years &  & USA\\\\\n",
              "\t CSG001 & 1008 & Female & Not Hispanic or Latino & Not Reported                              &                                  &  &  &           & 83 & Years &  & USA\\\\\n",
              "\\end{tabular}\n"
            ],
            "text/markdown": [
              "\n",
              "A tibble: 8 × 13\n",
              "\n",
              "| study &lt;chr&gt; | pt &lt;chr&gt; | sex &lt;chr&gt; | ethnic &lt;chr&gt; | race &lt;chr&gt; | race2 &lt;chr&gt; | race3 &lt;chr&gt; | race4 &lt;chr&gt; | racesp &lt;chr&gt; | age_raw &lt;chr&gt; | age_rawu &lt;chr&gt; | brthdt_raw &lt;chr&gt; | country &lt;chr&gt; |\n",
              "|---|---|---|---|---|---|---|---|---|---|---|---|---|\n",
              "| CSG001 | 1001 | Male   | Hispanic or Latino     | White                                     | <!----> | <!----> | <!----> | <!----> | 35 | Years | <!----> | USA |\n",
              "| CSG001 | 1002 | Female | Not Hispanic or Latino | Asian                                     | American Indian or Alaska Native | <!----> | <!----> | <!----> | 40 | Years | <!----> | USA |\n",
              "| CSG001 | 1003 | Male   | Hispanic or Latino     | Other                                     | <!----> | <!----> | <!----> | BRAZILIAN | 40 | Years | <!----> | USA |\n",
              "| CSG001 | 1004 | Male   | Hispanic or Latino     | White                                     | <!----> | <!----> | <!----> | <!----> | 38 | Years | <!----> | USA |\n",
              "| CSG001 | 1005 | Male   | Not Hispanic or Latino | American Indian or Alaska Native          | <!----> | <!----> | <!----> | <!----> | 64 | Years | <!----> | USA |\n",
              "| CSG001 | 1006 | Female | Not Hispanic or Latino | Native Hawaiian or Other Pacific Islander | <!----> | <!----> | <!----> | <!----> | 75 | Years | <!----> | USA |\n",
              "| CSG001 | 1007 | Male   | Not Hispanic or Latino | Unknown                                   | <!----> | <!----> | <!----> | <!----> | 32 | Years | <!----> | USA |\n",
              "| CSG001 | 1008 | Female | Not Hispanic or Latino | Not Reported                              | <!----> | <!----> | <!----> | <!----> | 83 | Years | <!----> | USA |\n",
              "\n"
            ],
            "text/plain": [
              "  study  pt   sex    ethnic                \n",
              "1 CSG001 1001 Male   Hispanic or Latino    \n",
              "2 CSG001 1002 Female Not Hispanic or Latino\n",
              "3 CSG001 1003 Male   Hispanic or Latino    \n",
              "4 CSG001 1004 Male   Hispanic or Latino    \n",
              "5 CSG001 1005 Male   Not Hispanic or Latino\n",
              "6 CSG001 1006 Female Not Hispanic or Latino\n",
              "7 CSG001 1007 Male   Not Hispanic or Latino\n",
              "8 CSG001 1008 Female Not Hispanic or Latino\n",
              "  race                                      race2                           \n",
              "1 White                                                                     \n",
              "2 Asian                                     American Indian or Alaska Native\n",
              "3 Other                                                                     \n",
              "4 White                                                                     \n",
              "5 American Indian or Alaska Native                                          \n",
              "6 Native Hawaiian or Other Pacific Islander                                 \n",
              "7 Unknown                                                                   \n",
              "8 Not Reported                                                              \n",
              "  race3 race4 racesp    age_raw age_rawu brthdt_raw country\n",
              "1                       35      Years               USA    \n",
              "2                       40      Years               USA    \n",
              "3             BRAZILIAN 40      Years               USA    \n",
              "4                       38      Years               USA    \n",
              "5                       64      Years               USA    \n",
              "6                       75      Years               USA    \n",
              "7                       32      Years               USA    \n",
              "8                       83      Years               USA    "
            ]
          },
          "metadata": {},
          "output_type": "display_data"
        }
      ],
      "source": [
        "demog"
      ]
    },
    {
      "cell_type": "markdown",
      "id": "22d0dfbf-1211-4899-9103-abb408cdb2ab",
      "metadata": {
        "id": "22d0dfbf-1211-4899-9103-abb408cdb2ab"
      },
      "source": [
        "**3. Generate the identifier variables and additional variables that are directly contingent upon the raw variables, without engaging in significant derivations.**"
      ]
    },
    {
      "cell_type": "code",
      "execution_count": null,
      "id": "6935b3cf-7b35-4ba1-8ac3-9b908462d3c3",
      "metadata": {
        "id": "6935b3cf-7b35-4ba1-8ac3-9b908462d3c3",
        "outputId": "9389e128-936e-45df-f531-7ea009025ec6"
      },
      "outputs": [
        {
          "data": {
            "text/html": [
              "<table class=\"dataframe\">\n",
              "<caption>A tibble: 8 × 11</caption>\n",
              "<thead>\n",
              "\t<tr><th scope=col>domain</th><th scope=col>studyid</th><th scope=col>subjid</th><th scope=col>siteid</th><th scope=col>usubjid</th><th scope=col>country</th><th scope=col>ethnic</th><th scope=col>race</th><th scope=col>age</th><th scope=col>ageu</th><th scope=col>sex</th></tr>\n",
              "\t<tr><th scope=col>&lt;chr&gt;</th><th scope=col>&lt;chr&gt;</th><th scope=col>&lt;chr&gt;</th><th scope=col>&lt;chr&gt;</th><th scope=col>&lt;chr&gt;</th><th scope=col>&lt;chr&gt;</th><th scope=col>&lt;chr&gt;</th><th scope=col>&lt;chr&gt;</th><th scope=col>&lt;int&gt;</th><th scope=col>&lt;chr&gt;</th><th scope=col>&lt;chr&gt;</th></tr>\n",
              "</thead>\n",
              "<tbody>\n",
              "\t<tr><td>DM</td><td>CSG001</td><td>1001</td><td>10</td><td>CSG001-1001</td><td>USA</td><td>HISPANIC OR LATINO    </td><td>WHITE                                    </td><td>35</td><td>YEARS</td><td>M</td></tr>\n",
              "\t<tr><td>DM</td><td>CSG001</td><td>1002</td><td>10</td><td>CSG001-1002</td><td>USA</td><td>NOT HISPANIC OR LATINO</td><td>MULTIPLE                                 </td><td>40</td><td>YEARS</td><td>F</td></tr>\n",
              "\t<tr><td>DM</td><td>CSG001</td><td>1003</td><td>10</td><td>CSG001-1003</td><td>USA</td><td>HISPANIC OR LATINO    </td><td>OTHER                                    </td><td>40</td><td>YEARS</td><td>M</td></tr>\n",
              "\t<tr><td>DM</td><td>CSG001</td><td>1004</td><td>10</td><td>CSG001-1004</td><td>USA</td><td>HISPANIC OR LATINO    </td><td>WHITE                                    </td><td>38</td><td>YEARS</td><td>M</td></tr>\n",
              "\t<tr><td>DM</td><td>CSG001</td><td>1005</td><td>10</td><td>CSG001-1005</td><td>USA</td><td>NOT HISPANIC OR LATINO</td><td>AMERICAN INDIAN OR ALASKA NATIVE         </td><td>64</td><td>YEARS</td><td>M</td></tr>\n",
              "\t<tr><td>DM</td><td>CSG001</td><td>1006</td><td>10</td><td>CSG001-1006</td><td>USA</td><td>NOT HISPANIC OR LATINO</td><td>NATIVE HAWAIIAN OR OTHER PACIFIC ISLANDER</td><td>75</td><td>YEARS</td><td>F</td></tr>\n",
              "\t<tr><td>DM</td><td>CSG001</td><td>1007</td><td>10</td><td>CSG001-1007</td><td>USA</td><td>NOT HISPANIC OR LATINO</td><td>UNKNOWN                                  </td><td>32</td><td>YEARS</td><td>M</td></tr>\n",
              "\t<tr><td>DM</td><td>CSG001</td><td>1008</td><td>10</td><td>CSG001-1008</td><td>USA</td><td>NOT HISPANIC OR LATINO</td><td>NOT REPORTED                             </td><td>83</td><td>YEARS</td><td>F</td></tr>\n",
              "</tbody>\n",
              "</table>\n"
            ],
            "text/latex": [
              "A tibble: 8 × 11\n",
              "\\begin{tabular}{lllllllllll}\n",
              " domain & studyid & subjid & siteid & usubjid & country & ethnic & race & age & ageu & sex\\\\\n",
              " <chr> & <chr> & <chr> & <chr> & <chr> & <chr> & <chr> & <chr> & <int> & <chr> & <chr>\\\\\n",
              "\\hline\n",
              "\t DM & CSG001 & 1001 & 10 & CSG001-1001 & USA & HISPANIC OR LATINO     & WHITE                                     & 35 & YEARS & M\\\\\n",
              "\t DM & CSG001 & 1002 & 10 & CSG001-1002 & USA & NOT HISPANIC OR LATINO & MULTIPLE                                  & 40 & YEARS & F\\\\\n",
              "\t DM & CSG001 & 1003 & 10 & CSG001-1003 & USA & HISPANIC OR LATINO     & OTHER                                     & 40 & YEARS & M\\\\\n",
              "\t DM & CSG001 & 1004 & 10 & CSG001-1004 & USA & HISPANIC OR LATINO     & WHITE                                     & 38 & YEARS & M\\\\\n",
              "\t DM & CSG001 & 1005 & 10 & CSG001-1005 & USA & NOT HISPANIC OR LATINO & AMERICAN INDIAN OR ALASKA NATIVE          & 64 & YEARS & M\\\\\n",
              "\t DM & CSG001 & 1006 & 10 & CSG001-1006 & USA & NOT HISPANIC OR LATINO & NATIVE HAWAIIAN OR OTHER PACIFIC ISLANDER & 75 & YEARS & F\\\\\n",
              "\t DM & CSG001 & 1007 & 10 & CSG001-1007 & USA & NOT HISPANIC OR LATINO & UNKNOWN                                   & 32 & YEARS & M\\\\\n",
              "\t DM & CSG001 & 1008 & 10 & CSG001-1008 & USA & NOT HISPANIC OR LATINO & NOT REPORTED                              & 83 & YEARS & F\\\\\n",
              "\\end{tabular}\n"
            ],
            "text/markdown": [
              "\n",
              "A tibble: 8 × 11\n",
              "\n",
              "| domain &lt;chr&gt; | studyid &lt;chr&gt; | subjid &lt;chr&gt; | siteid &lt;chr&gt; | usubjid &lt;chr&gt; | country &lt;chr&gt; | ethnic &lt;chr&gt; | race &lt;chr&gt; | age &lt;int&gt; | ageu &lt;chr&gt; | sex &lt;chr&gt; |\n",
              "|---|---|---|---|---|---|---|---|---|---|---|\n",
              "| DM | CSG001 | 1001 | 10 | CSG001-1001 | USA | HISPANIC OR LATINO     | WHITE                                     | 35 | YEARS | M |\n",
              "| DM | CSG001 | 1002 | 10 | CSG001-1002 | USA | NOT HISPANIC OR LATINO | MULTIPLE                                  | 40 | YEARS | F |\n",
              "| DM | CSG001 | 1003 | 10 | CSG001-1003 | USA | HISPANIC OR LATINO     | OTHER                                     | 40 | YEARS | M |\n",
              "| DM | CSG001 | 1004 | 10 | CSG001-1004 | USA | HISPANIC OR LATINO     | WHITE                                     | 38 | YEARS | M |\n",
              "| DM | CSG001 | 1005 | 10 | CSG001-1005 | USA | NOT HISPANIC OR LATINO | AMERICAN INDIAN OR ALASKA NATIVE          | 64 | YEARS | M |\n",
              "| DM | CSG001 | 1006 | 10 | CSG001-1006 | USA | NOT HISPANIC OR LATINO | NATIVE HAWAIIAN OR OTHER PACIFIC ISLANDER | 75 | YEARS | F |\n",
              "| DM | CSG001 | 1007 | 10 | CSG001-1007 | USA | NOT HISPANIC OR LATINO | UNKNOWN                                   | 32 | YEARS | M |\n",
              "| DM | CSG001 | 1008 | 10 | CSG001-1008 | USA | NOT HISPANIC OR LATINO | NOT REPORTED                              | 83 | YEARS | F |\n",
              "\n"
            ],
            "text/plain": [
              "  domain studyid subjid siteid usubjid     country ethnic                \n",
              "1 DM     CSG001  1001   10     CSG001-1001 USA     HISPANIC OR LATINO    \n",
              "2 DM     CSG001  1002   10     CSG001-1002 USA     NOT HISPANIC OR LATINO\n",
              "3 DM     CSG001  1003   10     CSG001-1003 USA     HISPANIC OR LATINO    \n",
              "4 DM     CSG001  1004   10     CSG001-1004 USA     HISPANIC OR LATINO    \n",
              "5 DM     CSG001  1005   10     CSG001-1005 USA     NOT HISPANIC OR LATINO\n",
              "6 DM     CSG001  1006   10     CSG001-1006 USA     NOT HISPANIC OR LATINO\n",
              "7 DM     CSG001  1007   10     CSG001-1007 USA     NOT HISPANIC OR LATINO\n",
              "8 DM     CSG001  1008   10     CSG001-1008 USA     NOT HISPANIC OR LATINO\n",
              "  race                                      age ageu  sex\n",
              "1 WHITE                                     35  YEARS M  \n",
              "2 MULTIPLE                                  40  YEARS F  \n",
              "3 OTHER                                     40  YEARS M  \n",
              "4 WHITE                                     38  YEARS M  \n",
              "5 AMERICAN INDIAN OR ALASKA NATIVE          64  YEARS M  \n",
              "6 NATIVE HAWAIIAN OR OTHER PACIFIC ISLANDER 75  YEARS F  \n",
              "7 UNKNOWN                                   32  YEARS M  \n",
              "8 NOT REPORTED                              83  YEARS F  "
            ]
          },
          "metadata": {},
          "output_type": "display_data"
        }
      ],
      "source": [
        "dm01 <- demog %>%\n",
        " rename(race0 = race) %>%\n",
        " mutate(\n",
        " domain = \"DM\",\n",
        " studyid = study,\n",
        " subjid = pt,\n",
        " siteid = substr(pt, 1, 2),\n",
        " usubjid = paste(study, pt, sep = \"-\"),\n",
        " country = country,\n",
        " ethnic = toupper(ethnic),\n",
        " non_missing_count = rowSums(across(c(race0, race2, race3, race4), ~ !is.na(.) & . != \"\")),\n",
        "\n",
        " race = ifelse(non_missing_count > 1, \"MULTIPLE\", toupper(coalesce(race0, race2, race3, race4))),\n",
        " racesp = racesp,\n",
        " race1 = ifelse(non_missing_count > 1,toupper(race0),\"\"),\n",
        " race2 = ifelse(non_missing_count > 1,toupper(race2),\"\"),\n",
        " race3 = ifelse(non_missing_count > 1,toupper(race3),\"\"),\n",
        " race4 = ifelse(non_missing_count > 1,toupper(race4),\"\"),\n",
        "\n",
        " age = ifelse(!is.na(age_raw), as.integer(age_raw), NA_integer_),\n",
        " ageu = toupper(age_rawu),\n",
        " sex = ifelse(sex == \"Female\", \"F\", ifelse(sex == \"Male\", \"M\", sex))\n",
        " )\n",
        " select(dm01, c('domain','studyid','subjid', 'siteid','usubjid','country', 'ethnic','race','age','ageu','sex'))"
      ]
    },
    {
      "cell_type": "markdown",
      "id": "d70711d0-be7f-4d8a-9227-c1d4ed1a61f3",
      "metadata": {
        "id": "d70711d0-be7f-4d8a-9227-c1d4ed1a61f3"
      },
      "source": [
        "**4. Check the new variables**"
      ]
    },
    {
      "cell_type": "code",
      "execution_count": null,
      "id": "9c33f9d6-b7e6-4f87-ac0f-953b1f4a3437",
      "metadata": {
        "id": "9c33f9d6-b7e6-4f87-ac0f-953b1f4a3437",
        "outputId": "fb7830df-f001-4697-f03c-74cb3862f592"
      },
      "outputs": [
        {
          "data": {
            "text/html": [
              "<table class=\"dataframe\">\n",
              "<caption>A tibble: 8 × 11</caption>\n",
              "<thead>\n",
              "\t<tr><th scope=col>domain</th><th scope=col>studyid</th><th scope=col>subjid</th><th scope=col>siteid</th><th scope=col>usubjid</th><th scope=col>country</th><th scope=col>ethnic</th><th scope=col>race</th><th scope=col>age</th><th scope=col>ageu</th><th scope=col>sex</th></tr>\n",
              "\t<tr><th scope=col>&lt;chr&gt;</th><th scope=col>&lt;chr&gt;</th><th scope=col>&lt;chr&gt;</th><th scope=col>&lt;chr&gt;</th><th scope=col>&lt;chr&gt;</th><th scope=col>&lt;chr&gt;</th><th scope=col>&lt;chr&gt;</th><th scope=col>&lt;chr&gt;</th><th scope=col>&lt;int&gt;</th><th scope=col>&lt;chr&gt;</th><th scope=col>&lt;chr&gt;</th></tr>\n",
              "</thead>\n",
              "<tbody>\n",
              "\t<tr><td>DM</td><td>CSG001</td><td>1001</td><td>10</td><td>CSG001-1001</td><td>USA</td><td>HISPANIC OR LATINO    </td><td>WHITE                                    </td><td>35</td><td>YEARS</td><td>M</td></tr>\n",
              "\t<tr><td>DM</td><td>CSG001</td><td>1002</td><td>10</td><td>CSG001-1002</td><td>USA</td><td>NOT HISPANIC OR LATINO</td><td>MULTIPLE                                 </td><td>40</td><td>YEARS</td><td>F</td></tr>\n",
              "\t<tr><td>DM</td><td>CSG001</td><td>1003</td><td>10</td><td>CSG001-1003</td><td>USA</td><td>HISPANIC OR LATINO    </td><td>OTHER                                    </td><td>40</td><td>YEARS</td><td>M</td></tr>\n",
              "\t<tr><td>DM</td><td>CSG001</td><td>1004</td><td>10</td><td>CSG001-1004</td><td>USA</td><td>HISPANIC OR LATINO    </td><td>WHITE                                    </td><td>38</td><td>YEARS</td><td>M</td></tr>\n",
              "\t<tr><td>DM</td><td>CSG001</td><td>1005</td><td>10</td><td>CSG001-1005</td><td>USA</td><td>NOT HISPANIC OR LATINO</td><td>AMERICAN INDIAN OR ALASKA NATIVE         </td><td>64</td><td>YEARS</td><td>M</td></tr>\n",
              "\t<tr><td>DM</td><td>CSG001</td><td>1006</td><td>10</td><td>CSG001-1006</td><td>USA</td><td>NOT HISPANIC OR LATINO</td><td>NATIVE HAWAIIAN OR OTHER PACIFIC ISLANDER</td><td>75</td><td>YEARS</td><td>F</td></tr>\n",
              "\t<tr><td>DM</td><td>CSG001</td><td>1007</td><td>10</td><td>CSG001-1007</td><td>USA</td><td>NOT HISPANIC OR LATINO</td><td>UNKNOWN                                  </td><td>32</td><td>YEARS</td><td>M</td></tr>\n",
              "\t<tr><td>DM</td><td>CSG001</td><td>1008</td><td>10</td><td>CSG001-1008</td><td>USA</td><td>NOT HISPANIC OR LATINO</td><td>NOT REPORTED                             </td><td>83</td><td>YEARS</td><td>F</td></tr>\n",
              "</tbody>\n",
              "</table>\n"
            ],
            "text/latex": [
              "A tibble: 8 × 11\n",
              "\\begin{tabular}{lllllllllll}\n",
              " domain & studyid & subjid & siteid & usubjid & country & ethnic & race & age & ageu & sex\\\\\n",
              " <chr> & <chr> & <chr> & <chr> & <chr> & <chr> & <chr> & <chr> & <int> & <chr> & <chr>\\\\\n",
              "\\hline\n",
              "\t DM & CSG001 & 1001 & 10 & CSG001-1001 & USA & HISPANIC OR LATINO     & WHITE                                     & 35 & YEARS & M\\\\\n",
              "\t DM & CSG001 & 1002 & 10 & CSG001-1002 & USA & NOT HISPANIC OR LATINO & MULTIPLE                                  & 40 & YEARS & F\\\\\n",
              "\t DM & CSG001 & 1003 & 10 & CSG001-1003 & USA & HISPANIC OR LATINO     & OTHER                                     & 40 & YEARS & M\\\\\n",
              "\t DM & CSG001 & 1004 & 10 & CSG001-1004 & USA & HISPANIC OR LATINO     & WHITE                                     & 38 & YEARS & M\\\\\n",
              "\t DM & CSG001 & 1005 & 10 & CSG001-1005 & USA & NOT HISPANIC OR LATINO & AMERICAN INDIAN OR ALASKA NATIVE          & 64 & YEARS & M\\\\\n",
              "\t DM & CSG001 & 1006 & 10 & CSG001-1006 & USA & NOT HISPANIC OR LATINO & NATIVE HAWAIIAN OR OTHER PACIFIC ISLANDER & 75 & YEARS & F\\\\\n",
              "\t DM & CSG001 & 1007 & 10 & CSG001-1007 & USA & NOT HISPANIC OR LATINO & UNKNOWN                                   & 32 & YEARS & M\\\\\n",
              "\t DM & CSG001 & 1008 & 10 & CSG001-1008 & USA & NOT HISPANIC OR LATINO & NOT REPORTED                              & 83 & YEARS & F\\\\\n",
              "\\end{tabular}\n"
            ],
            "text/markdown": [
              "\n",
              "A tibble: 8 × 11\n",
              "\n",
              "| domain &lt;chr&gt; | studyid &lt;chr&gt; | subjid &lt;chr&gt; | siteid &lt;chr&gt; | usubjid &lt;chr&gt; | country &lt;chr&gt; | ethnic &lt;chr&gt; | race &lt;chr&gt; | age &lt;int&gt; | ageu &lt;chr&gt; | sex &lt;chr&gt; |\n",
              "|---|---|---|---|---|---|---|---|---|---|---|\n",
              "| DM | CSG001 | 1001 | 10 | CSG001-1001 | USA | HISPANIC OR LATINO     | WHITE                                     | 35 | YEARS | M |\n",
              "| DM | CSG001 | 1002 | 10 | CSG001-1002 | USA | NOT HISPANIC OR LATINO | MULTIPLE                                  | 40 | YEARS | F |\n",
              "| DM | CSG001 | 1003 | 10 | CSG001-1003 | USA | HISPANIC OR LATINO     | OTHER                                     | 40 | YEARS | M |\n",
              "| DM | CSG001 | 1004 | 10 | CSG001-1004 | USA | HISPANIC OR LATINO     | WHITE                                     | 38 | YEARS | M |\n",
              "| DM | CSG001 | 1005 | 10 | CSG001-1005 | USA | NOT HISPANIC OR LATINO | AMERICAN INDIAN OR ALASKA NATIVE          | 64 | YEARS | M |\n",
              "| DM | CSG001 | 1006 | 10 | CSG001-1006 | USA | NOT HISPANIC OR LATINO | NATIVE HAWAIIAN OR OTHER PACIFIC ISLANDER | 75 | YEARS | F |\n",
              "| DM | CSG001 | 1007 | 10 | CSG001-1007 | USA | NOT HISPANIC OR LATINO | UNKNOWN                                   | 32 | YEARS | M |\n",
              "| DM | CSG001 | 1008 | 10 | CSG001-1008 | USA | NOT HISPANIC OR LATINO | NOT REPORTED                              | 83 | YEARS | F |\n",
              "\n"
            ],
            "text/plain": [
              "  domain studyid subjid siteid usubjid     country ethnic                \n",
              "1 DM     CSG001  1001   10     CSG001-1001 USA     HISPANIC OR LATINO    \n",
              "2 DM     CSG001  1002   10     CSG001-1002 USA     NOT HISPANIC OR LATINO\n",
              "3 DM     CSG001  1003   10     CSG001-1003 USA     HISPANIC OR LATINO    \n",
              "4 DM     CSG001  1004   10     CSG001-1004 USA     HISPANIC OR LATINO    \n",
              "5 DM     CSG001  1005   10     CSG001-1005 USA     NOT HISPANIC OR LATINO\n",
              "6 DM     CSG001  1006   10     CSG001-1006 USA     NOT HISPANIC OR LATINO\n",
              "7 DM     CSG001  1007   10     CSG001-1007 USA     NOT HISPANIC OR LATINO\n",
              "8 DM     CSG001  1008   10     CSG001-1008 USA     NOT HISPANIC OR LATINO\n",
              "  race                                      age ageu  sex\n",
              "1 WHITE                                     35  YEARS M  \n",
              "2 MULTIPLE                                  40  YEARS F  \n",
              "3 OTHER                                     40  YEARS M  \n",
              "4 WHITE                                     38  YEARS M  \n",
              "5 AMERICAN INDIAN OR ALASKA NATIVE          64  YEARS M  \n",
              "6 NATIVE HAWAIIAN OR OTHER PACIFIC ISLANDER 75  YEARS F  \n",
              "7 UNKNOWN                                   32  YEARS M  \n",
              "8 NOT REPORTED                              83  YEARS F  "
            ]
          },
          "metadata": {},
          "output_type": "display_data"
        }
      ],
      "source": [
        "select(dm01, c('domain','studyid','subjid', 'siteid','usubjid','country', 'ethnic','race','age','ageu','sex'))"
      ]
    },
    {
      "cell_type": "code",
      "execution_count": null,
      "id": "57618440-1795-4e56-b2e3-ddb946cde1bf",
      "metadata": {
        "id": "57618440-1795-4e56-b2e3-ddb946cde1bf",
        "outputId": "4e208dc3-91b6-4691-93f8-5b47222473a7"
      },
      "outputs": [
        {
          "data": {
            "text/html": [
              "<table class=\"dataframe\">\n",
              "<caption>A tibble: 8 × 9</caption>\n",
              "<thead>\n",
              "\t<tr><th scope=col>study</th><th scope=col>pt</th><th scope=col>folder</th><th scope=col>icdt_raw</th><th scope=col>icvers</th><th scope=col>prtvers</th><th scope=col>enrldt_raw</th><th scope=col>randdt_raw</th><th scope=col>randno</th></tr>\n",
              "\t<tr><th scope=col>&lt;chr&gt;</th><th scope=col>&lt;chr&gt;</th><th scope=col>&lt;chr&gt;</th><th scope=col>&lt;chr&gt;</th><th scope=col>&lt;chr&gt;</th><th scope=col>&lt;chr&gt;</th><th scope=col>&lt;chr&gt;</th><th scope=col>&lt;chr&gt;</th><th scope=col>&lt;chr&gt;</th></tr>\n",
              "</thead>\n",
              "<tbody>\n",
              "\t<tr><td>CSG001</td><td>1001</td><td>SCR</td><td>1/JAN/2010 </td><td>1</td><td>1</td><td>           </td><td>           </td><td>      </td></tr>\n",
              "\t<tr><td>CSG001</td><td>1002</td><td>SCR</td><td>1/JAN/2010 </td><td>1</td><td>1</td><td>4/JAN/2010 </td><td>           </td><td>      </td></tr>\n",
              "\t<tr><td>CSG001</td><td>1003</td><td>SCR</td><td>1/JAN/2010 </td><td>1</td><td>1</td><td>3/JAN/2010 </td><td>3/JAN/2010 </td><td>514876</td></tr>\n",
              "\t<tr><td>CSG001</td><td>1004</td><td>SCR</td><td>1/JAN/2010 </td><td>1</td><td>1</td><td>4/JAN/2010 </td><td>5/JAN/2010 </td><td>101415</td></tr>\n",
              "\t<tr><td>CSG001</td><td>1005</td><td>SCR</td><td>15/JAN/2010</td><td>1</td><td>1</td><td>1/FEB/2010 </td><td>5/FEB/2010 </td><td>306185</td></tr>\n",
              "\t<tr><td>CSG001</td><td>1006</td><td>SCR</td><td>18/FEB/2010</td><td>1</td><td>1</td><td>1/MAR/2010 </td><td>1/MAR/2010 </td><td>987435</td></tr>\n",
              "\t<tr><td>CSG001</td><td>1007</td><td>SCR</td><td>4/APR/2010 </td><td>2</td><td>2</td><td>14/APR/2010</td><td>14/APR/2010</td><td>098745</td></tr>\n",
              "\t<tr><td>CSG001</td><td>1008</td><td>SCR</td><td>20/JUN/2010</td><td>2</td><td>3</td><td>26/JUN/2010</td><td>27/JUN/2010</td><td>123098</td></tr>\n",
              "</tbody>\n",
              "</table>\n"
            ],
            "text/latex": [
              "A tibble: 8 × 9\n",
              "\\begin{tabular}{lllllllll}\n",
              " study & pt & folder & icdt\\_raw & icvers & prtvers & enrldt\\_raw & randdt\\_raw & randno\\\\\n",
              " <chr> & <chr> & <chr> & <chr> & <chr> & <chr> & <chr> & <chr> & <chr>\\\\\n",
              "\\hline\n",
              "\t CSG001 & 1001 & SCR & 1/JAN/2010  & 1 & 1 &             &             &       \\\\\n",
              "\t CSG001 & 1002 & SCR & 1/JAN/2010  & 1 & 1 & 4/JAN/2010  &             &       \\\\\n",
              "\t CSG001 & 1003 & SCR & 1/JAN/2010  & 1 & 1 & 3/JAN/2010  & 3/JAN/2010  & 514876\\\\\n",
              "\t CSG001 & 1004 & SCR & 1/JAN/2010  & 1 & 1 & 4/JAN/2010  & 5/JAN/2010  & 101415\\\\\n",
              "\t CSG001 & 1005 & SCR & 15/JAN/2010 & 1 & 1 & 1/FEB/2010  & 5/FEB/2010  & 306185\\\\\n",
              "\t CSG001 & 1006 & SCR & 18/FEB/2010 & 1 & 1 & 1/MAR/2010  & 1/MAR/2010  & 987435\\\\\n",
              "\t CSG001 & 1007 & SCR & 4/APR/2010  & 2 & 2 & 14/APR/2010 & 14/APR/2010 & 098745\\\\\n",
              "\t CSG001 & 1008 & SCR & 20/JUN/2010 & 2 & 3 & 26/JUN/2010 & 27/JUN/2010 & 123098\\\\\n",
              "\\end{tabular}\n"
            ],
            "text/markdown": [
              "\n",
              "A tibble: 8 × 9\n",
              "\n",
              "| study &lt;chr&gt; | pt &lt;chr&gt; | folder &lt;chr&gt; | icdt_raw &lt;chr&gt; | icvers &lt;chr&gt; | prtvers &lt;chr&gt; | enrldt_raw &lt;chr&gt; | randdt_raw &lt;chr&gt; | randno &lt;chr&gt; |\n",
              "|---|---|---|---|---|---|---|---|---|\n",
              "| CSG001 | 1001 | SCR | 1/JAN/2010  | 1 | 1 | <!----> | <!----> | <!----> |\n",
              "| CSG001 | 1002 | SCR | 1/JAN/2010  | 1 | 1 | 4/JAN/2010  | <!----> | <!----> |\n",
              "| CSG001 | 1003 | SCR | 1/JAN/2010  | 1 | 1 | 3/JAN/2010  | 3/JAN/2010  | 514876 |\n",
              "| CSG001 | 1004 | SCR | 1/JAN/2010  | 1 | 1 | 4/JAN/2010  | 5/JAN/2010  | 101415 |\n",
              "| CSG001 | 1005 | SCR | 15/JAN/2010 | 1 | 1 | 1/FEB/2010  | 5/FEB/2010  | 306185 |\n",
              "| CSG001 | 1006 | SCR | 18/FEB/2010 | 1 | 1 | 1/MAR/2010  | 1/MAR/2010  | 987435 |\n",
              "| CSG001 | 1007 | SCR | 4/APR/2010  | 2 | 2 | 14/APR/2010 | 14/APR/2010 | 098745 |\n",
              "| CSG001 | 1008 | SCR | 20/JUN/2010 | 2 | 3 | 26/JUN/2010 | 27/JUN/2010 | 123098 |\n",
              "\n"
            ],
            "text/plain": [
              "  study  pt   folder icdt_raw    icvers prtvers enrldt_raw  randdt_raw  randno\n",
              "1 CSG001 1001 SCR    1/JAN/2010  1      1                                     \n",
              "2 CSG001 1002 SCR    1/JAN/2010  1      1       4/JAN/2010                    \n",
              "3 CSG001 1003 SCR    1/JAN/2010  1      1       3/JAN/2010  3/JAN/2010  514876\n",
              "4 CSG001 1004 SCR    1/JAN/2010  1      1       4/JAN/2010  5/JAN/2010  101415\n",
              "5 CSG001 1005 SCR    15/JAN/2010 1      1       1/FEB/2010  5/FEB/2010  306185\n",
              "6 CSG001 1006 SCR    18/FEB/2010 1      1       1/MAR/2010  1/MAR/2010  987435\n",
              "7 CSG001 1007 SCR    4/APR/2010  2      2       14/APR/2010 14/APR/2010 098745\n",
              "8 CSG001 1008 SCR    20/JUN/2010 2      3       26/JUN/2010 27/JUN/2010 123098"
            ]
          },
          "metadata": {},
          "output_type": "display_data"
        }
      ],
      "source": [
        "enrlment"
      ]
    },
    {
      "cell_type": "markdown",
      "id": "09a6f136-6619-4ac2-9747-da23a3faef17",
      "metadata": {
        "id": "09a6f136-6619-4ac2-9747-da23a3faef17"
      },
      "source": [
        "**Derive disposition related variables**"
      ]
    },
    {
      "cell_type": "code",
      "execution_count": null,
      "id": "daf4a3f6-4e08-4d9d-b949-265b97c0519f",
      "metadata": {
        "id": "daf4a3f6-4e08-4d9d-b949-265b97c0519f"
      },
      "outputs": [],
      "source": [
        "rficdtc <- enrlment %>%\n",
        " mutate(\n",
        " rficdtc = ifelse(!is.na(icdt_raw), format(as.Date(icdt_raw, format = \"%d/%b/%Y\"),\"%Y-%m-%d\"), NA),\n",
        " enrldtc = ifelse(!is.na(enrldt_raw), format(as.Date(enrldt_raw, format = \"%d/%b/%Y\"),\"%Y-%m-%d\"), NA),\n",
        " randdtc = ifelse(!is.na(randdt_raw), format(as.Date(randdt_raw, format = \"%d/%b/%Y\"),\"%Y-%m-%d\"), NA)\n",
        " ) %>%\n",
        " select(study, pt, rficdtc, enrldtc, randdtc)\n",
        "\n",
        "rfendtc <- eos %>%\n",
        " filter(eoscat == \"End of Study\") %>%\n",
        " mutate(rfendtc = ifelse(!is.na(eostdt_raw), format(as.Date(eostdt_raw, format = \"%d/%b/%Y\"),\"%Y-%m-%d\"), NA)) %>%\n",
        " select(study, pt, rfendtc)\n",
        "\n",
        "dthdtc <- eos %>%\n",
        " filter(eoscat == \"End of Study\" & eoterm == \"Death\") %>%\n",
        " mutate(dthdtc = ifelse(!is.na(eostdt_raw), format(as.Date(eostdt_raw, format = \"%d/%b/%Y\"),\"%Y-%m-%d\"), NA), dthfl = \"Y\") %>%\n",
        " select(study, pt, dthdtc, dthfl)\n"
      ]
    },
    {
      "cell_type": "code",
      "execution_count": null,
      "id": "dfe11094-bf0e-4569-a0a9-696bce510df6",
      "metadata": {
        "id": "dfe11094-bf0e-4569-a0a9-696bce510df6",
        "outputId": "f69ba71c-d89a-4809-b941-6ca10a8fc584"
      },
      "outputs": [
        {
          "data": {
            "text/html": [
              "<table class=\"dataframe\">\n",
              "<caption>A tibble: 8 × 5</caption>\n",
              "<thead>\n",
              "\t<tr><th scope=col>study</th><th scope=col>pt</th><th scope=col>rficdtc</th><th scope=col>enrldtc</th><th scope=col>randdtc</th></tr>\n",
              "\t<tr><th scope=col>&lt;chr&gt;</th><th scope=col>&lt;chr&gt;</th><th scope=col>&lt;chr&gt;</th><th scope=col>&lt;chr&gt;</th><th scope=col>&lt;chr&gt;</th></tr>\n",
              "</thead>\n",
              "<tbody>\n",
              "\t<tr><td>CSG001</td><td>1001</td><td>2010-01-01</td><td>NA        </td><td>NA        </td></tr>\n",
              "\t<tr><td>CSG001</td><td>1002</td><td>2010-01-01</td><td>2010-01-04</td><td>NA        </td></tr>\n",
              "\t<tr><td>CSG001</td><td>1003</td><td>2010-01-01</td><td>2010-01-03</td><td>2010-01-03</td></tr>\n",
              "\t<tr><td>CSG001</td><td>1004</td><td>2010-01-01</td><td>2010-01-04</td><td>2010-01-05</td></tr>\n",
              "\t<tr><td>CSG001</td><td>1005</td><td>2010-01-15</td><td>2010-02-01</td><td>2010-02-05</td></tr>\n",
              "\t<tr><td>CSG001</td><td>1006</td><td>2010-02-18</td><td>2010-03-01</td><td>2010-03-01</td></tr>\n",
              "\t<tr><td>CSG001</td><td>1007</td><td>2010-04-04</td><td>2010-04-14</td><td>2010-04-14</td></tr>\n",
              "\t<tr><td>CSG001</td><td>1008</td><td>2010-06-20</td><td>2010-06-26</td><td>2010-06-27</td></tr>\n",
              "</tbody>\n",
              "</table>\n"
            ],
            "text/latex": [
              "A tibble: 8 × 5\n",
              "\\begin{tabular}{lllll}\n",
              " study & pt & rficdtc & enrldtc & randdtc\\\\\n",
              " <chr> & <chr> & <chr> & <chr> & <chr>\\\\\n",
              "\\hline\n",
              "\t CSG001 & 1001 & 2010-01-01 & NA         & NA        \\\\\n",
              "\t CSG001 & 1002 & 2010-01-01 & 2010-01-04 & NA        \\\\\n",
              "\t CSG001 & 1003 & 2010-01-01 & 2010-01-03 & 2010-01-03\\\\\n",
              "\t CSG001 & 1004 & 2010-01-01 & 2010-01-04 & 2010-01-05\\\\\n",
              "\t CSG001 & 1005 & 2010-01-15 & 2010-02-01 & 2010-02-05\\\\\n",
              "\t CSG001 & 1006 & 2010-02-18 & 2010-03-01 & 2010-03-01\\\\\n",
              "\t CSG001 & 1007 & 2010-04-04 & 2010-04-14 & 2010-04-14\\\\\n",
              "\t CSG001 & 1008 & 2010-06-20 & 2010-06-26 & 2010-06-27\\\\\n",
              "\\end{tabular}\n"
            ],
            "text/markdown": [
              "\n",
              "A tibble: 8 × 5\n",
              "\n",
              "| study &lt;chr&gt; | pt &lt;chr&gt; | rficdtc &lt;chr&gt; | enrldtc &lt;chr&gt; | randdtc &lt;chr&gt; |\n",
              "|---|---|---|---|---|\n",
              "| CSG001 | 1001 | 2010-01-01 | NA         | NA         |\n",
              "| CSG001 | 1002 | 2010-01-01 | 2010-01-04 | NA         |\n",
              "| CSG001 | 1003 | 2010-01-01 | 2010-01-03 | 2010-01-03 |\n",
              "| CSG001 | 1004 | 2010-01-01 | 2010-01-04 | 2010-01-05 |\n",
              "| CSG001 | 1005 | 2010-01-15 | 2010-02-01 | 2010-02-05 |\n",
              "| CSG001 | 1006 | 2010-02-18 | 2010-03-01 | 2010-03-01 |\n",
              "| CSG001 | 1007 | 2010-04-04 | 2010-04-14 | 2010-04-14 |\n",
              "| CSG001 | 1008 | 2010-06-20 | 2010-06-26 | 2010-06-27 |\n",
              "\n"
            ],
            "text/plain": [
              "  study  pt   rficdtc    enrldtc    randdtc   \n",
              "1 CSG001 1001 2010-01-01 NA         NA        \n",
              "2 CSG001 1002 2010-01-01 2010-01-04 NA        \n",
              "3 CSG001 1003 2010-01-01 2010-01-03 2010-01-03\n",
              "4 CSG001 1004 2010-01-01 2010-01-04 2010-01-05\n",
              "5 CSG001 1005 2010-01-15 2010-02-01 2010-02-05\n",
              "6 CSG001 1006 2010-02-18 2010-03-01 2010-03-01\n",
              "7 CSG001 1007 2010-04-04 2010-04-14 2010-04-14\n",
              "8 CSG001 1008 2010-06-20 2010-06-26 2010-06-27"
            ]
          },
          "metadata": {},
          "output_type": "display_data"
        }
      ],
      "source": [
        "rficdtc"
      ]
    },
    {
      "cell_type": "code",
      "execution_count": null,
      "id": "7c6e6030-cafa-47d2-b2d2-0d35e4c4cdec",
      "metadata": {
        "id": "7c6e6030-cafa-47d2-b2d2-0d35e4c4cdec",
        "outputId": "4d2f4029-c4f0-4221-a535-79ef78ee21e7"
      },
      "outputs": [
        {
          "data": {
            "text/html": [
              "<table class=\"dataframe\">\n",
              "<caption>A tibble: 6 × 3</caption>\n",
              "<thead>\n",
              "\t<tr><th scope=col>study</th><th scope=col>pt</th><th scope=col>rfendtc</th></tr>\n",
              "\t<tr><th scope=col>&lt;chr&gt;</th><th scope=col>&lt;chr&gt;</th><th scope=col>&lt;chr&gt;</th></tr>\n",
              "</thead>\n",
              "<tbody>\n",
              "\t<tr><td>CSG001</td><td>1002</td><td>2010-01-05</td></tr>\n",
              "\t<tr><td>CSG001</td><td>1003</td><td>2010-01-05</td></tr>\n",
              "\t<tr><td>CSG001</td><td>1004</td><td>2010-02-28</td></tr>\n",
              "\t<tr><td>CSG001</td><td>1006</td><td>2010-03-25</td></tr>\n",
              "\t<tr><td>CSG001</td><td>1007</td><td>2010-06-12</td></tr>\n",
              "\t<tr><td>CSG001</td><td>1008</td><td>2010-08-18</td></tr>\n",
              "</tbody>\n",
              "</table>\n"
            ],
            "text/latex": [
              "A tibble: 6 × 3\n",
              "\\begin{tabular}{lll}\n",
              " study & pt & rfendtc\\\\\n",
              " <chr> & <chr> & <chr>\\\\\n",
              "\\hline\n",
              "\t CSG001 & 1002 & 2010-01-05\\\\\n",
              "\t CSG001 & 1003 & 2010-01-05\\\\\n",
              "\t CSG001 & 1004 & 2010-02-28\\\\\n",
              "\t CSG001 & 1006 & 2010-03-25\\\\\n",
              "\t CSG001 & 1007 & 2010-06-12\\\\\n",
              "\t CSG001 & 1008 & 2010-08-18\\\\\n",
              "\\end{tabular}\n"
            ],
            "text/markdown": [
              "\n",
              "A tibble: 6 × 3\n",
              "\n",
              "| study &lt;chr&gt; | pt &lt;chr&gt; | rfendtc &lt;chr&gt; |\n",
              "|---|---|---|\n",
              "| CSG001 | 1002 | 2010-01-05 |\n",
              "| CSG001 | 1003 | 2010-01-05 |\n",
              "| CSG001 | 1004 | 2010-02-28 |\n",
              "| CSG001 | 1006 | 2010-03-25 |\n",
              "| CSG001 | 1007 | 2010-06-12 |\n",
              "| CSG001 | 1008 | 2010-08-18 |\n",
              "\n"
            ],
            "text/plain": [
              "  study  pt   rfendtc   \n",
              "1 CSG001 1002 2010-01-05\n",
              "2 CSG001 1003 2010-01-05\n",
              "3 CSG001 1004 2010-02-28\n",
              "4 CSG001 1006 2010-03-25\n",
              "5 CSG001 1007 2010-06-12\n",
              "6 CSG001 1008 2010-08-18"
            ]
          },
          "metadata": {},
          "output_type": "display_data"
        }
      ],
      "source": [
        "rfendtc"
      ]
    },
    {
      "cell_type": "code",
      "execution_count": null,
      "id": "16acf300-204c-4887-832e-5b8f92fd49c8",
      "metadata": {
        "id": "16acf300-204c-4887-832e-5b8f92fd49c8",
        "outputId": "d7370685-2429-4dca-cadb-6d29e226d56a"
      },
      "outputs": [
        {
          "data": {
            "text/html": [
              "<table class=\"dataframe\">\n",
              "<caption>A tibble: 1 × 4</caption>\n",
              "<thead>\n",
              "\t<tr><th scope=col>study</th><th scope=col>pt</th><th scope=col>dthdtc</th><th scope=col>dthfl</th></tr>\n",
              "\t<tr><th scope=col>&lt;chr&gt;</th><th scope=col>&lt;chr&gt;</th><th scope=col>&lt;chr&gt;</th><th scope=col>&lt;chr&gt;</th></tr>\n",
              "</thead>\n",
              "<tbody>\n",
              "\t<tr><td>CSG001</td><td>1003</td><td>2010-01-05</td><td>Y</td></tr>\n",
              "</tbody>\n",
              "</table>\n"
            ],
            "text/latex": [
              "A tibble: 1 × 4\n",
              "\\begin{tabular}{llll}\n",
              " study & pt & dthdtc & dthfl\\\\\n",
              " <chr> & <chr> & <chr> & <chr>\\\\\n",
              "\\hline\n",
              "\t CSG001 & 1003 & 2010-01-05 & Y\\\\\n",
              "\\end{tabular}\n"
            ],
            "text/markdown": [
              "\n",
              "A tibble: 1 × 4\n",
              "\n",
              "| study &lt;chr&gt; | pt &lt;chr&gt; | dthdtc &lt;chr&gt; | dthfl &lt;chr&gt; |\n",
              "|---|---|---|---|\n",
              "| CSG001 | 1003 | 2010-01-05 | Y |\n",
              "\n"
            ],
            "text/plain": [
              "  study  pt   dthdtc     dthfl\n",
              "1 CSG001 1003 2010-01-05 Y    "
            ]
          },
          "metadata": {},
          "output_type": "display_data"
        }
      ],
      "source": [
        "dthdtc"
      ]
    },
    {
      "cell_type": "markdown",
      "id": "e0ecd4f2-125f-499f-9ef8-f02aa32c1f3b",
      "metadata": {
        "id": "e0ecd4f2-125f-499f-9ef8-f02aa32c1f3b"
      },
      "source": [
        "**Get Exposure Related Variables**"
      ]
    },
    {
      "cell_type": "code",
      "execution_count": null,
      "id": "ad8fbaa1-cabd-455c-84cb-56a44eb565a6",
      "metadata": {
        "id": "ad8fbaa1-cabd-455c-84cb-56a44eb565a6"
      },
      "outputs": [],
      "source": [
        "exp01 <- ipadmin %>%\n",
        " filter(as.integer(ipqty_raw) > 0) %>%\n",
        " mutate(\n",
        " ipstdtc = as.Date(ipstdt_raw, format = \"%d/%b/%Y\"),\n",
        " ipsttm = format(as.POSIXct(ipsttm_raw, format = \"%H:%M\", tz = \"\"),\"%H:%M\"),\n",
        " tempdtc = paste(ipstdtc, ipsttm, sep = \"T\")\n",
        " ) %>%\n",
        " select(study, pt, tempdtc, ipboxid)\n",
        "\n",
        "#Earliest treatment date\n",
        "rfxstdtc <- exp01 %>%\n",
        " arrange(study,pt,tempdtc) %>%\n",
        " group_by(study, pt) %>%\n",
        " slice(1) %>%\n",
        " mutate(rfxstdtc = tempdtc)\n",
        "\n",
        "#Late treatment date\n",
        "rfxendtc <- exp01 %>%\n",
        " arrange(study,pt,tempdtc) %>%\n",
        " group_by(study, pt) %>%\n",
        " slice(n()) %>%\n",
        " mutate(rfxendtc = tempdtc)"
      ]
    },
    {
      "cell_type": "code",
      "execution_count": null,
      "id": "bfff8361-9126-4f00-8cc9-7d64fc82d458",
      "metadata": {
        "id": "bfff8361-9126-4f00-8cc9-7d64fc82d458",
        "outputId": "d2ab725b-5548-4677-f8f5-78612aa3a6c9"
      },
      "outputs": [
        {
          "data": {
            "text/html": [
              "<table class=\"dataframe\">\n",
              "<caption>A tibble: 15 × 4</caption>\n",
              "<thead>\n",
              "\t<tr><th scope=col>study</th><th scope=col>pt</th><th scope=col>tempdtc</th><th scope=col>ipboxid</th></tr>\n",
              "\t<tr><th scope=col>&lt;chr&gt;</th><th scope=col>&lt;chr&gt;</th><th scope=col>&lt;chr&gt;</th><th scope=col>&lt;chr&gt;</th></tr>\n",
              "</thead>\n",
              "<tbody>\n",
              "\t<tr><td>CSG001</td><td>1004</td><td>2010-01-05T08:35</td><td>13434371</td></tr>\n",
              "\t<tr><td>CSG001</td><td>1004</td><td>2010-01-12T08:35</td><td>52970539</td></tr>\n",
              "\t<tr><td>CSG001</td><td>1004</td><td>2010-01-18T09:30</td><td>52120567</td></tr>\n",
              "\t<tr><td>CSG001</td><td>1004</td><td>2010-01-25T08:45</td><td>59305202</td></tr>\n",
              "\t<tr><td>CSG001</td><td>1005</td><td>2010-02-05T08:46</td><td>13787377</td></tr>\n",
              "\t<tr><td>CSG001</td><td>1005</td><td>2010-02-12T08:30</td><td>65580239</td></tr>\n",
              "\t<tr><td>CSG001</td><td>1006</td><td>2010-03-02T08:30</td><td>39024101</td></tr>\n",
              "\t<tr><td>CSG001</td><td>1006</td><td>2010-03-10T08:30</td><td>65845489</td></tr>\n",
              "\t<tr><td>CSG001</td><td>1007</td><td>2010-04-15T08:23</td><td>66223983</td></tr>\n",
              "\t<tr><td>CSG001</td><td>1007</td><td>2010-04-22T09:00</td><td>71763169</td></tr>\n",
              "\t<tr><td>CSG001</td><td>1007</td><td>2010-04-29T09:03</td><td>60038358</td></tr>\n",
              "\t<tr><td>CSG001</td><td>1007</td><td>2010-05-06T08:12</td><td>68706162</td></tr>\n",
              "\t<tr><td>CSG001</td><td>1008</td><td>2010-06-27T08:45</td><td>68891589</td></tr>\n",
              "\t<tr><td>CSG001</td><td>1008</td><td>2010-07-04T08:17</td><td>2311359 </td></tr>\n",
              "\t<tr><td>CSG001</td><td>1008</td><td>2010-07-11T09:20</td><td>3199027 </td></tr>\n",
              "</tbody>\n",
              "</table>\n"
            ],
            "text/latex": [
              "A tibble: 15 × 4\n",
              "\\begin{tabular}{llll}\n",
              " study & pt & tempdtc & ipboxid\\\\\n",
              " <chr> & <chr> & <chr> & <chr>\\\\\n",
              "\\hline\n",
              "\t CSG001 & 1004 & 2010-01-05T08:35 & 13434371\\\\\n",
              "\t CSG001 & 1004 & 2010-01-12T08:35 & 52970539\\\\\n",
              "\t CSG001 & 1004 & 2010-01-18T09:30 & 52120567\\\\\n",
              "\t CSG001 & 1004 & 2010-01-25T08:45 & 59305202\\\\\n",
              "\t CSG001 & 1005 & 2010-02-05T08:46 & 13787377\\\\\n",
              "\t CSG001 & 1005 & 2010-02-12T08:30 & 65580239\\\\\n",
              "\t CSG001 & 1006 & 2010-03-02T08:30 & 39024101\\\\\n",
              "\t CSG001 & 1006 & 2010-03-10T08:30 & 65845489\\\\\n",
              "\t CSG001 & 1007 & 2010-04-15T08:23 & 66223983\\\\\n",
              "\t CSG001 & 1007 & 2010-04-22T09:00 & 71763169\\\\\n",
              "\t CSG001 & 1007 & 2010-04-29T09:03 & 60038358\\\\\n",
              "\t CSG001 & 1007 & 2010-05-06T08:12 & 68706162\\\\\n",
              "\t CSG001 & 1008 & 2010-06-27T08:45 & 68891589\\\\\n",
              "\t CSG001 & 1008 & 2010-07-04T08:17 & 2311359 \\\\\n",
              "\t CSG001 & 1008 & 2010-07-11T09:20 & 3199027 \\\\\n",
              "\\end{tabular}\n"
            ],
            "text/markdown": [
              "\n",
              "A tibble: 15 × 4\n",
              "\n",
              "| study &lt;chr&gt; | pt &lt;chr&gt; | tempdtc &lt;chr&gt; | ipboxid &lt;chr&gt; |\n",
              "|---|---|---|---|\n",
              "| CSG001 | 1004 | 2010-01-05T08:35 | 13434371 |\n",
              "| CSG001 | 1004 | 2010-01-12T08:35 | 52970539 |\n",
              "| CSG001 | 1004 | 2010-01-18T09:30 | 52120567 |\n",
              "| CSG001 | 1004 | 2010-01-25T08:45 | 59305202 |\n",
              "| CSG001 | 1005 | 2010-02-05T08:46 | 13787377 |\n",
              "| CSG001 | 1005 | 2010-02-12T08:30 | 65580239 |\n",
              "| CSG001 | 1006 | 2010-03-02T08:30 | 39024101 |\n",
              "| CSG001 | 1006 | 2010-03-10T08:30 | 65845489 |\n",
              "| CSG001 | 1007 | 2010-04-15T08:23 | 66223983 |\n",
              "| CSG001 | 1007 | 2010-04-22T09:00 | 71763169 |\n",
              "| CSG001 | 1007 | 2010-04-29T09:03 | 60038358 |\n",
              "| CSG001 | 1007 | 2010-05-06T08:12 | 68706162 |\n",
              "| CSG001 | 1008 | 2010-06-27T08:45 | 68891589 |\n",
              "| CSG001 | 1008 | 2010-07-04T08:17 | 2311359  |\n",
              "| CSG001 | 1008 | 2010-07-11T09:20 | 3199027  |\n",
              "\n"
            ],
            "text/plain": [
              "   study  pt   tempdtc          ipboxid \n",
              "1  CSG001 1004 2010-01-05T08:35 13434371\n",
              "2  CSG001 1004 2010-01-12T08:35 52970539\n",
              "3  CSG001 1004 2010-01-18T09:30 52120567\n",
              "4  CSG001 1004 2010-01-25T08:45 59305202\n",
              "5  CSG001 1005 2010-02-05T08:46 13787377\n",
              "6  CSG001 1005 2010-02-12T08:30 65580239\n",
              "7  CSG001 1006 2010-03-02T08:30 39024101\n",
              "8  CSG001 1006 2010-03-10T08:30 65845489\n",
              "9  CSG001 1007 2010-04-15T08:23 66223983\n",
              "10 CSG001 1007 2010-04-22T09:00 71763169\n",
              "11 CSG001 1007 2010-04-29T09:03 60038358\n",
              "12 CSG001 1007 2010-05-06T08:12 68706162\n",
              "13 CSG001 1008 2010-06-27T08:45 68891589\n",
              "14 CSG001 1008 2010-07-04T08:17 2311359 \n",
              "15 CSG001 1008 2010-07-11T09:20 3199027 "
            ]
          },
          "metadata": {},
          "output_type": "display_data"
        }
      ],
      "source": [
        "exp01"
      ]
    },
    {
      "cell_type": "code",
      "execution_count": null,
      "id": "f3982128-adec-4d28-9b2b-71082810b440",
      "metadata": {
        "id": "f3982128-adec-4d28-9b2b-71082810b440",
        "outputId": "dc9dea6d-fdb5-4afe-e1a1-4a2d19c53529"
      },
      "outputs": [
        {
          "data": {
            "text/html": [
              "<table class=\"dataframe\">\n",
              "<caption>A grouped_df: 5 × 5</caption>\n",
              "<thead>\n",
              "\t<tr><th scope=col>study</th><th scope=col>pt</th><th scope=col>tempdtc</th><th scope=col>ipboxid</th><th scope=col>rfxstdtc</th></tr>\n",
              "\t<tr><th scope=col>&lt;chr&gt;</th><th scope=col>&lt;chr&gt;</th><th scope=col>&lt;chr&gt;</th><th scope=col>&lt;chr&gt;</th><th scope=col>&lt;chr&gt;</th></tr>\n",
              "</thead>\n",
              "<tbody>\n",
              "\t<tr><td>CSG001</td><td>1004</td><td>2010-01-05T08:35</td><td>13434371</td><td>2010-01-05T08:35</td></tr>\n",
              "\t<tr><td>CSG001</td><td>1005</td><td>2010-02-05T08:46</td><td>13787377</td><td>2010-02-05T08:46</td></tr>\n",
              "\t<tr><td>CSG001</td><td>1006</td><td>2010-03-02T08:30</td><td>39024101</td><td>2010-03-02T08:30</td></tr>\n",
              "\t<tr><td>CSG001</td><td>1007</td><td>2010-04-15T08:23</td><td>66223983</td><td>2010-04-15T08:23</td></tr>\n",
              "\t<tr><td>CSG001</td><td>1008</td><td>2010-06-27T08:45</td><td>68891589</td><td>2010-06-27T08:45</td></tr>\n",
              "</tbody>\n",
              "</table>\n"
            ],
            "text/latex": [
              "A grouped\\_df: 5 × 5\n",
              "\\begin{tabular}{lllll}\n",
              " study & pt & tempdtc & ipboxid & rfxstdtc\\\\\n",
              " <chr> & <chr> & <chr> & <chr> & <chr>\\\\\n",
              "\\hline\n",
              "\t CSG001 & 1004 & 2010-01-05T08:35 & 13434371 & 2010-01-05T08:35\\\\\n",
              "\t CSG001 & 1005 & 2010-02-05T08:46 & 13787377 & 2010-02-05T08:46\\\\\n",
              "\t CSG001 & 1006 & 2010-03-02T08:30 & 39024101 & 2010-03-02T08:30\\\\\n",
              "\t CSG001 & 1007 & 2010-04-15T08:23 & 66223983 & 2010-04-15T08:23\\\\\n",
              "\t CSG001 & 1008 & 2010-06-27T08:45 & 68891589 & 2010-06-27T08:45\\\\\n",
              "\\end{tabular}\n"
            ],
            "text/markdown": [
              "\n",
              "A grouped_df: 5 × 5\n",
              "\n",
              "| study &lt;chr&gt; | pt &lt;chr&gt; | tempdtc &lt;chr&gt; | ipboxid &lt;chr&gt; | rfxstdtc &lt;chr&gt; |\n",
              "|---|---|---|---|---|\n",
              "| CSG001 | 1004 | 2010-01-05T08:35 | 13434371 | 2010-01-05T08:35 |\n",
              "| CSG001 | 1005 | 2010-02-05T08:46 | 13787377 | 2010-02-05T08:46 |\n",
              "| CSG001 | 1006 | 2010-03-02T08:30 | 39024101 | 2010-03-02T08:30 |\n",
              "| CSG001 | 1007 | 2010-04-15T08:23 | 66223983 | 2010-04-15T08:23 |\n",
              "| CSG001 | 1008 | 2010-06-27T08:45 | 68891589 | 2010-06-27T08:45 |\n",
              "\n"
            ],
            "text/plain": [
              "  study  pt   tempdtc          ipboxid  rfxstdtc        \n",
              "1 CSG001 1004 2010-01-05T08:35 13434371 2010-01-05T08:35\n",
              "2 CSG001 1005 2010-02-05T08:46 13787377 2010-02-05T08:46\n",
              "3 CSG001 1006 2010-03-02T08:30 39024101 2010-03-02T08:30\n",
              "4 CSG001 1007 2010-04-15T08:23 66223983 2010-04-15T08:23\n",
              "5 CSG001 1008 2010-06-27T08:45 68891589 2010-06-27T08:45"
            ]
          },
          "metadata": {},
          "output_type": "display_data"
        }
      ],
      "source": [
        "rfxstdtc"
      ]
    },
    {
      "cell_type": "code",
      "execution_count": null,
      "id": "f165f663-a3b4-4a4b-85df-c365c74442c5",
      "metadata": {
        "id": "f165f663-a3b4-4a4b-85df-c365c74442c5",
        "outputId": "8ae9de44-8e55-46ab-f8c7-fe21c68e5da1"
      },
      "outputs": [
        {
          "data": {
            "text/html": [
              "<table class=\"dataframe\">\n",
              "<caption>A grouped_df: 5 × 5</caption>\n",
              "<thead>\n",
              "\t<tr><th scope=col>study</th><th scope=col>pt</th><th scope=col>tempdtc</th><th scope=col>ipboxid</th><th scope=col>rfxendtc</th></tr>\n",
              "\t<tr><th scope=col>&lt;chr&gt;</th><th scope=col>&lt;chr&gt;</th><th scope=col>&lt;chr&gt;</th><th scope=col>&lt;chr&gt;</th><th scope=col>&lt;chr&gt;</th></tr>\n",
              "</thead>\n",
              "<tbody>\n",
              "\t<tr><td>CSG001</td><td>1004</td><td>2010-01-25T08:45</td><td>59305202</td><td>2010-01-25T08:45</td></tr>\n",
              "\t<tr><td>CSG001</td><td>1005</td><td>2010-02-12T08:30</td><td>65580239</td><td>2010-02-12T08:30</td></tr>\n",
              "\t<tr><td>CSG001</td><td>1006</td><td>2010-03-10T08:30</td><td>65845489</td><td>2010-03-10T08:30</td></tr>\n",
              "\t<tr><td>CSG001</td><td>1007</td><td>2010-05-06T08:12</td><td>68706162</td><td>2010-05-06T08:12</td></tr>\n",
              "\t<tr><td>CSG001</td><td>1008</td><td>2010-07-11T09:20</td><td>3199027 </td><td>2010-07-11T09:20</td></tr>\n",
              "</tbody>\n",
              "</table>\n"
            ],
            "text/latex": [
              "A grouped\\_df: 5 × 5\n",
              "\\begin{tabular}{lllll}\n",
              " study & pt & tempdtc & ipboxid & rfxendtc\\\\\n",
              " <chr> & <chr> & <chr> & <chr> & <chr>\\\\\n",
              "\\hline\n",
              "\t CSG001 & 1004 & 2010-01-25T08:45 & 59305202 & 2010-01-25T08:45\\\\\n",
              "\t CSG001 & 1005 & 2010-02-12T08:30 & 65580239 & 2010-02-12T08:30\\\\\n",
              "\t CSG001 & 1006 & 2010-03-10T08:30 & 65845489 & 2010-03-10T08:30\\\\\n",
              "\t CSG001 & 1007 & 2010-05-06T08:12 & 68706162 & 2010-05-06T08:12\\\\\n",
              "\t CSG001 & 1008 & 2010-07-11T09:20 & 3199027  & 2010-07-11T09:20\\\\\n",
              "\\end{tabular}\n"
            ],
            "text/markdown": [
              "\n",
              "A grouped_df: 5 × 5\n",
              "\n",
              "| study &lt;chr&gt; | pt &lt;chr&gt; | tempdtc &lt;chr&gt; | ipboxid &lt;chr&gt; | rfxendtc &lt;chr&gt; |\n",
              "|---|---|---|---|---|\n",
              "| CSG001 | 1004 | 2010-01-25T08:45 | 59305202 | 2010-01-25T08:45 |\n",
              "| CSG001 | 1005 | 2010-02-12T08:30 | 65580239 | 2010-02-12T08:30 |\n",
              "| CSG001 | 1006 | 2010-03-10T08:30 | 65845489 | 2010-03-10T08:30 |\n",
              "| CSG001 | 1007 | 2010-05-06T08:12 | 68706162 | 2010-05-06T08:12 |\n",
              "| CSG001 | 1008 | 2010-07-11T09:20 | 3199027  | 2010-07-11T09:20 |\n",
              "\n"
            ],
            "text/plain": [
              "  study  pt   tempdtc          ipboxid  rfxendtc        \n",
              "1 CSG001 1004 2010-01-25T08:45 59305202 2010-01-25T08:45\n",
              "2 CSG001 1005 2010-02-12T08:30 65580239 2010-02-12T08:30\n",
              "3 CSG001 1006 2010-03-10T08:30 65845489 2010-03-10T08:30\n",
              "4 CSG001 1007 2010-05-06T08:12 68706162 2010-05-06T08:12\n",
              "5 CSG001 1008 2010-07-11T09:20 3199027  2010-07-11T09:20"
            ]
          },
          "metadata": {},
          "output_type": "display_data"
        }
      ],
      "source": [
        "rfxendtc"
      ]
    },
    {
      "cell_type": "code",
      "execution_count": null,
      "id": "19919b7a-17ee-4817-b884-3f22af8d2707",
      "metadata": {
        "id": "19919b7a-17ee-4817-b884-3f22af8d2707"
      },
      "outputs": [],
      "source": []
    },
    {
      "cell_type": "markdown",
      "id": "7fae7faa-2f18-4dd6-9846-5a598bb5f976",
      "metadata": {
        "id": "7fae7faa-2f18-4dd6-9846-5a598bb5f976"
      },
      "source": [
        "**Derive Planned and Actual Arm related variables**"
      ]
    },
    {
      "cell_type": "code",
      "execution_count": null,
      "id": "ddb90821-9cbf-483c-ba89-294bef74827b",
      "metadata": {
        "id": "ddb90821-9cbf-483c-ba89-294bef74827b"
      },
      "outputs": [],
      "source": [
        "randno <- enrlment %>%\n",
        " filter(!is.na(randno) & randno!=\"\") %>%\n",
        " select(study, pt, randno)\n",
        "\n",
        "rand01 <- rand %>%\n",
        " mutate(\n",
        " armcd = tx_cd,\n",
        " arm = ifelse(armcd == \"ACTIVE\", \"Active\", ifelse(armcd == \"PBO\", \"Placebo\", NA_character_))\n",
        " ) %>%\n",
        " select(armcd, arm, randno=rand_id)\n",
        "\n",
        "armcd <- randno %>%\n",
        " left_join(rand01, by = \"randno\")"
      ]
    },
    {
      "cell_type": "code",
      "execution_count": null,
      "id": "e0e01dcb-1870-4f20-92a8-e461d1cb8d48",
      "metadata": {
        "id": "e0e01dcb-1870-4f20-92a8-e461d1cb8d48",
        "outputId": "b5c53363-7a44-4f44-99c0-8f2cc849217b"
      },
      "outputs": [
        {
          "data": {
            "text/html": [
              "<table class=\"dataframe\">\n",
              "<caption>A tibble: 6 × 3</caption>\n",
              "<thead>\n",
              "\t<tr><th scope=col>study</th><th scope=col>pt</th><th scope=col>randno</th></tr>\n",
              "\t<tr><th scope=col>&lt;chr&gt;</th><th scope=col>&lt;chr&gt;</th><th scope=col>&lt;chr&gt;</th></tr>\n",
              "</thead>\n",
              "<tbody>\n",
              "\t<tr><td>CSG001</td><td>1003</td><td>514876</td></tr>\n",
              "\t<tr><td>CSG001</td><td>1004</td><td>101415</td></tr>\n",
              "\t<tr><td>CSG001</td><td>1005</td><td>306185</td></tr>\n",
              "\t<tr><td>CSG001</td><td>1006</td><td>987435</td></tr>\n",
              "\t<tr><td>CSG001</td><td>1007</td><td>098745</td></tr>\n",
              "\t<tr><td>CSG001</td><td>1008</td><td>123098</td></tr>\n",
              "</tbody>\n",
              "</table>\n"
            ],
            "text/latex": [
              "A tibble: 6 × 3\n",
              "\\begin{tabular}{lll}\n",
              " study & pt & randno\\\\\n",
              " <chr> & <chr> & <chr>\\\\\n",
              "\\hline\n",
              "\t CSG001 & 1003 & 514876\\\\\n",
              "\t CSG001 & 1004 & 101415\\\\\n",
              "\t CSG001 & 1005 & 306185\\\\\n",
              "\t CSG001 & 1006 & 987435\\\\\n",
              "\t CSG001 & 1007 & 098745\\\\\n",
              "\t CSG001 & 1008 & 123098\\\\\n",
              "\\end{tabular}\n"
            ],
            "text/markdown": [
              "\n",
              "A tibble: 6 × 3\n",
              "\n",
              "| study &lt;chr&gt; | pt &lt;chr&gt; | randno &lt;chr&gt; |\n",
              "|---|---|---|\n",
              "| CSG001 | 1003 | 514876 |\n",
              "| CSG001 | 1004 | 101415 |\n",
              "| CSG001 | 1005 | 306185 |\n",
              "| CSG001 | 1006 | 987435 |\n",
              "| CSG001 | 1007 | 098745 |\n",
              "| CSG001 | 1008 | 123098 |\n",
              "\n"
            ],
            "text/plain": [
              "  study  pt   randno\n",
              "1 CSG001 1003 514876\n",
              "2 CSG001 1004 101415\n",
              "3 CSG001 1005 306185\n",
              "4 CSG001 1006 987435\n",
              "5 CSG001 1007 098745\n",
              "6 CSG001 1008 123098"
            ]
          },
          "metadata": {},
          "output_type": "display_data"
        }
      ],
      "source": [
        "randno"
      ]
    },
    {
      "cell_type": "code",
      "execution_count": null,
      "id": "8f2fc8c6-0f8a-4fd6-a2be-15410ecde424",
      "metadata": {
        "id": "8f2fc8c6-0f8a-4fd6-a2be-15410ecde424",
        "outputId": "225a0039-6881-4d19-d6c0-f78a70a62ba5"
      },
      "outputs": [
        {
          "data": {
            "text/html": [
              "<table class=\"dataframe\">\n",
              "<caption>A tibble: 6 × 3</caption>\n",
              "<thead>\n",
              "\t<tr><th scope=col>armcd</th><th scope=col>arm</th><th scope=col>randno</th></tr>\n",
              "\t<tr><th scope=col>&lt;chr&gt;</th><th scope=col>&lt;chr&gt;</th><th scope=col>&lt;chr&gt;</th></tr>\n",
              "</thead>\n",
              "<tbody>\n",
              "\t<tr><td>PBO   </td><td>Placebo</td><td>514876</td></tr>\n",
              "\t<tr><td>ACTIVE</td><td>Active </td><td>101415</td></tr>\n",
              "\t<tr><td>ACTIVE</td><td>Active </td><td>306185</td></tr>\n",
              "\t<tr><td>PBO   </td><td>Placebo</td><td>987435</td></tr>\n",
              "\t<tr><td>PBO   </td><td>Placebo</td><td>098745</td></tr>\n",
              "\t<tr><td>ACTIVE</td><td>Active </td><td>123098</td></tr>\n",
              "</tbody>\n",
              "</table>\n"
            ],
            "text/latex": [
              "A tibble: 6 × 3\n",
              "\\begin{tabular}{lll}\n",
              " armcd & arm & randno\\\\\n",
              " <chr> & <chr> & <chr>\\\\\n",
              "\\hline\n",
              "\t PBO    & Placebo & 514876\\\\\n",
              "\t ACTIVE & Active  & 101415\\\\\n",
              "\t ACTIVE & Active  & 306185\\\\\n",
              "\t PBO    & Placebo & 987435\\\\\n",
              "\t PBO    & Placebo & 098745\\\\\n",
              "\t ACTIVE & Active  & 123098\\\\\n",
              "\\end{tabular}\n"
            ],
            "text/markdown": [
              "\n",
              "A tibble: 6 × 3\n",
              "\n",
              "| armcd &lt;chr&gt; | arm &lt;chr&gt; | randno &lt;chr&gt; |\n",
              "|---|---|---|\n",
              "| PBO    | Placebo | 514876 |\n",
              "| ACTIVE | Active  | 101415 |\n",
              "| ACTIVE | Active  | 306185 |\n",
              "| PBO    | Placebo | 987435 |\n",
              "| PBO    | Placebo | 098745 |\n",
              "| ACTIVE | Active  | 123098 |\n",
              "\n"
            ],
            "text/plain": [
              "  armcd  arm     randno\n",
              "1 PBO    Placebo 514876\n",
              "2 ACTIVE Active  101415\n",
              "3 ACTIVE Active  306185\n",
              "4 PBO    Placebo 987435\n",
              "5 PBO    Placebo 098745\n",
              "6 ACTIVE Active  123098"
            ]
          },
          "metadata": {},
          "output_type": "display_data"
        }
      ],
      "source": [
        "rand01"
      ]
    },
    {
      "cell_type": "code",
      "execution_count": null,
      "id": "5c28d2d6-da71-4c90-bef4-9b5e04bd9e85",
      "metadata": {
        "id": "5c28d2d6-da71-4c90-bef4-9b5e04bd9e85",
        "outputId": "7bc618bd-5360-4f37-9186-a46096f50e65"
      },
      "outputs": [
        {
          "data": {
            "text/html": [
              "<table class=\"dataframe\">\n",
              "<caption>A tibble: 6 × 5</caption>\n",
              "<thead>\n",
              "\t<tr><th scope=col>study</th><th scope=col>pt</th><th scope=col>randno</th><th scope=col>armcd</th><th scope=col>arm</th></tr>\n",
              "\t<tr><th scope=col>&lt;chr&gt;</th><th scope=col>&lt;chr&gt;</th><th scope=col>&lt;chr&gt;</th><th scope=col>&lt;chr&gt;</th><th scope=col>&lt;chr&gt;</th></tr>\n",
              "</thead>\n",
              "<tbody>\n",
              "\t<tr><td>CSG001</td><td>1003</td><td>514876</td><td>PBO   </td><td>Placebo</td></tr>\n",
              "\t<tr><td>CSG001</td><td>1004</td><td>101415</td><td>ACTIVE</td><td>Active </td></tr>\n",
              "\t<tr><td>CSG001</td><td>1005</td><td>306185</td><td>ACTIVE</td><td>Active </td></tr>\n",
              "\t<tr><td>CSG001</td><td>1006</td><td>987435</td><td>PBO   </td><td>Placebo</td></tr>\n",
              "\t<tr><td>CSG001</td><td>1007</td><td>098745</td><td>PBO   </td><td>Placebo</td></tr>\n",
              "\t<tr><td>CSG001</td><td>1008</td><td>123098</td><td>ACTIVE</td><td>Active </td></tr>\n",
              "</tbody>\n",
              "</table>\n"
            ],
            "text/latex": [
              "A tibble: 6 × 5\n",
              "\\begin{tabular}{lllll}\n",
              " study & pt & randno & armcd & arm\\\\\n",
              " <chr> & <chr> & <chr> & <chr> & <chr>\\\\\n",
              "\\hline\n",
              "\t CSG001 & 1003 & 514876 & PBO    & Placebo\\\\\n",
              "\t CSG001 & 1004 & 101415 & ACTIVE & Active \\\\\n",
              "\t CSG001 & 1005 & 306185 & ACTIVE & Active \\\\\n",
              "\t CSG001 & 1006 & 987435 & PBO    & Placebo\\\\\n",
              "\t CSG001 & 1007 & 098745 & PBO    & Placebo\\\\\n",
              "\t CSG001 & 1008 & 123098 & ACTIVE & Active \\\\\n",
              "\\end{tabular}\n"
            ],
            "text/markdown": [
              "\n",
              "A tibble: 6 × 5\n",
              "\n",
              "| study &lt;chr&gt; | pt &lt;chr&gt; | randno &lt;chr&gt; | armcd &lt;chr&gt; | arm &lt;chr&gt; |\n",
              "|---|---|---|---|---|\n",
              "| CSG001 | 1003 | 514876 | PBO    | Placebo |\n",
              "| CSG001 | 1004 | 101415 | ACTIVE | Active  |\n",
              "| CSG001 | 1005 | 306185 | ACTIVE | Active  |\n",
              "| CSG001 | 1006 | 987435 | PBO    | Placebo |\n",
              "| CSG001 | 1007 | 098745 | PBO    | Placebo |\n",
              "| CSG001 | 1008 | 123098 | ACTIVE | Active  |\n",
              "\n"
            ],
            "text/plain": [
              "  study  pt   randno armcd  arm    \n",
              "1 CSG001 1003 514876 PBO    Placebo\n",
              "2 CSG001 1004 101415 ACTIVE Active \n",
              "3 CSG001 1005 306185 ACTIVE Active \n",
              "4 CSG001 1006 987435 PBO    Placebo\n",
              "5 CSG001 1007 098745 PBO    Placebo\n",
              "6 CSG001 1008 123098 ACTIVE Active "
            ]
          },
          "metadata": {},
          "output_type": "display_data"
        }
      ],
      "source": [
        "armcd"
      ]
    },
    {
      "cell_type": "markdown",
      "id": "3e12bdf2-caa5-4d07-a662-423276f21d09",
      "metadata": {
        "id": "3e12bdf2-caa5-4d07-a662-423276f21d09"
      },
      "source": [
        "**Derive actual related variable**"
      ]
    },
    {
      "cell_type": "code",
      "execution_count": null,
      "id": "25a3624c-f51d-4a06-b831-41366ff8da76",
      "metadata": {
        "id": "25a3624c-f51d-4a06-b831-41366ff8da76"
      },
      "outputs": [],
      "source": [
        "actarmcd01 <- rfxstdtc\n",
        "\n",
        "# Create 'box01' data frame\n",
        "box01 <- box %>%\n",
        " mutate(\n",
        " ipboxid = kitid,\n",
        " actarmcd = case_when(\n",
        " content == \"ACTIVE\" ~ \"ACTIVE\",\n",
        " content == \"PBO\" ~ \"PBO\",\n",
        " TRUE ~ NA_character_\n",
        " ),\n",
        " actarm = case_when(\n",
        " content == \"ACTIVE\" ~ \"Active\",\n",
        " content == \"PBO\" ~ \"Placebo\",\n",
        " TRUE ~ NA_character_\n",
        " )\n",
        " )\n",
        "\n",
        "# Merge 'actarmcd01' and 'box01' data frames by 'ipboxid'\n",
        "actarmcd <- left_join(actarmcd01, box01, by = \"ipboxid\") %>%\n",
        " filter(!is.na(actarmcd)) %>%\n",
        " select(study, pt, actarmcd, actarm)"
      ]
    },
    {
      "cell_type": "code",
      "execution_count": null,
      "id": "7fd3db89-fe07-4992-9ebc-e68176afdce7",
      "metadata": {
        "id": "7fd3db89-fe07-4992-9ebc-e68176afdce7",
        "outputId": "36c7a54b-a85d-46ab-e568-f2a8c5bc0cb0"
      },
      "outputs": [
        {
          "data": {
            "text/html": [
              "<table class=\"dataframe\">\n",
              "<caption>A grouped_df: 5 × 4</caption>\n",
              "<thead>\n",
              "\t<tr><th scope=col>study</th><th scope=col>pt</th><th scope=col>actarmcd</th><th scope=col>actarm</th></tr>\n",
              "\t<tr><th scope=col>&lt;chr&gt;</th><th scope=col>&lt;chr&gt;</th><th scope=col>&lt;chr&gt;</th><th scope=col>&lt;chr&gt;</th></tr>\n",
              "</thead>\n",
              "<tbody>\n",
              "\t<tr><td>CSG001</td><td>1004</td><td>ACTIVE</td><td>Active </td></tr>\n",
              "\t<tr><td>CSG001</td><td>1005</td><td>PBO   </td><td>Placebo</td></tr>\n",
              "\t<tr><td>CSG001</td><td>1006</td><td>PBO   </td><td>Placebo</td></tr>\n",
              "\t<tr><td>CSG001</td><td>1007</td><td>PBO   </td><td>Placebo</td></tr>\n",
              "\t<tr><td>CSG001</td><td>1008</td><td>ACTIVE</td><td>Active </td></tr>\n",
              "</tbody>\n",
              "</table>\n"
            ],
            "text/latex": [
              "A grouped\\_df: 5 × 4\n",
              "\\begin{tabular}{llll}\n",
              " study & pt & actarmcd & actarm\\\\\n",
              " <chr> & <chr> & <chr> & <chr>\\\\\n",
              "\\hline\n",
              "\t CSG001 & 1004 & ACTIVE & Active \\\\\n",
              "\t CSG001 & 1005 & PBO    & Placebo\\\\\n",
              "\t CSG001 & 1006 & PBO    & Placebo\\\\\n",
              "\t CSG001 & 1007 & PBO    & Placebo\\\\\n",
              "\t CSG001 & 1008 & ACTIVE & Active \\\\\n",
              "\\end{tabular}\n"
            ],
            "text/markdown": [
              "\n",
              "A grouped_df: 5 × 4\n",
              "\n",
              "| study &lt;chr&gt; | pt &lt;chr&gt; | actarmcd &lt;chr&gt; | actarm &lt;chr&gt; |\n",
              "|---|---|---|---|\n",
              "| CSG001 | 1004 | ACTIVE | Active  |\n",
              "| CSG001 | 1005 | PBO    | Placebo |\n",
              "| CSG001 | 1006 | PBO    | Placebo |\n",
              "| CSG001 | 1007 | PBO    | Placebo |\n",
              "| CSG001 | 1008 | ACTIVE | Active  |\n",
              "\n"
            ],
            "text/plain": [
              "  study  pt   actarmcd actarm \n",
              "1 CSG001 1004 ACTIVE   Active \n",
              "2 CSG001 1005 PBO      Placebo\n",
              "3 CSG001 1006 PBO      Placebo\n",
              "4 CSG001 1007 PBO      Placebo\n",
              "5 CSG001 1008 ACTIVE   Active "
            ]
          },
          "metadata": {},
          "output_type": "display_data"
        }
      ],
      "source": [
        "actarmcd"
      ]
    },
    {
      "cell_type": "markdown",
      "id": "b42a831b-5a6a-4cab-956d-7a9b748533cb",
      "metadata": {
        "id": "b42a831b-5a6a-4cab-956d-7a9b748533cb"
      },
      "source": [
        "**RFPENDTC;**"
      ]
    },
    {
      "cell_type": "code",
      "execution_count": null,
      "id": "057aa56c-e123-46cc-b0cd-a45c0d05fb64",
      "metadata": {
        "id": "057aa56c-e123-46cc-b0cd-a45c0d05fb64"
      },
      "outputs": [],
      "source": [
        "# Combine the raw date variables into 'alldates01' data frame\n",
        "alldates01 <- bind_rows(\n",
        " adverse %>% select(study, pt, date = aestdt_raw),\n",
        " adverse %>% select(study, pt, date = aeendt_raw),\n",
        " adverse %>% select(study, pt, date = hadmtdt_raw),\n",
        " adverse %>% select(study, pt, date = hdsdt_raw),\n",
        " conmeds %>% select(study, pt, date = cmstdt_raw),\n",
        " conmeds %>% select(study, pt, date = cmendt_raw),\n",
        " ecg %>% select(study, pt, date = egdt_raw),\n",
        " enrlment %>% select(study, pt, date = icdt_raw),\n",
        " enrlment %>% select(study, pt, date = enrldt_raw),\n",
        " enrlment %>% select(study, pt, date = randdt_raw),\n",
        " eos %>% select(study, pt, date = eostdt_raw),\n",
        " eoip %>% select(study, pt, date = eostdt_raw),\n",
        " eq5d3l %>% select(study, pt, date = dt_raw),\n",
        " hosp %>% select(study, pt, date = stdt_raw),\n",
        " hosp %>% select(study, pt, date = endt_raw),\n",
        " ipadmin %>% select(study, pt, date = ipstdt_raw),\n",
        " lab_chem %>% select(study, pt, date = lbdt_raw),\n",
        " lab_hema %>% select(study, pt, date = lbdt_raw),\n",
        " physmeas %>% select(study, pt, date = pmdt_raw),\n",
        " surg %>% select(study, pt, date = surgdt_raw),\n",
        " vitals %>% select(study, pt, date = vsdt_raw)\n",
        ")"
      ]
    },
    {
      "cell_type": "code",
      "execution_count": null,
      "id": "70eb3365-1e9b-4a60-bf86-945b23c8a41b",
      "metadata": {
        "id": "70eb3365-1e9b-4a60-bf86-945b23c8a41b",
        "outputId": "82f5ca0e-94bc-4c4c-b8dd-c345d5e7a7cc"
      },
      "outputs": [
        {
          "data": {
            "text/html": [
              "<table class=\"dataframe\">\n",
              "<caption>A tibble: 953 × 3</caption>\n",
              "<thead>\n",
              "\t<tr><th scope=col>study</th><th scope=col>pt</th><th scope=col>date</th></tr>\n",
              "\t<tr><th scope=col>&lt;chr&gt;</th><th scope=col>&lt;chr&gt;</th><th scope=col>&lt;chr&gt;</th></tr>\n",
              "</thead>\n",
              "<tbody>\n",
              "\t<tr><td>CSG001</td><td>1001</td><td>01/JAN/2010</td></tr>\n",
              "\t<tr><td>CSG001</td><td>1003</td><td>05/JAN/2010</td></tr>\n",
              "\t<tr><td>CSG001</td><td>1004</td><td>01/JAN/2010</td></tr>\n",
              "\t<tr><td>CSG001</td><td>1004</td><td>03/JAN/2010</td></tr>\n",
              "\t<tr><td>CSG001</td><td>1004</td><td>08/JAN/2010</td></tr>\n",
              "\t<tr><td>CSG001</td><td>1004</td><td>10/JAN/2010</td></tr>\n",
              "\t<tr><td>CSG001</td><td>1005</td><td>18/FEB/2010</td></tr>\n",
              "\t<tr><td>CSG001</td><td>1006</td><td>UN/MAR/2010</td></tr>\n",
              "\t<tr><td>CSG001</td><td>1007</td><td>9/MAY/2010 </td></tr>\n",
              "\t<tr><td>CSG001</td><td>1001</td><td>01/JAN/2010</td></tr>\n",
              "\t<tr><td>CSG001</td><td>1003</td><td>05/JAN/2010</td></tr>\n",
              "\t<tr><td>CSG001</td><td>1004</td><td>01/JAN/2010</td></tr>\n",
              "\t<tr><td>CSG001</td><td>1004</td><td>07/JAN/2010</td></tr>\n",
              "\t<tr><td>CSG001</td><td>1004</td><td>09/JAN/2010</td></tr>\n",
              "\t<tr><td>CSG001</td><td>1004</td><td>           </td></tr>\n",
              "\t<tr><td>CSG001</td><td>1005</td><td>21/FEB/2010</td></tr>\n",
              "\t<tr><td>CSG001</td><td>1006</td><td>25/MAR/2010</td></tr>\n",
              "\t<tr><td>CSG001</td><td>1007</td><td>12/MAY/2010</td></tr>\n",
              "\t<tr><td>CSG001</td><td>1001</td><td>           </td></tr>\n",
              "\t<tr><td>CSG001</td><td>1003</td><td>5/JAN/2010 </td></tr>\n",
              "\t<tr><td>CSG001</td><td>1004</td><td>           </td></tr>\n",
              "\t<tr><td>CSG001</td><td>1004</td><td>           </td></tr>\n",
              "\t<tr><td>CSG001</td><td>1004</td><td>           </td></tr>\n",
              "\t<tr><td>CSG001</td><td>1004</td><td>           </td></tr>\n",
              "\t<tr><td>CSG001</td><td>1005</td><td>20/FEB/2020</td></tr>\n",
              "\t<tr><td>CSG001</td><td>1006</td><td>           </td></tr>\n",
              "\t<tr><td>CSG001</td><td>1007</td><td>           </td></tr>\n",
              "\t<tr><td>CSG001</td><td>1001</td><td>           </td></tr>\n",
              "\t<tr><td>CSG001</td><td>1003</td><td>5/JAN/2010 </td></tr>\n",
              "\t<tr><td>CSG001</td><td>1004</td><td>           </td></tr>\n",
              "\t<tr><td>⋮</td><td>⋮</td><td>⋮</td></tr>\n",
              "\t<tr><td>CSG001</td><td>1008</td><td>11/Jul/2010</td></tr>\n",
              "\t<tr><td>CSG001</td><td>1008</td><td>11/Jul/2010</td></tr>\n",
              "\t<tr><td>CSG001</td><td>1008</td><td>11/Jul/2010</td></tr>\n",
              "\t<tr><td>CSG001</td><td>1008</td><td>11/Jul/2010</td></tr>\n",
              "\t<tr><td>CSG001</td><td>1008</td><td>11/Jul/2010</td></tr>\n",
              "\t<tr><td>CSG001</td><td>1008</td><td>11/Jul/2010</td></tr>\n",
              "\t<tr><td>CSG001</td><td>1008</td><td>11/Jul/2010</td></tr>\n",
              "\t<tr><td>CSG001</td><td>1008</td><td>11/Jul/2010</td></tr>\n",
              "\t<tr><td>CSG001</td><td>1008</td><td>11/Jul/2010</td></tr>\n",
              "\t<tr><td>CSG001</td><td>1008</td><td>11/Jul/2010</td></tr>\n",
              "\t<tr><td>CSG001</td><td>1008</td><td>11/Jul/2010</td></tr>\n",
              "\t<tr><td>CSG001</td><td>1008</td><td>11/Jul/2010</td></tr>\n",
              "\t<tr><td>CSG001</td><td>1008</td><td>11/Jul/2010</td></tr>\n",
              "\t<tr><td>CSG001</td><td>1008</td><td>11/Jul/2010</td></tr>\n",
              "\t<tr><td>CSG001</td><td>1008</td><td>11/Jul/2010</td></tr>\n",
              "\t<tr><td>CSG001</td><td>1008</td><td>11/Jul/2010</td></tr>\n",
              "\t<tr><td>CSG001</td><td>1004</td><td>4/JAN/2010 </td></tr>\n",
              "\t<tr><td>CSG001</td><td>1005</td><td>5/FEB/2010 </td></tr>\n",
              "\t<tr><td>CSG001</td><td>1006</td><td>1/MAR/2010 </td></tr>\n",
              "\t<tr><td>CSG001</td><td>1007</td><td>13/APR/2010</td></tr>\n",
              "\t<tr><td>CSG001</td><td>1005</td><td>20/FEB/2010</td></tr>\n",
              "\t<tr><td>CSG001</td><td>1004</td><td>02/JAN/2010</td></tr>\n",
              "\t<tr><td>CSG001</td><td>1004</td><td>12/JAN/2010</td></tr>\n",
              "\t<tr><td>CSG001</td><td>1005</td><td>5/FEB/2010 </td></tr>\n",
              "\t<tr><td>CSG001</td><td>1005</td><td>12/FEB/2010</td></tr>\n",
              "\t<tr><td>CSG001</td><td>1005</td><td>22/FEB/2010</td></tr>\n",
              "\t<tr><td>CSG001</td><td>1006</td><td>01/MAR/2010</td></tr>\n",
              "\t<tr><td>CSG001</td><td>1006</td><td>11/MAR/2010</td></tr>\n",
              "\t<tr><td>CSG001</td><td>1007</td><td>15/APR/2010</td></tr>\n",
              "\t<tr><td>CSG001</td><td>1007</td><td>29/APR/2010</td></tr>\n",
              "</tbody>\n",
              "</table>\n"
            ],
            "text/latex": [
              "A tibble: 953 × 3\n",
              "\\begin{tabular}{lll}\n",
              " study & pt & date\\\\\n",
              " <chr> & <chr> & <chr>\\\\\n",
              "\\hline\n",
              "\t CSG001 & 1001 & 01/JAN/2010\\\\\n",
              "\t CSG001 & 1003 & 05/JAN/2010\\\\\n",
              "\t CSG001 & 1004 & 01/JAN/2010\\\\\n",
              "\t CSG001 & 1004 & 03/JAN/2010\\\\\n",
              "\t CSG001 & 1004 & 08/JAN/2010\\\\\n",
              "\t CSG001 & 1004 & 10/JAN/2010\\\\\n",
              "\t CSG001 & 1005 & 18/FEB/2010\\\\\n",
              "\t CSG001 & 1006 & UN/MAR/2010\\\\\n",
              "\t CSG001 & 1007 & 9/MAY/2010 \\\\\n",
              "\t CSG001 & 1001 & 01/JAN/2010\\\\\n",
              "\t CSG001 & 1003 & 05/JAN/2010\\\\\n",
              "\t CSG001 & 1004 & 01/JAN/2010\\\\\n",
              "\t CSG001 & 1004 & 07/JAN/2010\\\\\n",
              "\t CSG001 & 1004 & 09/JAN/2010\\\\\n",
              "\t CSG001 & 1004 &            \\\\\n",
              "\t CSG001 & 1005 & 21/FEB/2010\\\\\n",
              "\t CSG001 & 1006 & 25/MAR/2010\\\\\n",
              "\t CSG001 & 1007 & 12/MAY/2010\\\\\n",
              "\t CSG001 & 1001 &            \\\\\n",
              "\t CSG001 & 1003 & 5/JAN/2010 \\\\\n",
              "\t CSG001 & 1004 &            \\\\\n",
              "\t CSG001 & 1004 &            \\\\\n",
              "\t CSG001 & 1004 &            \\\\\n",
              "\t CSG001 & 1004 &            \\\\\n",
              "\t CSG001 & 1005 & 20/FEB/2020\\\\\n",
              "\t CSG001 & 1006 &            \\\\\n",
              "\t CSG001 & 1007 &            \\\\\n",
              "\t CSG001 & 1001 &            \\\\\n",
              "\t CSG001 & 1003 & 5/JAN/2010 \\\\\n",
              "\t CSG001 & 1004 &            \\\\\n",
              "\t ⋮ & ⋮ & ⋮\\\\\n",
              "\t CSG001 & 1008 & 11/Jul/2010\\\\\n",
              "\t CSG001 & 1008 & 11/Jul/2010\\\\\n",
              "\t CSG001 & 1008 & 11/Jul/2010\\\\\n",
              "\t CSG001 & 1008 & 11/Jul/2010\\\\\n",
              "\t CSG001 & 1008 & 11/Jul/2010\\\\\n",
              "\t CSG001 & 1008 & 11/Jul/2010\\\\\n",
              "\t CSG001 & 1008 & 11/Jul/2010\\\\\n",
              "\t CSG001 & 1008 & 11/Jul/2010\\\\\n",
              "\t CSG001 & 1008 & 11/Jul/2010\\\\\n",
              "\t CSG001 & 1008 & 11/Jul/2010\\\\\n",
              "\t CSG001 & 1008 & 11/Jul/2010\\\\\n",
              "\t CSG001 & 1008 & 11/Jul/2010\\\\\n",
              "\t CSG001 & 1008 & 11/Jul/2010\\\\\n",
              "\t CSG001 & 1008 & 11/Jul/2010\\\\\n",
              "\t CSG001 & 1008 & 11/Jul/2010\\\\\n",
              "\t CSG001 & 1008 & 11/Jul/2010\\\\\n",
              "\t CSG001 & 1004 & 4/JAN/2010 \\\\\n",
              "\t CSG001 & 1005 & 5/FEB/2010 \\\\\n",
              "\t CSG001 & 1006 & 1/MAR/2010 \\\\\n",
              "\t CSG001 & 1007 & 13/APR/2010\\\\\n",
              "\t CSG001 & 1005 & 20/FEB/2010\\\\\n",
              "\t CSG001 & 1004 & 02/JAN/2010\\\\\n",
              "\t CSG001 & 1004 & 12/JAN/2010\\\\\n",
              "\t CSG001 & 1005 & 5/FEB/2010 \\\\\n",
              "\t CSG001 & 1005 & 12/FEB/2010\\\\\n",
              "\t CSG001 & 1005 & 22/FEB/2010\\\\\n",
              "\t CSG001 & 1006 & 01/MAR/2010\\\\\n",
              "\t CSG001 & 1006 & 11/MAR/2010\\\\\n",
              "\t CSG001 & 1007 & 15/APR/2010\\\\\n",
              "\t CSG001 & 1007 & 29/APR/2010\\\\\n",
              "\\end{tabular}\n"
            ],
            "text/markdown": [
              "\n",
              "A tibble: 953 × 3\n",
              "\n",
              "| study &lt;chr&gt; | pt &lt;chr&gt; | date &lt;chr&gt; |\n",
              "|---|---|---|\n",
              "| CSG001 | 1001 | 01/JAN/2010 |\n",
              "| CSG001 | 1003 | 05/JAN/2010 |\n",
              "| CSG001 | 1004 | 01/JAN/2010 |\n",
              "| CSG001 | 1004 | 03/JAN/2010 |\n",
              "| CSG001 | 1004 | 08/JAN/2010 |\n",
              "| CSG001 | 1004 | 10/JAN/2010 |\n",
              "| CSG001 | 1005 | 18/FEB/2010 |\n",
              "| CSG001 | 1006 | UN/MAR/2010 |\n",
              "| CSG001 | 1007 | 9/MAY/2010  |\n",
              "| CSG001 | 1001 | 01/JAN/2010 |\n",
              "| CSG001 | 1003 | 05/JAN/2010 |\n",
              "| CSG001 | 1004 | 01/JAN/2010 |\n",
              "| CSG001 | 1004 | 07/JAN/2010 |\n",
              "| CSG001 | 1004 | 09/JAN/2010 |\n",
              "| CSG001 | 1004 | <!----> |\n",
              "| CSG001 | 1005 | 21/FEB/2010 |\n",
              "| CSG001 | 1006 | 25/MAR/2010 |\n",
              "| CSG001 | 1007 | 12/MAY/2010 |\n",
              "| CSG001 | 1001 | <!----> |\n",
              "| CSG001 | 1003 | 5/JAN/2010  |\n",
              "| CSG001 | 1004 | <!----> |\n",
              "| CSG001 | 1004 | <!----> |\n",
              "| CSG001 | 1004 | <!----> |\n",
              "| CSG001 | 1004 | <!----> |\n",
              "| CSG001 | 1005 | 20/FEB/2020 |\n",
              "| CSG001 | 1006 | <!----> |\n",
              "| CSG001 | 1007 | <!----> |\n",
              "| CSG001 | 1001 | <!----> |\n",
              "| CSG001 | 1003 | 5/JAN/2010  |\n",
              "| CSG001 | 1004 | <!----> |\n",
              "| ⋮ | ⋮ | ⋮ |\n",
              "| CSG001 | 1008 | 11/Jul/2010 |\n",
              "| CSG001 | 1008 | 11/Jul/2010 |\n",
              "| CSG001 | 1008 | 11/Jul/2010 |\n",
              "| CSG001 | 1008 | 11/Jul/2010 |\n",
              "| CSG001 | 1008 | 11/Jul/2010 |\n",
              "| CSG001 | 1008 | 11/Jul/2010 |\n",
              "| CSG001 | 1008 | 11/Jul/2010 |\n",
              "| CSG001 | 1008 | 11/Jul/2010 |\n",
              "| CSG001 | 1008 | 11/Jul/2010 |\n",
              "| CSG001 | 1008 | 11/Jul/2010 |\n",
              "| CSG001 | 1008 | 11/Jul/2010 |\n",
              "| CSG001 | 1008 | 11/Jul/2010 |\n",
              "| CSG001 | 1008 | 11/Jul/2010 |\n",
              "| CSG001 | 1008 | 11/Jul/2010 |\n",
              "| CSG001 | 1008 | 11/Jul/2010 |\n",
              "| CSG001 | 1008 | 11/Jul/2010 |\n",
              "| CSG001 | 1004 | 4/JAN/2010  |\n",
              "| CSG001 | 1005 | 5/FEB/2010  |\n",
              "| CSG001 | 1006 | 1/MAR/2010  |\n",
              "| CSG001 | 1007 | 13/APR/2010 |\n",
              "| CSG001 | 1005 | 20/FEB/2010 |\n",
              "| CSG001 | 1004 | 02/JAN/2010 |\n",
              "| CSG001 | 1004 | 12/JAN/2010 |\n",
              "| CSG001 | 1005 | 5/FEB/2010  |\n",
              "| CSG001 | 1005 | 12/FEB/2010 |\n",
              "| CSG001 | 1005 | 22/FEB/2010 |\n",
              "| CSG001 | 1006 | 01/MAR/2010 |\n",
              "| CSG001 | 1006 | 11/MAR/2010 |\n",
              "| CSG001 | 1007 | 15/APR/2010 |\n",
              "| CSG001 | 1007 | 29/APR/2010 |\n",
              "\n"
            ],
            "text/plain": [
              "    study  pt   date       \n",
              "1   CSG001 1001 01/JAN/2010\n",
              "2   CSG001 1003 05/JAN/2010\n",
              "3   CSG001 1004 01/JAN/2010\n",
              "4   CSG001 1004 03/JAN/2010\n",
              "5   CSG001 1004 08/JAN/2010\n",
              "6   CSG001 1004 10/JAN/2010\n",
              "7   CSG001 1005 18/FEB/2010\n",
              "8   CSG001 1006 UN/MAR/2010\n",
              "9   CSG001 1007 9/MAY/2010 \n",
              "10  CSG001 1001 01/JAN/2010\n",
              "11  CSG001 1003 05/JAN/2010\n",
              "12  CSG001 1004 01/JAN/2010\n",
              "13  CSG001 1004 07/JAN/2010\n",
              "14  CSG001 1004 09/JAN/2010\n",
              "15  CSG001 1004            \n",
              "16  CSG001 1005 21/FEB/2010\n",
              "17  CSG001 1006 25/MAR/2010\n",
              "18  CSG001 1007 12/MAY/2010\n",
              "19  CSG001 1001            \n",
              "20  CSG001 1003 5/JAN/2010 \n",
              "21  CSG001 1004            \n",
              "22  CSG001 1004            \n",
              "23  CSG001 1004            \n",
              "24  CSG001 1004            \n",
              "25  CSG001 1005 20/FEB/2020\n",
              "26  CSG001 1006            \n",
              "27  CSG001 1007            \n",
              "28  CSG001 1001            \n",
              "29  CSG001 1003 5/JAN/2010 \n",
              "30  CSG001 1004            \n",
              "⋮   ⋮      ⋮    ⋮          \n",
              "924 CSG001 1008 11/Jul/2010\n",
              "925 CSG001 1008 11/Jul/2010\n",
              "926 CSG001 1008 11/Jul/2010\n",
              "927 CSG001 1008 11/Jul/2010\n",
              "928 CSG001 1008 11/Jul/2010\n",
              "929 CSG001 1008 11/Jul/2010\n",
              "930 CSG001 1008 11/Jul/2010\n",
              "931 CSG001 1008 11/Jul/2010\n",
              "932 CSG001 1008 11/Jul/2010\n",
              "933 CSG001 1008 11/Jul/2010\n",
              "934 CSG001 1008 11/Jul/2010\n",
              "935 CSG001 1008 11/Jul/2010\n",
              "936 CSG001 1008 11/Jul/2010\n",
              "937 CSG001 1008 11/Jul/2010\n",
              "938 CSG001 1008 11/Jul/2010\n",
              "939 CSG001 1008 11/Jul/2010\n",
              "940 CSG001 1004 4/JAN/2010 \n",
              "941 CSG001 1005 5/FEB/2010 \n",
              "942 CSG001 1006 1/MAR/2010 \n",
              "943 CSG001 1007 13/APR/2010\n",
              "944 CSG001 1005 20/FEB/2010\n",
              "945 CSG001 1004 02/JAN/2010\n",
              "946 CSG001 1004 12/JAN/2010\n",
              "947 CSG001 1005 5/FEB/2010 \n",
              "948 CSG001 1005 12/FEB/2010\n",
              "949 CSG001 1005 22/FEB/2010\n",
              "950 CSG001 1006 01/MAR/2010\n",
              "951 CSG001 1006 11/MAR/2010\n",
              "952 CSG001 1007 15/APR/2010\n",
              "953 CSG001 1007 29/APR/2010"
            ]
          },
          "metadata": {},
          "output_type": "display_data"
        }
      ],
      "source": [
        "alldates01"
      ]
    },
    {
      "cell_type": "code",
      "execution_count": null,
      "id": "dfedf01b-5e0c-4779-b2df-65fadff98cfb",
      "metadata": {
        "id": "dfedf01b-5e0c-4779-b2df-65fadff98cfb"
      },
      "outputs": [],
      "source": [
        "# Process the date variables to create date in ISO format sprintf(\"in 'alldates02' data frame\n",
        "alldates02 <- alldates01 %>%\n",
        " mutate(\n",
        "     dayn = suppressWarnings(as.numeric(word(date, 1, sep='/'))),\n",
        "     daync = sprintf(\"%02d\", dayn),\n",
        "     day =suppressWarnings(as.numeric(word(date, 1, sep='/'))),\n",
        "\n",
        "     monthc = toupper(word(date, 2, sep='/')),\n",
        "     month = case_when(\n",
        "         monthc == \"JAN\" ~ \"01\",\n",
        "         monthc == \"FEB\" ~ \"02\",\n",
        "         monthc == \"MAR\" ~ \"03\",\n",
        "         monthc == \"APR\" ~ \"04\",\n",
        "         monthc == \"MAY\" ~ \"05\",\n",
        "         monthc == \"JUN\" ~ \"06\",\n",
        "         monthc == \"JUL\" ~ \"07\",\n",
        "         monthc == \"AUG\" ~ \"08\",\n",
        "         monthc == \"SEP\" ~ \"09\",\n",
        "         monthc == \"OCT\" ~ \"10\",\n",
        "         monthc == \"NOV\" ~ \"11\",\n",
        "         monthc == \"DEC\" ~ \"12\",\n",
        "         TRUE ~ \"-\"\n",
        "     ),\n",
        "\n",
        " year = word(date,3,sep='/'),\n",
        " year = if_else(toupper(year) == \"UNK\", \"-\", year),\n",
        "\n",
        " # datec = str_c(year, month, day, sep = \"-\"),\n",
        " datec = str_c(year, month, daync, sep = \"-\"),\n",
        "\n",
        " datec = ifelse(str_sub(datec, -5) == \"-----\", str_sub(datec, end = -6), datec),\n",
        " datec = ifelse(str_sub(datec, -4) == \"----\", str_sub(datec, end = -5), datec),\n",
        " datec = ifelse(str_sub(datec, -2) == \"--\", str_sub(datec, end = -3), datec)\n",
        "\n",
        " )\n",
        "\n",
        "\n",
        "alldates03 <-na.omit(alldates02)\n",
        "\n",
        "\n",
        "# Pick the latest non-missing date for each subject\n",
        "rfpendtc <- alldates03 %>%\n",
        " filter(!is.na(datec) & datec != \"\") %>%\n",
        " arrange(study, pt, datec) %>%\n",
        " group_by(study, pt) %>%\n",
        " slice(n()) %>%\n",
        " ungroup() %>%\n",
        " select(study, pt, rfpendtc = datec)"
      ]
    },
    {
      "cell_type": "code",
      "execution_count": null,
      "id": "3dd63a58-c9ce-4156-b2ae-1d9be00cab6f",
      "metadata": {
        "id": "3dd63a58-c9ce-4156-b2ae-1d9be00cab6f",
        "outputId": "53565ef7-d0ec-43f2-ccea-74f2d474b973"
      },
      "outputs": [
        {
          "data": {
            "text/html": [
              "<table class=\"dataframe\">\n",
              "<caption>A tibble: 932 × 10</caption>\n",
              "<thead>\n",
              "\t<tr><th scope=col>study</th><th scope=col>pt</th><th scope=col>date</th><th scope=col>dayn</th><th scope=col>daync</th><th scope=col>day</th><th scope=col>monthc</th><th scope=col>month</th><th scope=col>year</th><th scope=col>datec</th></tr>\n",
              "\t<tr><th scope=col>&lt;chr&gt;</th><th scope=col>&lt;chr&gt;</th><th scope=col>&lt;chr&gt;</th><th scope=col>&lt;dbl&gt;</th><th scope=col>&lt;chr&gt;</th><th scope=col>&lt;dbl&gt;</th><th scope=col>&lt;chr&gt;</th><th scope=col>&lt;chr&gt;</th><th scope=col>&lt;chr&gt;</th><th scope=col>&lt;chr&gt;</th></tr>\n",
              "</thead>\n",
              "<tbody>\n",
              "\t<tr><td>CSG001</td><td>1001</td><td>01/JAN/2010</td><td> 1</td><td>01</td><td> 1</td><td>JAN</td><td>01</td><td>2010</td><td>2010-01-01</td></tr>\n",
              "\t<tr><td>CSG001</td><td>1003</td><td>05/JAN/2010</td><td> 5</td><td>05</td><td> 5</td><td>JAN</td><td>01</td><td>2010</td><td>2010-01-05</td></tr>\n",
              "\t<tr><td>CSG001</td><td>1004</td><td>01/JAN/2010</td><td> 1</td><td>01</td><td> 1</td><td>JAN</td><td>01</td><td>2010</td><td>2010-01-01</td></tr>\n",
              "\t<tr><td>CSG001</td><td>1004</td><td>03/JAN/2010</td><td> 3</td><td>03</td><td> 3</td><td>JAN</td><td>01</td><td>2010</td><td>2010-01-03</td></tr>\n",
              "\t<tr><td>CSG001</td><td>1004</td><td>08/JAN/2010</td><td> 8</td><td>08</td><td> 8</td><td>JAN</td><td>01</td><td>2010</td><td>2010-01-08</td></tr>\n",
              "\t<tr><td>CSG001</td><td>1004</td><td>10/JAN/2010</td><td>10</td><td>10</td><td>10</td><td>JAN</td><td>01</td><td>2010</td><td>2010-01-10</td></tr>\n",
              "\t<tr><td>CSG001</td><td>1005</td><td>18/FEB/2010</td><td>18</td><td>18</td><td>18</td><td>FEB</td><td>02</td><td>2010</td><td>2010-02-18</td></tr>\n",
              "\t<tr><td>CSG001</td><td>1007</td><td>9/MAY/2010 </td><td> 9</td><td>09</td><td> 9</td><td>MAY</td><td>05</td><td>2010</td><td>2010-05-09</td></tr>\n",
              "\t<tr><td>CSG001</td><td>1001</td><td>01/JAN/2010</td><td> 1</td><td>01</td><td> 1</td><td>JAN</td><td>01</td><td>2010</td><td>2010-01-01</td></tr>\n",
              "\t<tr><td>CSG001</td><td>1003</td><td>05/JAN/2010</td><td> 5</td><td>05</td><td> 5</td><td>JAN</td><td>01</td><td>2010</td><td>2010-01-05</td></tr>\n",
              "\t<tr><td>CSG001</td><td>1004</td><td>01/JAN/2010</td><td> 1</td><td>01</td><td> 1</td><td>JAN</td><td>01</td><td>2010</td><td>2010-01-01</td></tr>\n",
              "\t<tr><td>CSG001</td><td>1004</td><td>07/JAN/2010</td><td> 7</td><td>07</td><td> 7</td><td>JAN</td><td>01</td><td>2010</td><td>2010-01-07</td></tr>\n",
              "\t<tr><td>CSG001</td><td>1004</td><td>09/JAN/2010</td><td> 9</td><td>09</td><td> 9</td><td>JAN</td><td>01</td><td>2010</td><td>2010-01-09</td></tr>\n",
              "\t<tr><td>CSG001</td><td>1005</td><td>21/FEB/2010</td><td>21</td><td>21</td><td>21</td><td>FEB</td><td>02</td><td>2010</td><td>2010-02-21</td></tr>\n",
              "\t<tr><td>CSG001</td><td>1006</td><td>25/MAR/2010</td><td>25</td><td>25</td><td>25</td><td>MAR</td><td>03</td><td>2010</td><td>2010-03-25</td></tr>\n",
              "\t<tr><td>CSG001</td><td>1007</td><td>12/MAY/2010</td><td>12</td><td>12</td><td>12</td><td>MAY</td><td>05</td><td>2010</td><td>2010-05-12</td></tr>\n",
              "\t<tr><td>CSG001</td><td>1003</td><td>5/JAN/2010 </td><td> 5</td><td>05</td><td> 5</td><td>JAN</td><td>01</td><td>2010</td><td>2010-01-05</td></tr>\n",
              "\t<tr><td>CSG001</td><td>1005</td><td>20/FEB/2020</td><td>20</td><td>20</td><td>20</td><td>FEB</td><td>02</td><td>2020</td><td>2020-02-20</td></tr>\n",
              "\t<tr><td>CSG001</td><td>1003</td><td>5/JAN/2010 </td><td> 5</td><td>05</td><td> 5</td><td>JAN</td><td>01</td><td>2010</td><td>2010-01-05</td></tr>\n",
              "\t<tr><td>CSG001</td><td>1005</td><td>20/FEB/2020</td><td>20</td><td>20</td><td>20</td><td>FEB</td><td>02</td><td>2020</td><td>2020-02-20</td></tr>\n",
              "\t<tr><td>CSG001</td><td>1006</td><td>6/MAR/2010 </td><td> 6</td><td>06</td><td> 6</td><td>MAR</td><td>03</td><td>2010</td><td>2010-03-06</td></tr>\n",
              "\t<tr><td>CSG001</td><td>1007</td><td>10/MAY/2010</td><td>10</td><td>10</td><td>10</td><td>MAY</td><td>05</td><td>2010</td><td>2010-05-10</td></tr>\n",
              "\t<tr><td>CSG001</td><td>1006</td><td>25/MAR/2010</td><td>25</td><td>25</td><td>25</td><td>MAR</td><td>03</td><td>2010</td><td>2010-03-25</td></tr>\n",
              "\t<tr><td>CSG001</td><td>1007</td><td>12/MAY/2010</td><td>12</td><td>12</td><td>12</td><td>MAY</td><td>05</td><td>2010</td><td>2010-05-12</td></tr>\n",
              "\t<tr><td>CSG001</td><td>1004</td><td>4/JAN/2010 </td><td> 4</td><td>04</td><td> 4</td><td>JAN</td><td>01</td><td>2010</td><td>2010-01-04</td></tr>\n",
              "\t<tr><td>CSG001</td><td>1005</td><td>5/FEB/2010 </td><td> 5</td><td>05</td><td> 5</td><td>FEB</td><td>02</td><td>2010</td><td>2010-02-05</td></tr>\n",
              "\t<tr><td>CSG001</td><td>1005</td><td>22/FEB/2010</td><td>22</td><td>22</td><td>22</td><td>FEB</td><td>02</td><td>2010</td><td>2010-02-22</td></tr>\n",
              "\t<tr><td>CSG001</td><td>1006</td><td>1/MAR/2010 </td><td> 1</td><td>01</td><td> 1</td><td>MAR</td><td>03</td><td>2010</td><td>2010-03-01</td></tr>\n",
              "\t<tr><td>CSG001</td><td>1007</td><td>13/APR/2010</td><td>13</td><td>13</td><td>13</td><td>APR</td><td>04</td><td>2010</td><td>2010-04-13</td></tr>\n",
              "\t<tr><td>CSG001</td><td>1001</td><td>1/JAN/2010 </td><td> 1</td><td>01</td><td> 1</td><td>JAN</td><td>01</td><td>2010</td><td>2010-01-01</td></tr>\n",
              "\t<tr><td>⋮</td><td>⋮</td><td>⋮</td><td>⋮</td><td>⋮</td><td>⋮</td><td>⋮</td><td>⋮</td><td>⋮</td><td>⋮</td></tr>\n",
              "\t<tr><td>CSG001</td><td>1008</td><td>11/Jul/2010</td><td>11</td><td>11</td><td>11</td><td>JUL</td><td>07</td><td>2010</td><td>2010-07-11</td></tr>\n",
              "\t<tr><td>CSG001</td><td>1008</td><td>11/Jul/2010</td><td>11</td><td>11</td><td>11</td><td>JUL</td><td>07</td><td>2010</td><td>2010-07-11</td></tr>\n",
              "\t<tr><td>CSG001</td><td>1008</td><td>11/Jul/2010</td><td>11</td><td>11</td><td>11</td><td>JUL</td><td>07</td><td>2010</td><td>2010-07-11</td></tr>\n",
              "\t<tr><td>CSG001</td><td>1008</td><td>11/Jul/2010</td><td>11</td><td>11</td><td>11</td><td>JUL</td><td>07</td><td>2010</td><td>2010-07-11</td></tr>\n",
              "\t<tr><td>CSG001</td><td>1008</td><td>11/Jul/2010</td><td>11</td><td>11</td><td>11</td><td>JUL</td><td>07</td><td>2010</td><td>2010-07-11</td></tr>\n",
              "\t<tr><td>CSG001</td><td>1008</td><td>11/Jul/2010</td><td>11</td><td>11</td><td>11</td><td>JUL</td><td>07</td><td>2010</td><td>2010-07-11</td></tr>\n",
              "\t<tr><td>CSG001</td><td>1008</td><td>11/Jul/2010</td><td>11</td><td>11</td><td>11</td><td>JUL</td><td>07</td><td>2010</td><td>2010-07-11</td></tr>\n",
              "\t<tr><td>CSG001</td><td>1008</td><td>11/Jul/2010</td><td>11</td><td>11</td><td>11</td><td>JUL</td><td>07</td><td>2010</td><td>2010-07-11</td></tr>\n",
              "\t<tr><td>CSG001</td><td>1008</td><td>11/Jul/2010</td><td>11</td><td>11</td><td>11</td><td>JUL</td><td>07</td><td>2010</td><td>2010-07-11</td></tr>\n",
              "\t<tr><td>CSG001</td><td>1008</td><td>11/Jul/2010</td><td>11</td><td>11</td><td>11</td><td>JUL</td><td>07</td><td>2010</td><td>2010-07-11</td></tr>\n",
              "\t<tr><td>CSG001</td><td>1008</td><td>11/Jul/2010</td><td>11</td><td>11</td><td>11</td><td>JUL</td><td>07</td><td>2010</td><td>2010-07-11</td></tr>\n",
              "\t<tr><td>CSG001</td><td>1008</td><td>11/Jul/2010</td><td>11</td><td>11</td><td>11</td><td>JUL</td><td>07</td><td>2010</td><td>2010-07-11</td></tr>\n",
              "\t<tr><td>CSG001</td><td>1008</td><td>11/Jul/2010</td><td>11</td><td>11</td><td>11</td><td>JUL</td><td>07</td><td>2010</td><td>2010-07-11</td></tr>\n",
              "\t<tr><td>CSG001</td><td>1008</td><td>11/Jul/2010</td><td>11</td><td>11</td><td>11</td><td>JUL</td><td>07</td><td>2010</td><td>2010-07-11</td></tr>\n",
              "\t<tr><td>CSG001</td><td>1008</td><td>11/Jul/2010</td><td>11</td><td>11</td><td>11</td><td>JUL</td><td>07</td><td>2010</td><td>2010-07-11</td></tr>\n",
              "\t<tr><td>CSG001</td><td>1008</td><td>11/Jul/2010</td><td>11</td><td>11</td><td>11</td><td>JUL</td><td>07</td><td>2010</td><td>2010-07-11</td></tr>\n",
              "\t<tr><td>CSG001</td><td>1004</td><td>4/JAN/2010 </td><td> 4</td><td>04</td><td> 4</td><td>JAN</td><td>01</td><td>2010</td><td>2010-01-04</td></tr>\n",
              "\t<tr><td>CSG001</td><td>1005</td><td>5/FEB/2010 </td><td> 5</td><td>05</td><td> 5</td><td>FEB</td><td>02</td><td>2010</td><td>2010-02-05</td></tr>\n",
              "\t<tr><td>CSG001</td><td>1006</td><td>1/MAR/2010 </td><td> 1</td><td>01</td><td> 1</td><td>MAR</td><td>03</td><td>2010</td><td>2010-03-01</td></tr>\n",
              "\t<tr><td>CSG001</td><td>1007</td><td>13/APR/2010</td><td>13</td><td>13</td><td>13</td><td>APR</td><td>04</td><td>2010</td><td>2010-04-13</td></tr>\n",
              "\t<tr><td>CSG001</td><td>1005</td><td>20/FEB/2010</td><td>20</td><td>20</td><td>20</td><td>FEB</td><td>02</td><td>2010</td><td>2010-02-20</td></tr>\n",
              "\t<tr><td>CSG001</td><td>1004</td><td>02/JAN/2010</td><td> 2</td><td>02</td><td> 2</td><td>JAN</td><td>01</td><td>2010</td><td>2010-01-02</td></tr>\n",
              "\t<tr><td>CSG001</td><td>1004</td><td>12/JAN/2010</td><td>12</td><td>12</td><td>12</td><td>JAN</td><td>01</td><td>2010</td><td>2010-01-12</td></tr>\n",
              "\t<tr><td>CSG001</td><td>1005</td><td>5/FEB/2010 </td><td> 5</td><td>05</td><td> 5</td><td>FEB</td><td>02</td><td>2010</td><td>2010-02-05</td></tr>\n",
              "\t<tr><td>CSG001</td><td>1005</td><td>12/FEB/2010</td><td>12</td><td>12</td><td>12</td><td>FEB</td><td>02</td><td>2010</td><td>2010-02-12</td></tr>\n",
              "\t<tr><td>CSG001</td><td>1005</td><td>22/FEB/2010</td><td>22</td><td>22</td><td>22</td><td>FEB</td><td>02</td><td>2010</td><td>2010-02-22</td></tr>\n",
              "\t<tr><td>CSG001</td><td>1006</td><td>01/MAR/2010</td><td> 1</td><td>01</td><td> 1</td><td>MAR</td><td>03</td><td>2010</td><td>2010-03-01</td></tr>\n",
              "\t<tr><td>CSG001</td><td>1006</td><td>11/MAR/2010</td><td>11</td><td>11</td><td>11</td><td>MAR</td><td>03</td><td>2010</td><td>2010-03-11</td></tr>\n",
              "\t<tr><td>CSG001</td><td>1007</td><td>15/APR/2010</td><td>15</td><td>15</td><td>15</td><td>APR</td><td>04</td><td>2010</td><td>2010-04-15</td></tr>\n",
              "\t<tr><td>CSG001</td><td>1007</td><td>29/APR/2010</td><td>29</td><td>29</td><td>29</td><td>APR</td><td>04</td><td>2010</td><td>2010-04-29</td></tr>\n",
              "</tbody>\n",
              "</table>\n"
            ],
            "text/latex": [
              "A tibble: 932 × 10\n",
              "\\begin{tabular}{llllllllll}\n",
              " study & pt & date & dayn & daync & day & monthc & month & year & datec\\\\\n",
              " <chr> & <chr> & <chr> & <dbl> & <chr> & <dbl> & <chr> & <chr> & <chr> & <chr>\\\\\n",
              "\\hline\n",
              "\t CSG001 & 1001 & 01/JAN/2010 &  1 & 01 &  1 & JAN & 01 & 2010 & 2010-01-01\\\\\n",
              "\t CSG001 & 1003 & 05/JAN/2010 &  5 & 05 &  5 & JAN & 01 & 2010 & 2010-01-05\\\\\n",
              "\t CSG001 & 1004 & 01/JAN/2010 &  1 & 01 &  1 & JAN & 01 & 2010 & 2010-01-01\\\\\n",
              "\t CSG001 & 1004 & 03/JAN/2010 &  3 & 03 &  3 & JAN & 01 & 2010 & 2010-01-03\\\\\n",
              "\t CSG001 & 1004 & 08/JAN/2010 &  8 & 08 &  8 & JAN & 01 & 2010 & 2010-01-08\\\\\n",
              "\t CSG001 & 1004 & 10/JAN/2010 & 10 & 10 & 10 & JAN & 01 & 2010 & 2010-01-10\\\\\n",
              "\t CSG001 & 1005 & 18/FEB/2010 & 18 & 18 & 18 & FEB & 02 & 2010 & 2010-02-18\\\\\n",
              "\t CSG001 & 1007 & 9/MAY/2010  &  9 & 09 &  9 & MAY & 05 & 2010 & 2010-05-09\\\\\n",
              "\t CSG001 & 1001 & 01/JAN/2010 &  1 & 01 &  1 & JAN & 01 & 2010 & 2010-01-01\\\\\n",
              "\t CSG001 & 1003 & 05/JAN/2010 &  5 & 05 &  5 & JAN & 01 & 2010 & 2010-01-05\\\\\n",
              "\t CSG001 & 1004 & 01/JAN/2010 &  1 & 01 &  1 & JAN & 01 & 2010 & 2010-01-01\\\\\n",
              "\t CSG001 & 1004 & 07/JAN/2010 &  7 & 07 &  7 & JAN & 01 & 2010 & 2010-01-07\\\\\n",
              "\t CSG001 & 1004 & 09/JAN/2010 &  9 & 09 &  9 & JAN & 01 & 2010 & 2010-01-09\\\\\n",
              "\t CSG001 & 1005 & 21/FEB/2010 & 21 & 21 & 21 & FEB & 02 & 2010 & 2010-02-21\\\\\n",
              "\t CSG001 & 1006 & 25/MAR/2010 & 25 & 25 & 25 & MAR & 03 & 2010 & 2010-03-25\\\\\n",
              "\t CSG001 & 1007 & 12/MAY/2010 & 12 & 12 & 12 & MAY & 05 & 2010 & 2010-05-12\\\\\n",
              "\t CSG001 & 1003 & 5/JAN/2010  &  5 & 05 &  5 & JAN & 01 & 2010 & 2010-01-05\\\\\n",
              "\t CSG001 & 1005 & 20/FEB/2020 & 20 & 20 & 20 & FEB & 02 & 2020 & 2020-02-20\\\\\n",
              "\t CSG001 & 1003 & 5/JAN/2010  &  5 & 05 &  5 & JAN & 01 & 2010 & 2010-01-05\\\\\n",
              "\t CSG001 & 1005 & 20/FEB/2020 & 20 & 20 & 20 & FEB & 02 & 2020 & 2020-02-20\\\\\n",
              "\t CSG001 & 1006 & 6/MAR/2010  &  6 & 06 &  6 & MAR & 03 & 2010 & 2010-03-06\\\\\n",
              "\t CSG001 & 1007 & 10/MAY/2010 & 10 & 10 & 10 & MAY & 05 & 2010 & 2010-05-10\\\\\n",
              "\t CSG001 & 1006 & 25/MAR/2010 & 25 & 25 & 25 & MAR & 03 & 2010 & 2010-03-25\\\\\n",
              "\t CSG001 & 1007 & 12/MAY/2010 & 12 & 12 & 12 & MAY & 05 & 2010 & 2010-05-12\\\\\n",
              "\t CSG001 & 1004 & 4/JAN/2010  &  4 & 04 &  4 & JAN & 01 & 2010 & 2010-01-04\\\\\n",
              "\t CSG001 & 1005 & 5/FEB/2010  &  5 & 05 &  5 & FEB & 02 & 2010 & 2010-02-05\\\\\n",
              "\t CSG001 & 1005 & 22/FEB/2010 & 22 & 22 & 22 & FEB & 02 & 2010 & 2010-02-22\\\\\n",
              "\t CSG001 & 1006 & 1/MAR/2010  &  1 & 01 &  1 & MAR & 03 & 2010 & 2010-03-01\\\\\n",
              "\t CSG001 & 1007 & 13/APR/2010 & 13 & 13 & 13 & APR & 04 & 2010 & 2010-04-13\\\\\n",
              "\t CSG001 & 1001 & 1/JAN/2010  &  1 & 01 &  1 & JAN & 01 & 2010 & 2010-01-01\\\\\n",
              "\t ⋮ & ⋮ & ⋮ & ⋮ & ⋮ & ⋮ & ⋮ & ⋮ & ⋮ & ⋮\\\\\n",
              "\t CSG001 & 1008 & 11/Jul/2010 & 11 & 11 & 11 & JUL & 07 & 2010 & 2010-07-11\\\\\n",
              "\t CSG001 & 1008 & 11/Jul/2010 & 11 & 11 & 11 & JUL & 07 & 2010 & 2010-07-11\\\\\n",
              "\t CSG001 & 1008 & 11/Jul/2010 & 11 & 11 & 11 & JUL & 07 & 2010 & 2010-07-11\\\\\n",
              "\t CSG001 & 1008 & 11/Jul/2010 & 11 & 11 & 11 & JUL & 07 & 2010 & 2010-07-11\\\\\n",
              "\t CSG001 & 1008 & 11/Jul/2010 & 11 & 11 & 11 & JUL & 07 & 2010 & 2010-07-11\\\\\n",
              "\t CSG001 & 1008 & 11/Jul/2010 & 11 & 11 & 11 & JUL & 07 & 2010 & 2010-07-11\\\\\n",
              "\t CSG001 & 1008 & 11/Jul/2010 & 11 & 11 & 11 & JUL & 07 & 2010 & 2010-07-11\\\\\n",
              "\t CSG001 & 1008 & 11/Jul/2010 & 11 & 11 & 11 & JUL & 07 & 2010 & 2010-07-11\\\\\n",
              "\t CSG001 & 1008 & 11/Jul/2010 & 11 & 11 & 11 & JUL & 07 & 2010 & 2010-07-11\\\\\n",
              "\t CSG001 & 1008 & 11/Jul/2010 & 11 & 11 & 11 & JUL & 07 & 2010 & 2010-07-11\\\\\n",
              "\t CSG001 & 1008 & 11/Jul/2010 & 11 & 11 & 11 & JUL & 07 & 2010 & 2010-07-11\\\\\n",
              "\t CSG001 & 1008 & 11/Jul/2010 & 11 & 11 & 11 & JUL & 07 & 2010 & 2010-07-11\\\\\n",
              "\t CSG001 & 1008 & 11/Jul/2010 & 11 & 11 & 11 & JUL & 07 & 2010 & 2010-07-11\\\\\n",
              "\t CSG001 & 1008 & 11/Jul/2010 & 11 & 11 & 11 & JUL & 07 & 2010 & 2010-07-11\\\\\n",
              "\t CSG001 & 1008 & 11/Jul/2010 & 11 & 11 & 11 & JUL & 07 & 2010 & 2010-07-11\\\\\n",
              "\t CSG001 & 1008 & 11/Jul/2010 & 11 & 11 & 11 & JUL & 07 & 2010 & 2010-07-11\\\\\n",
              "\t CSG001 & 1004 & 4/JAN/2010  &  4 & 04 &  4 & JAN & 01 & 2010 & 2010-01-04\\\\\n",
              "\t CSG001 & 1005 & 5/FEB/2010  &  5 & 05 &  5 & FEB & 02 & 2010 & 2010-02-05\\\\\n",
              "\t CSG001 & 1006 & 1/MAR/2010  &  1 & 01 &  1 & MAR & 03 & 2010 & 2010-03-01\\\\\n",
              "\t CSG001 & 1007 & 13/APR/2010 & 13 & 13 & 13 & APR & 04 & 2010 & 2010-04-13\\\\\n",
              "\t CSG001 & 1005 & 20/FEB/2010 & 20 & 20 & 20 & FEB & 02 & 2010 & 2010-02-20\\\\\n",
              "\t CSG001 & 1004 & 02/JAN/2010 &  2 & 02 &  2 & JAN & 01 & 2010 & 2010-01-02\\\\\n",
              "\t CSG001 & 1004 & 12/JAN/2010 & 12 & 12 & 12 & JAN & 01 & 2010 & 2010-01-12\\\\\n",
              "\t CSG001 & 1005 & 5/FEB/2010  &  5 & 05 &  5 & FEB & 02 & 2010 & 2010-02-05\\\\\n",
              "\t CSG001 & 1005 & 12/FEB/2010 & 12 & 12 & 12 & FEB & 02 & 2010 & 2010-02-12\\\\\n",
              "\t CSG001 & 1005 & 22/FEB/2010 & 22 & 22 & 22 & FEB & 02 & 2010 & 2010-02-22\\\\\n",
              "\t CSG001 & 1006 & 01/MAR/2010 &  1 & 01 &  1 & MAR & 03 & 2010 & 2010-03-01\\\\\n",
              "\t CSG001 & 1006 & 11/MAR/2010 & 11 & 11 & 11 & MAR & 03 & 2010 & 2010-03-11\\\\\n",
              "\t CSG001 & 1007 & 15/APR/2010 & 15 & 15 & 15 & APR & 04 & 2010 & 2010-04-15\\\\\n",
              "\t CSG001 & 1007 & 29/APR/2010 & 29 & 29 & 29 & APR & 04 & 2010 & 2010-04-29\\\\\n",
              "\\end{tabular}\n"
            ],
            "text/markdown": [
              "\n",
              "A tibble: 932 × 10\n",
              "\n",
              "| study &lt;chr&gt; | pt &lt;chr&gt; | date &lt;chr&gt; | dayn &lt;dbl&gt; | daync &lt;chr&gt; | day &lt;dbl&gt; | monthc &lt;chr&gt; | month &lt;chr&gt; | year &lt;chr&gt; | datec &lt;chr&gt; |\n",
              "|---|---|---|---|---|---|---|---|---|---|\n",
              "| CSG001 | 1001 | 01/JAN/2010 |  1 | 01 |  1 | JAN | 01 | 2010 | 2010-01-01 |\n",
              "| CSG001 | 1003 | 05/JAN/2010 |  5 | 05 |  5 | JAN | 01 | 2010 | 2010-01-05 |\n",
              "| CSG001 | 1004 | 01/JAN/2010 |  1 | 01 |  1 | JAN | 01 | 2010 | 2010-01-01 |\n",
              "| CSG001 | 1004 | 03/JAN/2010 |  3 | 03 |  3 | JAN | 01 | 2010 | 2010-01-03 |\n",
              "| CSG001 | 1004 | 08/JAN/2010 |  8 | 08 |  8 | JAN | 01 | 2010 | 2010-01-08 |\n",
              "| CSG001 | 1004 | 10/JAN/2010 | 10 | 10 | 10 | JAN | 01 | 2010 | 2010-01-10 |\n",
              "| CSG001 | 1005 | 18/FEB/2010 | 18 | 18 | 18 | FEB | 02 | 2010 | 2010-02-18 |\n",
              "| CSG001 | 1007 | 9/MAY/2010  |  9 | 09 |  9 | MAY | 05 | 2010 | 2010-05-09 |\n",
              "| CSG001 | 1001 | 01/JAN/2010 |  1 | 01 |  1 | JAN | 01 | 2010 | 2010-01-01 |\n",
              "| CSG001 | 1003 | 05/JAN/2010 |  5 | 05 |  5 | JAN | 01 | 2010 | 2010-01-05 |\n",
              "| CSG001 | 1004 | 01/JAN/2010 |  1 | 01 |  1 | JAN | 01 | 2010 | 2010-01-01 |\n",
              "| CSG001 | 1004 | 07/JAN/2010 |  7 | 07 |  7 | JAN | 01 | 2010 | 2010-01-07 |\n",
              "| CSG001 | 1004 | 09/JAN/2010 |  9 | 09 |  9 | JAN | 01 | 2010 | 2010-01-09 |\n",
              "| CSG001 | 1005 | 21/FEB/2010 | 21 | 21 | 21 | FEB | 02 | 2010 | 2010-02-21 |\n",
              "| CSG001 | 1006 | 25/MAR/2010 | 25 | 25 | 25 | MAR | 03 | 2010 | 2010-03-25 |\n",
              "| CSG001 | 1007 | 12/MAY/2010 | 12 | 12 | 12 | MAY | 05 | 2010 | 2010-05-12 |\n",
              "| CSG001 | 1003 | 5/JAN/2010  |  5 | 05 |  5 | JAN | 01 | 2010 | 2010-01-05 |\n",
              "| CSG001 | 1005 | 20/FEB/2020 | 20 | 20 | 20 | FEB | 02 | 2020 | 2020-02-20 |\n",
              "| CSG001 | 1003 | 5/JAN/2010  |  5 | 05 |  5 | JAN | 01 | 2010 | 2010-01-05 |\n",
              "| CSG001 | 1005 | 20/FEB/2020 | 20 | 20 | 20 | FEB | 02 | 2020 | 2020-02-20 |\n",
              "| CSG001 | 1006 | 6/MAR/2010  |  6 | 06 |  6 | MAR | 03 | 2010 | 2010-03-06 |\n",
              "| CSG001 | 1007 | 10/MAY/2010 | 10 | 10 | 10 | MAY | 05 | 2010 | 2010-05-10 |\n",
              "| CSG001 | 1006 | 25/MAR/2010 | 25 | 25 | 25 | MAR | 03 | 2010 | 2010-03-25 |\n",
              "| CSG001 | 1007 | 12/MAY/2010 | 12 | 12 | 12 | MAY | 05 | 2010 | 2010-05-12 |\n",
              "| CSG001 | 1004 | 4/JAN/2010  |  4 | 04 |  4 | JAN | 01 | 2010 | 2010-01-04 |\n",
              "| CSG001 | 1005 | 5/FEB/2010  |  5 | 05 |  5 | FEB | 02 | 2010 | 2010-02-05 |\n",
              "| CSG001 | 1005 | 22/FEB/2010 | 22 | 22 | 22 | FEB | 02 | 2010 | 2010-02-22 |\n",
              "| CSG001 | 1006 | 1/MAR/2010  |  1 | 01 |  1 | MAR | 03 | 2010 | 2010-03-01 |\n",
              "| CSG001 | 1007 | 13/APR/2010 | 13 | 13 | 13 | APR | 04 | 2010 | 2010-04-13 |\n",
              "| CSG001 | 1001 | 1/JAN/2010  |  1 | 01 |  1 | JAN | 01 | 2010 | 2010-01-01 |\n",
              "| ⋮ | ⋮ | ⋮ | ⋮ | ⋮ | ⋮ | ⋮ | ⋮ | ⋮ | ⋮ |\n",
              "| CSG001 | 1008 | 11/Jul/2010 | 11 | 11 | 11 | JUL | 07 | 2010 | 2010-07-11 |\n",
              "| CSG001 | 1008 | 11/Jul/2010 | 11 | 11 | 11 | JUL | 07 | 2010 | 2010-07-11 |\n",
              "| CSG001 | 1008 | 11/Jul/2010 | 11 | 11 | 11 | JUL | 07 | 2010 | 2010-07-11 |\n",
              "| CSG001 | 1008 | 11/Jul/2010 | 11 | 11 | 11 | JUL | 07 | 2010 | 2010-07-11 |\n",
              "| CSG001 | 1008 | 11/Jul/2010 | 11 | 11 | 11 | JUL | 07 | 2010 | 2010-07-11 |\n",
              "| CSG001 | 1008 | 11/Jul/2010 | 11 | 11 | 11 | JUL | 07 | 2010 | 2010-07-11 |\n",
              "| CSG001 | 1008 | 11/Jul/2010 | 11 | 11 | 11 | JUL | 07 | 2010 | 2010-07-11 |\n",
              "| CSG001 | 1008 | 11/Jul/2010 | 11 | 11 | 11 | JUL | 07 | 2010 | 2010-07-11 |\n",
              "| CSG001 | 1008 | 11/Jul/2010 | 11 | 11 | 11 | JUL | 07 | 2010 | 2010-07-11 |\n",
              "| CSG001 | 1008 | 11/Jul/2010 | 11 | 11 | 11 | JUL | 07 | 2010 | 2010-07-11 |\n",
              "| CSG001 | 1008 | 11/Jul/2010 | 11 | 11 | 11 | JUL | 07 | 2010 | 2010-07-11 |\n",
              "| CSG001 | 1008 | 11/Jul/2010 | 11 | 11 | 11 | JUL | 07 | 2010 | 2010-07-11 |\n",
              "| CSG001 | 1008 | 11/Jul/2010 | 11 | 11 | 11 | JUL | 07 | 2010 | 2010-07-11 |\n",
              "| CSG001 | 1008 | 11/Jul/2010 | 11 | 11 | 11 | JUL | 07 | 2010 | 2010-07-11 |\n",
              "| CSG001 | 1008 | 11/Jul/2010 | 11 | 11 | 11 | JUL | 07 | 2010 | 2010-07-11 |\n",
              "| CSG001 | 1008 | 11/Jul/2010 | 11 | 11 | 11 | JUL | 07 | 2010 | 2010-07-11 |\n",
              "| CSG001 | 1004 | 4/JAN/2010  |  4 | 04 |  4 | JAN | 01 | 2010 | 2010-01-04 |\n",
              "| CSG001 | 1005 | 5/FEB/2010  |  5 | 05 |  5 | FEB | 02 | 2010 | 2010-02-05 |\n",
              "| CSG001 | 1006 | 1/MAR/2010  |  1 | 01 |  1 | MAR | 03 | 2010 | 2010-03-01 |\n",
              "| CSG001 | 1007 | 13/APR/2010 | 13 | 13 | 13 | APR | 04 | 2010 | 2010-04-13 |\n",
              "| CSG001 | 1005 | 20/FEB/2010 | 20 | 20 | 20 | FEB | 02 | 2010 | 2010-02-20 |\n",
              "| CSG001 | 1004 | 02/JAN/2010 |  2 | 02 |  2 | JAN | 01 | 2010 | 2010-01-02 |\n",
              "| CSG001 | 1004 | 12/JAN/2010 | 12 | 12 | 12 | JAN | 01 | 2010 | 2010-01-12 |\n",
              "| CSG001 | 1005 | 5/FEB/2010  |  5 | 05 |  5 | FEB | 02 | 2010 | 2010-02-05 |\n",
              "| CSG001 | 1005 | 12/FEB/2010 | 12 | 12 | 12 | FEB | 02 | 2010 | 2010-02-12 |\n",
              "| CSG001 | 1005 | 22/FEB/2010 | 22 | 22 | 22 | FEB | 02 | 2010 | 2010-02-22 |\n",
              "| CSG001 | 1006 | 01/MAR/2010 |  1 | 01 |  1 | MAR | 03 | 2010 | 2010-03-01 |\n",
              "| CSG001 | 1006 | 11/MAR/2010 | 11 | 11 | 11 | MAR | 03 | 2010 | 2010-03-11 |\n",
              "| CSG001 | 1007 | 15/APR/2010 | 15 | 15 | 15 | APR | 04 | 2010 | 2010-04-15 |\n",
              "| CSG001 | 1007 | 29/APR/2010 | 29 | 29 | 29 | APR | 04 | 2010 | 2010-04-29 |\n",
              "\n"
            ],
            "text/plain": [
              "    study  pt   date        dayn daync day monthc month year datec     \n",
              "1   CSG001 1001 01/JAN/2010  1   01     1  JAN    01    2010 2010-01-01\n",
              "2   CSG001 1003 05/JAN/2010  5   05     5  JAN    01    2010 2010-01-05\n",
              "3   CSG001 1004 01/JAN/2010  1   01     1  JAN    01    2010 2010-01-01\n",
              "4   CSG001 1004 03/JAN/2010  3   03     3  JAN    01    2010 2010-01-03\n",
              "5   CSG001 1004 08/JAN/2010  8   08     8  JAN    01    2010 2010-01-08\n",
              "6   CSG001 1004 10/JAN/2010 10   10    10  JAN    01    2010 2010-01-10\n",
              "7   CSG001 1005 18/FEB/2010 18   18    18  FEB    02    2010 2010-02-18\n",
              "8   CSG001 1007 9/MAY/2010   9   09     9  MAY    05    2010 2010-05-09\n",
              "9   CSG001 1001 01/JAN/2010  1   01     1  JAN    01    2010 2010-01-01\n",
              "10  CSG001 1003 05/JAN/2010  5   05     5  JAN    01    2010 2010-01-05\n",
              "11  CSG001 1004 01/JAN/2010  1   01     1  JAN    01    2010 2010-01-01\n",
              "12  CSG001 1004 07/JAN/2010  7   07     7  JAN    01    2010 2010-01-07\n",
              "13  CSG001 1004 09/JAN/2010  9   09     9  JAN    01    2010 2010-01-09\n",
              "14  CSG001 1005 21/FEB/2010 21   21    21  FEB    02    2010 2010-02-21\n",
              "15  CSG001 1006 25/MAR/2010 25   25    25  MAR    03    2010 2010-03-25\n",
              "16  CSG001 1007 12/MAY/2010 12   12    12  MAY    05    2010 2010-05-12\n",
              "17  CSG001 1003 5/JAN/2010   5   05     5  JAN    01    2010 2010-01-05\n",
              "18  CSG001 1005 20/FEB/2020 20   20    20  FEB    02    2020 2020-02-20\n",
              "19  CSG001 1003 5/JAN/2010   5   05     5  JAN    01    2010 2010-01-05\n",
              "20  CSG001 1005 20/FEB/2020 20   20    20  FEB    02    2020 2020-02-20\n",
              "21  CSG001 1006 6/MAR/2010   6   06     6  MAR    03    2010 2010-03-06\n",
              "22  CSG001 1007 10/MAY/2010 10   10    10  MAY    05    2010 2010-05-10\n",
              "23  CSG001 1006 25/MAR/2010 25   25    25  MAR    03    2010 2010-03-25\n",
              "24  CSG001 1007 12/MAY/2010 12   12    12  MAY    05    2010 2010-05-12\n",
              "25  CSG001 1004 4/JAN/2010   4   04     4  JAN    01    2010 2010-01-04\n",
              "26  CSG001 1005 5/FEB/2010   5   05     5  FEB    02    2010 2010-02-05\n",
              "27  CSG001 1005 22/FEB/2010 22   22    22  FEB    02    2010 2010-02-22\n",
              "28  CSG001 1006 1/MAR/2010   1   01     1  MAR    03    2010 2010-03-01\n",
              "29  CSG001 1007 13/APR/2010 13   13    13  APR    04    2010 2010-04-13\n",
              "30  CSG001 1001 1/JAN/2010   1   01     1  JAN    01    2010 2010-01-01\n",
              "⋮   ⋮      ⋮    ⋮           ⋮    ⋮     ⋮   ⋮      ⋮     ⋮    ⋮         \n",
              "903 CSG001 1008 11/Jul/2010 11   11    11  JUL    07    2010 2010-07-11\n",
              "904 CSG001 1008 11/Jul/2010 11   11    11  JUL    07    2010 2010-07-11\n",
              "905 CSG001 1008 11/Jul/2010 11   11    11  JUL    07    2010 2010-07-11\n",
              "906 CSG001 1008 11/Jul/2010 11   11    11  JUL    07    2010 2010-07-11\n",
              "907 CSG001 1008 11/Jul/2010 11   11    11  JUL    07    2010 2010-07-11\n",
              "908 CSG001 1008 11/Jul/2010 11   11    11  JUL    07    2010 2010-07-11\n",
              "909 CSG001 1008 11/Jul/2010 11   11    11  JUL    07    2010 2010-07-11\n",
              "910 CSG001 1008 11/Jul/2010 11   11    11  JUL    07    2010 2010-07-11\n",
              "911 CSG001 1008 11/Jul/2010 11   11    11  JUL    07    2010 2010-07-11\n",
              "912 CSG001 1008 11/Jul/2010 11   11    11  JUL    07    2010 2010-07-11\n",
              "913 CSG001 1008 11/Jul/2010 11   11    11  JUL    07    2010 2010-07-11\n",
              "914 CSG001 1008 11/Jul/2010 11   11    11  JUL    07    2010 2010-07-11\n",
              "915 CSG001 1008 11/Jul/2010 11   11    11  JUL    07    2010 2010-07-11\n",
              "916 CSG001 1008 11/Jul/2010 11   11    11  JUL    07    2010 2010-07-11\n",
              "917 CSG001 1008 11/Jul/2010 11   11    11  JUL    07    2010 2010-07-11\n",
              "918 CSG001 1008 11/Jul/2010 11   11    11  JUL    07    2010 2010-07-11\n",
              "919 CSG001 1004 4/JAN/2010   4   04     4  JAN    01    2010 2010-01-04\n",
              "920 CSG001 1005 5/FEB/2010   5   05     5  FEB    02    2010 2010-02-05\n",
              "921 CSG001 1006 1/MAR/2010   1   01     1  MAR    03    2010 2010-03-01\n",
              "922 CSG001 1007 13/APR/2010 13   13    13  APR    04    2010 2010-04-13\n",
              "923 CSG001 1005 20/FEB/2010 20   20    20  FEB    02    2010 2010-02-20\n",
              "924 CSG001 1004 02/JAN/2010  2   02     2  JAN    01    2010 2010-01-02\n",
              "925 CSG001 1004 12/JAN/2010 12   12    12  JAN    01    2010 2010-01-12\n",
              "926 CSG001 1005 5/FEB/2010   5   05     5  FEB    02    2010 2010-02-05\n",
              "927 CSG001 1005 12/FEB/2010 12   12    12  FEB    02    2010 2010-02-12\n",
              "928 CSG001 1005 22/FEB/2010 22   22    22  FEB    02    2010 2010-02-22\n",
              "929 CSG001 1006 01/MAR/2010  1   01     1  MAR    03    2010 2010-03-01\n",
              "930 CSG001 1006 11/MAR/2010 11   11    11  MAR    03    2010 2010-03-11\n",
              "931 CSG001 1007 15/APR/2010 15   15    15  APR    04    2010 2010-04-15\n",
              "932 CSG001 1007 29/APR/2010 29   29    29  APR    04    2010 2010-04-29"
            ]
          },
          "metadata": {},
          "output_type": "display_data"
        }
      ],
      "source": [
        "alldates03"
      ]
    },
    {
      "cell_type": "code",
      "execution_count": null,
      "id": "7895ade1-11e3-4d86-ae8e-93c0db944a97",
      "metadata": {
        "id": "7895ade1-11e3-4d86-ae8e-93c0db944a97",
        "outputId": "62036c8f-11aa-4ec4-fec4-92b8de68d473"
      },
      "outputs": [
        {
          "data": {
            "text/html": [
              "<table class=\"dataframe\">\n",
              "<caption>A tibble: 8 × 3</caption>\n",
              "<thead>\n",
              "\t<tr><th scope=col>study</th><th scope=col>pt</th><th scope=col>rfpendtc</th></tr>\n",
              "\t<tr><th scope=col>&lt;chr&gt;</th><th scope=col>&lt;chr&gt;</th><th scope=col>&lt;chr&gt;</th></tr>\n",
              "</thead>\n",
              "<tbody>\n",
              "\t<tr><td>CSG001</td><td>1001</td><td>2010-01-01</td></tr>\n",
              "\t<tr><td>CSG001</td><td>1002</td><td>2010-01-05</td></tr>\n",
              "\t<tr><td>CSG001</td><td>1003</td><td>2010-01-05</td></tr>\n",
              "\t<tr><td>CSG001</td><td>1004</td><td>2010-02-28</td></tr>\n",
              "\t<tr><td>CSG001</td><td>1005</td><td>2020-02-20</td></tr>\n",
              "\t<tr><td>CSG001</td><td>1006</td><td>2010-03-25</td></tr>\n",
              "\t<tr><td>CSG001</td><td>1007</td><td>2010-06-12</td></tr>\n",
              "\t<tr><td>CSG001</td><td>1008</td><td>2010-08-18</td></tr>\n",
              "</tbody>\n",
              "</table>\n"
            ],
            "text/latex": [
              "A tibble: 8 × 3\n",
              "\\begin{tabular}{lll}\n",
              " study & pt & rfpendtc\\\\\n",
              " <chr> & <chr> & <chr>\\\\\n",
              "\\hline\n",
              "\t CSG001 & 1001 & 2010-01-01\\\\\n",
              "\t CSG001 & 1002 & 2010-01-05\\\\\n",
              "\t CSG001 & 1003 & 2010-01-05\\\\\n",
              "\t CSG001 & 1004 & 2010-02-28\\\\\n",
              "\t CSG001 & 1005 & 2020-02-20\\\\\n",
              "\t CSG001 & 1006 & 2010-03-25\\\\\n",
              "\t CSG001 & 1007 & 2010-06-12\\\\\n",
              "\t CSG001 & 1008 & 2010-08-18\\\\\n",
              "\\end{tabular}\n"
            ],
            "text/markdown": [
              "\n",
              "A tibble: 8 × 3\n",
              "\n",
              "| study &lt;chr&gt; | pt &lt;chr&gt; | rfpendtc &lt;chr&gt; |\n",
              "|---|---|---|\n",
              "| CSG001 | 1001 | 2010-01-01 |\n",
              "| CSG001 | 1002 | 2010-01-05 |\n",
              "| CSG001 | 1003 | 2010-01-05 |\n",
              "| CSG001 | 1004 | 2010-02-28 |\n",
              "| CSG001 | 1005 | 2020-02-20 |\n",
              "| CSG001 | 1006 | 2010-03-25 |\n",
              "| CSG001 | 1007 | 2010-06-12 |\n",
              "| CSG001 | 1008 | 2010-08-18 |\n",
              "\n"
            ],
            "text/plain": [
              "  study  pt   rfpendtc  \n",
              "1 CSG001 1001 2010-01-01\n",
              "2 CSG001 1002 2010-01-05\n",
              "3 CSG001 1003 2010-01-05\n",
              "4 CSG001 1004 2010-02-28\n",
              "5 CSG001 1005 2020-02-20\n",
              "6 CSG001 1006 2010-03-25\n",
              "7 CSG001 1007 2010-06-12\n",
              "8 CSG001 1008 2010-08-18"
            ]
          },
          "metadata": {},
          "output_type": "display_data"
        }
      ],
      "source": [
        "rfpendtc"
      ]
    },
    {
      "cell_type": "markdown",
      "id": "8ad0277b-d090-4eb5-8ec7-364036ac7e20",
      "metadata": {
        "id": "8ad0277b-d090-4eb5-8ec7-364036ac7e20"
      },
      "source": [
        "**Merge all datasets together**"
      ]
    },
    {
      "cell_type": "code",
      "execution_count": null,
      "id": "e7791836-1086-4c13-818b-016e758196bc",
      "metadata": {
        "id": "e7791836-1086-4c13-818b-016e758196bc"
      },
      "outputs": [],
      "source": [
        "dm02 <- dm01 %>%\n",
        " left_join(rficdtc, by = c(\"study\", \"pt\")) %>%\n",
        " left_join(dthdtc, by = c(\"study\", \"pt\")) %>%\n",
        " left_join(rfendtc, by = c(\"study\", \"pt\")) %>%\n",
        " left_join(rfxstdtc, by = c(\"study\", \"pt\")) %>%\n",
        " left_join(rfxendtc, by = c(\"study\", \"pt\")) %>%\n",
        " left_join(armcd, by = c(\"study\", \"pt\")) %>%\n",
        " left_join(actarmcd, by = c(\"study\", \"pt\")) %>%\n",
        " left_join(rfpendtc, by = c(\"study\", \"pt\"))"
      ]
    },
    {
      "cell_type": "markdown",
      "id": "0954a56b-16cc-4f44-8d57-3076c6391fce",
      "metadata": {
        "id": "0954a56b-16cc-4f44-8d57-3076c6391fce"
      },
      "source": [
        "**Derive additional variables which are dependent on other derived variables**"
      ]
    },
    {
      "cell_type": "code",
      "execution_count": null,
      "id": "253d98ad-f824-4d9f-bbb8-6600b2180d15",
      "metadata": {
        "id": "253d98ad-f824-4d9f-bbb8-6600b2180d15"
      },
      "outputs": [],
      "source": [
        "dm03 <- dm02 %>%\n",
        " mutate(\n",
        " rfstdtc = substr(rfxstdtc, 1, 10),\n",
        " rfstdtc = ifelse(is.na(rfstdtc) & !is.na(randdtc), randdtc, rfstdtc),\n",
        " rfstdtc = ifelse(is.na(rfstdtc) & !is.na(rficdtc), rficdtc, rfstdtc),\n",
        "\n",
        " armcd = case_when(\n",
        " is.na(enrldtc) ~ \"SCRNFAIL\",\n",
        " is.na(randdtc) ~ \"NOTASSGN\",\n",
        " TRUE ~ armcd\n",
        " ),\n",
        "\n",
        " arm = case_when(\n",
        " armcd ==\"SCRNFAIL\" ~ \"Screen Failure\",\n",
        " armcd == \"NOTASSGN\" ~ \"Not Assigned\",\n",
        " TRUE ~ arm),\n",
        "\n",
        " actarmcd = case_when(\n",
        " is.na(enrldtc) ~ \"SCRNFAIL\",\n",
        " is.na(randdtc) ~ \"NOTASSGN\",\n",
        " is.na(rfxstdtc) ~ \"NOTTRT\",\n",
        " TRUE ~ actarmcd\n",
        " ),\n",
        "\n",
        " actarm = case_when(\n",
        " actarmcd ==\"SCRNFAIL\" ~ \"Screen Failure\",\n",
        " actarmcd == \"NOTASSGN\" ~ \"Not Assigned\",\n",
        " actarmcd == \"NOTTRT\" ~ \"Not Treated\",\n",
        " TRUE ~ actarm),\n",
        "\n",
        " ) %>%\n",
        " rename_all(toupper)\n",
        "\n",
        "# Write attributes and keep only required variables and in the required order\n",
        "varlist <- c(\n",
        " 'STUDYID', 'DOMAIN', 'USUBJID', 'SUBJID', 'RFSTDTC', 'RFENDTC', 'RFXSTDTC', 'RFXENDTC',\n",
        " 'RFICDTC', 'RFPENDTC', 'DTHDTC', 'DTHFL', 'SITEID', 'AGE', 'AGEU', 'SEX', 'RACE', 'ETHNIC',\n",
        " 'ARMCD', 'ARM', 'ACTARMCD', 'ACTARM', 'COUNTRY', 'RACE'\n",
        ")\n",
        "\n",
        "dm <- dm03 %>%\n",
        " select(all_of(varlist))\n",
        "\n",
        "output <- dm\n",
        ""
      ]
    },
    {
      "cell_type": "code",
      "execution_count": null,
      "id": "39d9ffc2-3a64-4d53-9804-d3e69e20f5fa",
      "metadata": {
        "id": "39d9ffc2-3a64-4d53-9804-d3e69e20f5fa",
        "outputId": "5cda1e1a-03cf-4725-fee9-c82b3e09f38f"
      },
      "outputs": [
        {
          "data": {
            "text/html": [
              "<table class=\"dataframe\">\n",
              "<caption>A tibble: 8 × 23</caption>\n",
              "<thead>\n",
              "\t<tr><th scope=col>STUDYID</th><th scope=col>DOMAIN</th><th scope=col>USUBJID</th><th scope=col>SUBJID</th><th scope=col>RFSTDTC</th><th scope=col>RFENDTC</th><th scope=col>RFXSTDTC</th><th scope=col>RFXENDTC</th><th scope=col>RFICDTC</th><th scope=col>RFPENDTC</th><th scope=col>⋯</th><th scope=col>AGE</th><th scope=col>AGEU</th><th scope=col>SEX</th><th scope=col>RACE</th><th scope=col>ETHNIC</th><th scope=col>ARMCD</th><th scope=col>ARM</th><th scope=col>ACTARMCD</th><th scope=col>ACTARM</th><th scope=col>COUNTRY</th></tr>\n",
              "\t<tr><th scope=col>&lt;chr&gt;</th><th scope=col>&lt;chr&gt;</th><th scope=col>&lt;chr&gt;</th><th scope=col>&lt;chr&gt;</th><th scope=col>&lt;chr&gt;</th><th scope=col>&lt;chr&gt;</th><th scope=col>&lt;chr&gt;</th><th scope=col>&lt;chr&gt;</th><th scope=col>&lt;chr&gt;</th><th scope=col>&lt;chr&gt;</th><th scope=col>⋯</th><th scope=col>&lt;int&gt;</th><th scope=col>&lt;chr&gt;</th><th scope=col>&lt;chr&gt;</th><th scope=col>&lt;chr&gt;</th><th scope=col>&lt;chr&gt;</th><th scope=col>&lt;chr&gt;</th><th scope=col>&lt;chr&gt;</th><th scope=col>&lt;chr&gt;</th><th scope=col>&lt;chr&gt;</th><th scope=col>&lt;chr&gt;</th></tr>\n",
              "</thead>\n",
              "<tbody>\n",
              "\t<tr><td>CSG001</td><td>DM</td><td>CSG001-1001</td><td>1001</td><td>2010-01-01</td><td>NA        </td><td>NA              </td><td>NA              </td><td>2010-01-01</td><td>2010-01-01</td><td>⋯</td><td>35</td><td>YEARS</td><td>M</td><td>WHITE                                    </td><td>HISPANIC OR LATINO    </td><td>SCRNFAIL</td><td>Screen Failure</td><td>SCRNFAIL</td><td>Screen Failure</td><td>USA</td></tr>\n",
              "\t<tr><td>CSG001</td><td>DM</td><td>CSG001-1002</td><td>1002</td><td>2010-01-01</td><td>2010-01-05</td><td>NA              </td><td>NA              </td><td>2010-01-01</td><td>2010-01-05</td><td>⋯</td><td>40</td><td>YEARS</td><td>F</td><td>MULTIPLE                                 </td><td>NOT HISPANIC OR LATINO</td><td>NOTASSGN</td><td>Not Assigned  </td><td>NOTASSGN</td><td>Not Assigned  </td><td>USA</td></tr>\n",
              "\t<tr><td>CSG001</td><td>DM</td><td>CSG001-1003</td><td>1003</td><td>2010-01-03</td><td>2010-01-05</td><td>NA              </td><td>NA              </td><td>2010-01-01</td><td>2010-01-05</td><td>⋯</td><td>40</td><td>YEARS</td><td>M</td><td>OTHER                                    </td><td>HISPANIC OR LATINO    </td><td>PBO     </td><td>Placebo       </td><td>NOTTRT  </td><td>Not Treated   </td><td>USA</td></tr>\n",
              "\t<tr><td>CSG001</td><td>DM</td><td>CSG001-1004</td><td>1004</td><td>2010-01-05</td><td>2010-02-28</td><td>2010-01-05T08:35</td><td>2010-01-25T08:45</td><td>2010-01-01</td><td>2010-02-28</td><td>⋯</td><td>38</td><td>YEARS</td><td>M</td><td>WHITE                                    </td><td>HISPANIC OR LATINO    </td><td>ACTIVE  </td><td>Active        </td><td>ACTIVE  </td><td>Active        </td><td>USA</td></tr>\n",
              "\t<tr><td>CSG001</td><td>DM</td><td>CSG001-1005</td><td>1005</td><td>2010-02-05</td><td>NA        </td><td>2010-02-05T08:46</td><td>2010-02-12T08:30</td><td>2010-01-15</td><td>2020-02-20</td><td>⋯</td><td>64</td><td>YEARS</td><td>M</td><td>AMERICAN INDIAN OR ALASKA NATIVE         </td><td>NOT HISPANIC OR LATINO</td><td>ACTIVE  </td><td>Active        </td><td>PBO     </td><td>Placebo       </td><td>USA</td></tr>\n",
              "\t<tr><td>CSG001</td><td>DM</td><td>CSG001-1006</td><td>1006</td><td>2010-03-02</td><td>2010-03-25</td><td>2010-03-02T08:30</td><td>2010-03-10T08:30</td><td>2010-02-18</td><td>2010-03-25</td><td>⋯</td><td>75</td><td>YEARS</td><td>F</td><td>NATIVE HAWAIIAN OR OTHER PACIFIC ISLANDER</td><td>NOT HISPANIC OR LATINO</td><td>PBO     </td><td>Placebo       </td><td>PBO     </td><td>Placebo       </td><td>USA</td></tr>\n",
              "\t<tr><td>CSG001</td><td>DM</td><td>CSG001-1007</td><td>1007</td><td>2010-04-15</td><td>2010-06-12</td><td>2010-04-15T08:23</td><td>2010-05-06T08:12</td><td>2010-04-04</td><td>2010-06-12</td><td>⋯</td><td>32</td><td>YEARS</td><td>M</td><td>UNKNOWN                                  </td><td>NOT HISPANIC OR LATINO</td><td>PBO     </td><td>Placebo       </td><td>PBO     </td><td>Placebo       </td><td>USA</td></tr>\n",
              "\t<tr><td>CSG001</td><td>DM</td><td>CSG001-1008</td><td>1008</td><td>2010-06-27</td><td>2010-08-18</td><td>2010-06-27T08:45</td><td>2010-07-11T09:20</td><td>2010-06-20</td><td>2010-08-18</td><td>⋯</td><td>83</td><td>YEARS</td><td>F</td><td>NOT REPORTED                             </td><td>NOT HISPANIC OR LATINO</td><td>ACTIVE  </td><td>Active        </td><td>ACTIVE  </td><td>Active        </td><td>USA</td></tr>\n",
              "</tbody>\n",
              "</table>\n"
            ],
            "text/latex": [
              "A tibble: 8 × 23\n",
              "\\begin{tabular}{lllllllllllllllllllll}\n",
              " STUDYID & DOMAIN & USUBJID & SUBJID & RFSTDTC & RFENDTC & RFXSTDTC & RFXENDTC & RFICDTC & RFPENDTC & ⋯ & AGE & AGEU & SEX & RACE & ETHNIC & ARMCD & ARM & ACTARMCD & ACTARM & COUNTRY\\\\\n",
              " <chr> & <chr> & <chr> & <chr> & <chr> & <chr> & <chr> & <chr> & <chr> & <chr> & ⋯ & <int> & <chr> & <chr> & <chr> & <chr> & <chr> & <chr> & <chr> & <chr> & <chr>\\\\\n",
              "\\hline\n",
              "\t CSG001 & DM & CSG001-1001 & 1001 & 2010-01-01 & NA         & NA               & NA               & 2010-01-01 & 2010-01-01 & ⋯ & 35 & YEARS & M & WHITE                                     & HISPANIC OR LATINO     & SCRNFAIL & Screen Failure & SCRNFAIL & Screen Failure & USA\\\\\n",
              "\t CSG001 & DM & CSG001-1002 & 1002 & 2010-01-01 & 2010-01-05 & NA               & NA               & 2010-01-01 & 2010-01-05 & ⋯ & 40 & YEARS & F & MULTIPLE                                  & NOT HISPANIC OR LATINO & NOTASSGN & Not Assigned   & NOTASSGN & Not Assigned   & USA\\\\\n",
              "\t CSG001 & DM & CSG001-1003 & 1003 & 2010-01-03 & 2010-01-05 & NA               & NA               & 2010-01-01 & 2010-01-05 & ⋯ & 40 & YEARS & M & OTHER                                     & HISPANIC OR LATINO     & PBO      & Placebo        & NOTTRT   & Not Treated    & USA\\\\\n",
              "\t CSG001 & DM & CSG001-1004 & 1004 & 2010-01-05 & 2010-02-28 & 2010-01-05T08:35 & 2010-01-25T08:45 & 2010-01-01 & 2010-02-28 & ⋯ & 38 & YEARS & M & WHITE                                     & HISPANIC OR LATINO     & ACTIVE   & Active         & ACTIVE   & Active         & USA\\\\\n",
              "\t CSG001 & DM & CSG001-1005 & 1005 & 2010-02-05 & NA         & 2010-02-05T08:46 & 2010-02-12T08:30 & 2010-01-15 & 2020-02-20 & ⋯ & 64 & YEARS & M & AMERICAN INDIAN OR ALASKA NATIVE          & NOT HISPANIC OR LATINO & ACTIVE   & Active         & PBO      & Placebo        & USA\\\\\n",
              "\t CSG001 & DM & CSG001-1006 & 1006 & 2010-03-02 & 2010-03-25 & 2010-03-02T08:30 & 2010-03-10T08:30 & 2010-02-18 & 2010-03-25 & ⋯ & 75 & YEARS & F & NATIVE HAWAIIAN OR OTHER PACIFIC ISLANDER & NOT HISPANIC OR LATINO & PBO      & Placebo        & PBO      & Placebo        & USA\\\\\n",
              "\t CSG001 & DM & CSG001-1007 & 1007 & 2010-04-15 & 2010-06-12 & 2010-04-15T08:23 & 2010-05-06T08:12 & 2010-04-04 & 2010-06-12 & ⋯ & 32 & YEARS & M & UNKNOWN                                   & NOT HISPANIC OR LATINO & PBO      & Placebo        & PBO      & Placebo        & USA\\\\\n",
              "\t CSG001 & DM & CSG001-1008 & 1008 & 2010-06-27 & 2010-08-18 & 2010-06-27T08:45 & 2010-07-11T09:20 & 2010-06-20 & 2010-08-18 & ⋯ & 83 & YEARS & F & NOT REPORTED                              & NOT HISPANIC OR LATINO & ACTIVE   & Active         & ACTIVE   & Active         & USA\\\\\n",
              "\\end{tabular}\n"
            ],
            "text/markdown": [
              "\n",
              "A tibble: 8 × 23\n",
              "\n",
              "| STUDYID &lt;chr&gt; | DOMAIN &lt;chr&gt; | USUBJID &lt;chr&gt; | SUBJID &lt;chr&gt; | RFSTDTC &lt;chr&gt; | RFENDTC &lt;chr&gt; | RFXSTDTC &lt;chr&gt; | RFXENDTC &lt;chr&gt; | RFICDTC &lt;chr&gt; | RFPENDTC &lt;chr&gt; | ⋯ ⋯ | AGE &lt;int&gt; | AGEU &lt;chr&gt; | SEX &lt;chr&gt; | RACE &lt;chr&gt; | ETHNIC &lt;chr&gt; | ARMCD &lt;chr&gt; | ARM &lt;chr&gt; | ACTARMCD &lt;chr&gt; | ACTARM &lt;chr&gt; | COUNTRY &lt;chr&gt; |\n",
              "|---|---|---|---|---|---|---|---|---|---|---|---|---|---|---|---|---|---|---|---|---|\n",
              "| CSG001 | DM | CSG001-1001 | 1001 | 2010-01-01 | NA         | NA               | NA               | 2010-01-01 | 2010-01-01 | ⋯ | 35 | YEARS | M | WHITE                                     | HISPANIC OR LATINO     | SCRNFAIL | Screen Failure | SCRNFAIL | Screen Failure | USA |\n",
              "| CSG001 | DM | CSG001-1002 | 1002 | 2010-01-01 | 2010-01-05 | NA               | NA               | 2010-01-01 | 2010-01-05 | ⋯ | 40 | YEARS | F | MULTIPLE                                  | NOT HISPANIC OR LATINO | NOTASSGN | Not Assigned   | NOTASSGN | Not Assigned   | USA |\n",
              "| CSG001 | DM | CSG001-1003 | 1003 | 2010-01-03 | 2010-01-05 | NA               | NA               | 2010-01-01 | 2010-01-05 | ⋯ | 40 | YEARS | M | OTHER                                     | HISPANIC OR LATINO     | PBO      | Placebo        | NOTTRT   | Not Treated    | USA |\n",
              "| CSG001 | DM | CSG001-1004 | 1004 | 2010-01-05 | 2010-02-28 | 2010-01-05T08:35 | 2010-01-25T08:45 | 2010-01-01 | 2010-02-28 | ⋯ | 38 | YEARS | M | WHITE                                     | HISPANIC OR LATINO     | ACTIVE   | Active         | ACTIVE   | Active         | USA |\n",
              "| CSG001 | DM | CSG001-1005 | 1005 | 2010-02-05 | NA         | 2010-02-05T08:46 | 2010-02-12T08:30 | 2010-01-15 | 2020-02-20 | ⋯ | 64 | YEARS | M | AMERICAN INDIAN OR ALASKA NATIVE          | NOT HISPANIC OR LATINO | ACTIVE   | Active         | PBO      | Placebo        | USA |\n",
              "| CSG001 | DM | CSG001-1006 | 1006 | 2010-03-02 | 2010-03-25 | 2010-03-02T08:30 | 2010-03-10T08:30 | 2010-02-18 | 2010-03-25 | ⋯ | 75 | YEARS | F | NATIVE HAWAIIAN OR OTHER PACIFIC ISLANDER | NOT HISPANIC OR LATINO | PBO      | Placebo        | PBO      | Placebo        | USA |\n",
              "| CSG001 | DM | CSG001-1007 | 1007 | 2010-04-15 | 2010-06-12 | 2010-04-15T08:23 | 2010-05-06T08:12 | 2010-04-04 | 2010-06-12 | ⋯ | 32 | YEARS | M | UNKNOWN                                   | NOT HISPANIC OR LATINO | PBO      | Placebo        | PBO      | Placebo        | USA |\n",
              "| CSG001 | DM | CSG001-1008 | 1008 | 2010-06-27 | 2010-08-18 | 2010-06-27T08:45 | 2010-07-11T09:20 | 2010-06-20 | 2010-08-18 | ⋯ | 83 | YEARS | F | NOT REPORTED                              | NOT HISPANIC OR LATINO | ACTIVE   | Active         | ACTIVE   | Active         | USA |\n",
              "\n"
            ],
            "text/plain": [
              "  STUDYID DOMAIN USUBJID     SUBJID RFSTDTC    RFENDTC    RFXSTDTC        \n",
              "1 CSG001  DM     CSG001-1001 1001   2010-01-01 NA         NA              \n",
              "2 CSG001  DM     CSG001-1002 1002   2010-01-01 2010-01-05 NA              \n",
              "3 CSG001  DM     CSG001-1003 1003   2010-01-03 2010-01-05 NA              \n",
              "4 CSG001  DM     CSG001-1004 1004   2010-01-05 2010-02-28 2010-01-05T08:35\n",
              "5 CSG001  DM     CSG001-1005 1005   2010-02-05 NA         2010-02-05T08:46\n",
              "6 CSG001  DM     CSG001-1006 1006   2010-03-02 2010-03-25 2010-03-02T08:30\n",
              "7 CSG001  DM     CSG001-1007 1007   2010-04-15 2010-06-12 2010-04-15T08:23\n",
              "8 CSG001  DM     CSG001-1008 1008   2010-06-27 2010-08-18 2010-06-27T08:45\n",
              "  RFXENDTC         RFICDTC    RFPENDTC   ⋯ AGE AGEU  SEX\n",
              "1 NA               2010-01-01 2010-01-01 ⋯ 35  YEARS M  \n",
              "2 NA               2010-01-01 2010-01-05 ⋯ 40  YEARS F  \n",
              "3 NA               2010-01-01 2010-01-05 ⋯ 40  YEARS M  \n",
              "4 2010-01-25T08:45 2010-01-01 2010-02-28 ⋯ 38  YEARS M  \n",
              "5 2010-02-12T08:30 2010-01-15 2020-02-20 ⋯ 64  YEARS M  \n",
              "6 2010-03-10T08:30 2010-02-18 2010-03-25 ⋯ 75  YEARS F  \n",
              "7 2010-05-06T08:12 2010-04-04 2010-06-12 ⋯ 32  YEARS M  \n",
              "8 2010-07-11T09:20 2010-06-20 2010-08-18 ⋯ 83  YEARS F  \n",
              "  RACE                                      ETHNIC                 ARMCD   \n",
              "1 WHITE                                     HISPANIC OR LATINO     SCRNFAIL\n",
              "2 MULTIPLE                                  NOT HISPANIC OR LATINO NOTASSGN\n",
              "3 OTHER                                     HISPANIC OR LATINO     PBO     \n",
              "4 WHITE                                     HISPANIC OR LATINO     ACTIVE  \n",
              "5 AMERICAN INDIAN OR ALASKA NATIVE          NOT HISPANIC OR LATINO ACTIVE  \n",
              "6 NATIVE HAWAIIAN OR OTHER PACIFIC ISLANDER NOT HISPANIC OR LATINO PBO     \n",
              "7 UNKNOWN                                   NOT HISPANIC OR LATINO PBO     \n",
              "8 NOT REPORTED                              NOT HISPANIC OR LATINO ACTIVE  \n",
              "  ARM            ACTARMCD ACTARM         COUNTRY\n",
              "1 Screen Failure SCRNFAIL Screen Failure USA    \n",
              "2 Not Assigned   NOTASSGN Not Assigned   USA    \n",
              "3 Placebo        NOTTRT   Not Treated    USA    \n",
              "4 Active         ACTIVE   Active         USA    \n",
              "5 Active         PBO      Placebo        USA    \n",
              "6 Placebo        PBO      Placebo        USA    \n",
              "7 Placebo        PBO      Placebo        USA    \n",
              "8 Active         ACTIVE   Active         USA    "
            ]
          },
          "metadata": {},
          "output_type": "display_data"
        }
      ],
      "source": [
        "View(dm)"
      ]
    },
    {
      "cell_type": "code",
      "execution_count": null,
      "id": "dd6368e1-4f5e-40d9-a53a-42d08bd6128c",
      "metadata": {
        "id": "dd6368e1-4f5e-40d9-a53a-42d08bd6128c"
      },
      "outputs": [],
      "source": [
        "save(dm, file = \"C:/Users/Waraba/Desktop/Ckinical Trial Training Materiels/SDTM_withR/SDTM_EXAMPLE/SDTM_FINAL_DATA/dm.RData\")"
      ]
    },
    {
      "cell_type": "code",
      "execution_count": null,
      "id": "75e431cb-f50e-4a41-943b-e5756194bd83",
      "metadata": {
        "id": "75e431cb-f50e-4a41-943b-e5756194bd83"
      },
      "outputs": [],
      "source": [
        "write.csv(dm, \"C:/Users/Waraba/Desktop/Ckinical Trial Training Materiels/SDTM_withR/SDTM_EXAMPLE/SDTM_FINAL_DATA/dm.csv\", row.names = FALSE)"
      ]
    },
    {
      "cell_type": "code",
      "execution_count": null,
      "id": "dddc4857-9662-448b-bc7f-08847ea26720",
      "metadata": {
        "id": "dddc4857-9662-448b-bc7f-08847ea26720"
      },
      "outputs": [],
      "source": [
        "write_xpt(dm, \"dm.xpt\")"
      ]
    },
    {
      "cell_type": "code",
      "execution_count": null,
      "id": "3423f477-fb05-4104-88b6-364900cd9a22",
      "metadata": {
        "id": "3423f477-fb05-4104-88b6-364900cd9a22",
        "outputId": "03fb740e-003e-4130-c067-6e335f381e68"
      },
      "outputs": [
        {
          "data": {
            "text/html": [
              "<style>\n",
              ".list-inline {list-style: none; margin:0; padding: 0}\n",
              ".list-inline>li {display: inline-block}\n",
              ".list-inline>li:not(:last-child)::after {content: \"\\00b7\"; padding: 0 .5ex}\n",
              "</style>\n",
              "<ol class=list-inline><li>'STUDYID'</li><li>'DOMAIN'</li><li>'USUBJID'</li><li>'SUBJID'</li><li>'RFSTDTC'</li><li>'RFENDTC'</li><li>'RFXSTDTC'</li><li>'RFXENDTC'</li><li>'RFICDTC'</li><li>'RFPENDTC'</li><li>'DTHDTC'</li><li>'DTHFL'</li><li>'SITEID'</li><li>'AGE'</li><li>'AGEU'</li><li>'SEX'</li><li>'RACE'</li><li>'ETHNIC'</li><li>'ARMCD'</li><li>'ARM'</li><li>'ACTARMCD'</li><li>'ACTARM'</li><li>'COUNTRY'</li></ol>\n"
            ],
            "text/latex": [
              "\\begin{enumerate*}\n",
              "\\item 'STUDYID'\n",
              "\\item 'DOMAIN'\n",
              "\\item 'USUBJID'\n",
              "\\item 'SUBJID'\n",
              "\\item 'RFSTDTC'\n",
              "\\item 'RFENDTC'\n",
              "\\item 'RFXSTDTC'\n",
              "\\item 'RFXENDTC'\n",
              "\\item 'RFICDTC'\n",
              "\\item 'RFPENDTC'\n",
              "\\item 'DTHDTC'\n",
              "\\item 'DTHFL'\n",
              "\\item 'SITEID'\n",
              "\\item 'AGE'\n",
              "\\item 'AGEU'\n",
              "\\item 'SEX'\n",
              "\\item 'RACE'\n",
              "\\item 'ETHNIC'\n",
              "\\item 'ARMCD'\n",
              "\\item 'ARM'\n",
              "\\item 'ACTARMCD'\n",
              "\\item 'ACTARM'\n",
              "\\item 'COUNTRY'\n",
              "\\end{enumerate*}\n"
            ],
            "text/markdown": [
              "1. 'STUDYID'\n",
              "2. 'DOMAIN'\n",
              "3. 'USUBJID'\n",
              "4. 'SUBJID'\n",
              "5. 'RFSTDTC'\n",
              "6. 'RFENDTC'\n",
              "7. 'RFXSTDTC'\n",
              "8. 'RFXENDTC'\n",
              "9. 'RFICDTC'\n",
              "10. 'RFPENDTC'\n",
              "11. 'DTHDTC'\n",
              "12. 'DTHFL'\n",
              "13. 'SITEID'\n",
              "14. 'AGE'\n",
              "15. 'AGEU'\n",
              "16. 'SEX'\n",
              "17. 'RACE'\n",
              "18. 'ETHNIC'\n",
              "19. 'ARMCD'\n",
              "20. 'ARM'\n",
              "21. 'ACTARMCD'\n",
              "22. 'ACTARM'\n",
              "23. 'COUNTRY'\n",
              "\n",
              "\n"
            ],
            "text/plain": [
              " [1] \"STUDYID\"  \"DOMAIN\"   \"USUBJID\"  \"SUBJID\"   \"RFSTDTC\"  \"RFENDTC\" \n",
              " [7] \"RFXSTDTC\" \"RFXENDTC\" \"RFICDTC\"  \"RFPENDTC\" \"DTHDTC\"   \"DTHFL\"   \n",
              "[13] \"SITEID\"   \"AGE\"      \"AGEU\"     \"SEX\"      \"RACE\"     \"ETHNIC\"  \n",
              "[19] \"ARMCD\"    \"ARM\"      \"ACTARMCD\" \"ACTARM\"   \"COUNTRY\" "
            ]
          },
          "metadata": {},
          "output_type": "display_data"
        }
      ],
      "source": [
        "colnames(dm)"
      ]
    },
    {
      "cell_type": "markdown",
      "id": "7df72c79-9526-4fee-8214-58d615c48a37",
      "metadata": {
        "id": "7df72c79-9526-4fee-8214-58d615c48a37"
      },
      "source": [
        "## 📬 Contacts\n",
        "\n",
        "Your comments and questions are valued and encouraged. Please feel free to contact the author:\n",
        "\n",
        "**Alpha Traore**  \n",
        "Sr Data Scientist  \n",
        "Biostat Consultants Inc.  \n",
        "312 Ridgewood Pl  \n",
        "Fort Thomas, KY 41075  \n",
        "📧 alpha.s.traore@wmich.edu  \n",
        "🔗 [LinkedIn Profile] (https://www.linkedin.com/in/alphatraore)"
      ]
    },
    {
      "cell_type": "code",
      "execution_count": null,
      "id": "4ff13937-bb4c-4c29-836e-3d034f05fa61",
      "metadata": {
        "id": "4ff13937-bb4c-4c29-836e-3d034f05fa61"
      },
      "outputs": [],
      "source": []
    }
  ],
  "metadata": {
    "kernelspec": {
      "display_name": "R",
      "language": "R",
      "name": "ir"
    },
    "language_info": {
      "codemirror_mode": "r",
      "file_extension": ".r",
      "mimetype": "text/x-r-source",
      "name": "R",
      "pygments_lexer": "r",
      "version": "4.2.1"
    },
    "colab": {
      "provenance": [],
      "include_colab_link": true
    }
  },
  "nbformat": 4,
  "nbformat_minor": 5
}